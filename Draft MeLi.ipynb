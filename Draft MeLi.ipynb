{
 "cells": [
  {
   "cell_type": "code",
   "execution_count": 1,
   "metadata": {},
   "outputs": [
    {
     "ename": "NameError",
     "evalue": "name 'spacy' is not defined",
     "output_type": "error",
     "traceback": [
      "\u001b[0;31m---------------------------------------------------------------------------\u001b[0m",
      "\u001b[0;31mNameError\u001b[0m                                 Traceback (most recent call last)",
      "\u001b[0;32m<ipython-input-1-f86a9534955b>\u001b[0m in \u001b[0;36m<module>\u001b[0;34m\u001b[0m\n\u001b[1;32m     14\u001b[0m \u001b[0;32mfrom\u001b[0m \u001b[0mnltk\u001b[0m\u001b[0;34m.\u001b[0m\u001b[0mstem\u001b[0m \u001b[0;32mimport\u001b[0m \u001b[0mPorterStemmer\u001b[0m\u001b[0;34m\u001b[0m\u001b[0;34m\u001b[0m\u001b[0m\n\u001b[1;32m     15\u001b[0m \u001b[0;32mfrom\u001b[0m \u001b[0mnltk\u001b[0m\u001b[0;34m.\u001b[0m\u001b[0mstem\u001b[0m \u001b[0;32mimport\u001b[0m \u001b[0mSnowballStemmer\u001b[0m\u001b[0;34m\u001b[0m\u001b[0;34m\u001b[0m\u001b[0m\n\u001b[0;32m---> 16\u001b[0;31m \u001b[0mnlp_es\u001b[0m \u001b[0;34m=\u001b[0m \u001b[0mspacy\u001b[0m\u001b[0;34m.\u001b[0m\u001b[0mload\u001b[0m\u001b[0;34m(\u001b[0m\u001b[0;34m\"es\"\u001b[0m\u001b[0;34m,\u001b[0m \u001b[0mdisable\u001b[0m\u001b[0;34m=\u001b[0m\u001b[0;34m[\u001b[0m\u001b[0;34m'parser'\u001b[0m\u001b[0;34m,\u001b[0m \u001b[0;34m'tagger'\u001b[0m\u001b[0;34m,\u001b[0m \u001b[0;34m'ner'\u001b[0m\u001b[0;34m]\u001b[0m\u001b[0;34m)\u001b[0m\u001b[0;34m\u001b[0m\u001b[0;34m\u001b[0m\u001b[0m\n\u001b[0m\u001b[1;32m     17\u001b[0m \u001b[0mstops_es\u001b[0m \u001b[0;34m=\u001b[0m \u001b[0mstopwords\u001b[0m\u001b[0;34m.\u001b[0m\u001b[0mwords\u001b[0m\u001b[0;34m(\u001b[0m\u001b[0;34m\"spanish\"\u001b[0m\u001b[0;34m)\u001b[0m\u001b[0;34m\u001b[0m\u001b[0;34m\u001b[0m\u001b[0m\n\u001b[1;32m     18\u001b[0m \u001b[0;34m\u001b[0m\u001b[0m\n",
      "\u001b[0;31mNameError\u001b[0m: name 'spacy' is not defined"
     ]
    }
   ],
   "source": [
    "import pandas as pd\n",
    "import numpy as np\n",
    "import pandas_profiling\n",
    "\n",
    "import swifter\n",
    "\n",
    "import matplotlib.pyplot as plt\n",
    "import seaborn as sn\n",
    "%matplotlib inline\n",
    "\n",
    "import nltk\n",
    "from nltk import wordpunct_tokenize\n",
    "from nltk.corpus import stopwords\n",
    "from nltk.stem import PorterStemmer\n",
    "from nltk.stem import SnowballStemmer\n",
    "import spacy\n",
    "nlp_es = spacy.load(\"es\", disable=['parser', 'tagger', 'ner'])\n",
    "stops_es = stopwords.words(\"spanish\")\n",
    "\n",
    "import unidecode\n",
    "\n",
    "import dask\n",
    "import dask.distributed\n",
    "\n",
    "\n",
    "\n",
    "import re\n",
    "\n",
    "from sklearn.feature_extraction.text import CountVectorizer, TfidfTransformer, TfidfVectorizer\n",
    "\n",
    "from dask_ml.model_selection import train_test_split\n",
    "from sklearn.model_selection import GridSearchCV\n",
    "#from dask_ml.model_selection import GridSearchCV\n",
    "from sklearn.svm import SVC\n",
    "from sklearn.linear_model import LogisticRegression\n",
    "from sklearn.ensemble import AdaBoostClassifier, RandomForestClassifier, GradientBoostingClassifier\n",
    "from sklearn.metrics import balanced_accuracy_score\n",
    "\n",
    "import joblib\n",
    "from joblib import dump, load\n",
    "\n",
    "from dask.distributed import Client\n"
   ]
  },
  {
   "cell_type": "code",
   "execution_count": 145,
   "metadata": {},
   "outputs": [],
   "source": [
    "\n",
    "def normalize(comment, lowercase, remove_stopwords, nlp, stops):\n",
    "    if lowercase:\n",
    "        comment = comment.lower()\n",
    "    comment = nlp(comment)\n",
    "    lemmatized = list()\n",
    "    for word in comment:\n",
    "        lemma = word.lemma_.strip()  # get the lemma\n",
    "        lemma = unidecode.unidecode(lemma)  # Remove accents\n",
    "        lemma = re.sub(r'\\d+', '',lemma)  # Remove numbers\n",
    "        lemma = re.sub(r'_', '', lemma)\n",
    "        if lemma:\n",
    "            if not remove_stopwords or (remove_stopwords and lemma not in stops):\n",
    "                lemmatized.append(lemma)\n",
    "    return \" \".join(lemmatized)\n",
    "\n",
    "\n"
   ]
  },
  {
   "cell_type": "code",
   "execution_count": 3,
   "metadata": {},
   "outputs": [
    {
     "data": {
      "application/vnd.jupyter.widget-view+json": {
       "model_id": "f423c93eb6c84f0aa60743c6cc39743b",
       "version_major": 2,
       "version_minor": 0
      },
      "text/plain": [
       "VBox(children=(HTML(value='<h2>LocalCluster</h2>'), HBox(children=(HTML(value='\\n<div>\\n  <style scoped>\\n    …"
      ]
     },
     "metadata": {},
     "output_type": "display_data"
    }
   ],
   "source": [
    "c = Client()\n",
    "c.cluster"
   ]
  },
  {
   "cell_type": "code",
   "execution_count": 30,
   "metadata": {},
   "outputs": [
    {
     "data": {
      "text/html": [
       "<div>\n",
       "<style scoped>\n",
       "    .dataframe tbody tr th:only-of-type {\n",
       "        vertical-align: middle;\n",
       "    }\n",
       "\n",
       "    .dataframe tbody tr th {\n",
       "        vertical-align: top;\n",
       "    }\n",
       "\n",
       "    .dataframe thead th {\n",
       "        text-align: right;\n",
       "    }\n",
       "</style>\n",
       "<table border=\"1\" class=\"dataframe\">\n",
       "  <thead>\n",
       "    <tr style=\"text-align: right;\">\n",
       "      <th></th>\n",
       "      <th>title</th>\n",
       "      <th>label_quality</th>\n",
       "      <th>language</th>\n",
       "      <th>category</th>\n",
       "    </tr>\n",
       "  </thead>\n",
       "  <tbody>\n",
       "    <tr>\n",
       "      <th>8971758</th>\n",
       "      <td>Kit 5u 245/70 R16 Bridgestone Dueler H/t684iii...</td>\n",
       "      <td>unreliable</td>\n",
       "      <td>spanish</td>\n",
       "      <td>AUTOMOTIVE_TIRES</td>\n",
       "    </tr>\n",
       "    <tr>\n",
       "      <th>7641944</th>\n",
       "      <td>Cortina Sicilia 3,00 X 2,70</td>\n",
       "      <td>unreliable</td>\n",
       "      <td>portuguese</td>\n",
       "      <td>INDOOR_CURTAINS_AND_BLINDS</td>\n",
       "    </tr>\n",
       "    <tr>\n",
       "      <th>4353975</th>\n",
       "      <td>Adesivo Protetor De Tanque Tank Pad Bomb Stick...</td>\n",
       "      <td>reliable</td>\n",
       "      <td>portuguese</td>\n",
       "      <td>VEHICLE_STICKERS</td>\n",
       "    </tr>\n",
       "    <tr>\n",
       "      <th>13274329</th>\n",
       "      <td>Cubiertas Run Flat 235/55/19</td>\n",
       "      <td>unreliable</td>\n",
       "      <td>spanish</td>\n",
       "      <td>AUTOMOTIVE_TIRES</td>\n",
       "    </tr>\n",
       "    <tr>\n",
       "      <th>4641338</th>\n",
       "      <td>Tapa De Consola Central Peugeot 207</td>\n",
       "      <td>unreliable</td>\n",
       "      <td>spanish</td>\n",
       "      <td>CAR_CENTER_CONSOLES</td>\n",
       "    </tr>\n",
       "    <tr>\n",
       "      <th>11778441</th>\n",
       "      <td>Kit C/6 Adoçante Linea Sucralose Pó C/50 Sachets</td>\n",
       "      <td>unreliable</td>\n",
       "      <td>portuguese</td>\n",
       "      <td>SWEETENERS</td>\n",
       "    </tr>\n",
       "    <tr>\n",
       "      <th>10982495</th>\n",
       "      <td>Equalizador Grafico Ge 400 Signus</td>\n",
       "      <td>unreliable</td>\n",
       "      <td>portuguese</td>\n",
       "      <td>EQUALIZERS</td>\n",
       "    </tr>\n",
       "    <tr>\n",
       "      <th>738864</th>\n",
       "      <td>Autitos Hot Wheels + Maletín Original</td>\n",
       "      <td>unreliable</td>\n",
       "      <td>spanish</td>\n",
       "      <td>DIECAST_VEHICLES</td>\n",
       "    </tr>\n",
       "    <tr>\n",
       "      <th>3822313</th>\n",
       "      <td>Short De Malla Verano 2017</td>\n",
       "      <td>unreliable</td>\n",
       "      <td>spanish</td>\n",
       "      <td>WOMEN_SWIMWEAR</td>\n",
       "    </tr>\n",
       "    <tr>\n",
       "      <th>8380495</th>\n",
       "      <td>Pileta Inflable 305 X 76 57270 Bestway Oferta ...</td>\n",
       "      <td>unreliable</td>\n",
       "      <td>spanish</td>\n",
       "      <td>POOL_INFLATABLES</td>\n",
       "    </tr>\n",
       "  </tbody>\n",
       "</table>\n",
       "</div>"
      ],
      "text/plain": [
       "                                                      title label_quality  \\\n",
       "8971758   Kit 5u 245/70 R16 Bridgestone Dueler H/t684iii...    unreliable   \n",
       "7641944                        Cortina Sicilia 3,00 X 2,70     unreliable   \n",
       "4353975   Adesivo Protetor De Tanque Tank Pad Bomb Stick...      reliable   \n",
       "13274329                       Cubiertas Run Flat 235/55/19    unreliable   \n",
       "4641338                 Tapa De Consola Central Peugeot 207    unreliable   \n",
       "11778441   Kit C/6 Adoçante Linea Sucralose Pó C/50 Sachets    unreliable   \n",
       "10982495                  Equalizador Grafico Ge 400 Signus    unreliable   \n",
       "738864                Autitos Hot Wheels + Maletín Original    unreliable   \n",
       "3822313                          Short De Malla Verano 2017    unreliable   \n",
       "8380495   Pileta Inflable 305 X 76 57270 Bestway Oferta ...    unreliable   \n",
       "\n",
       "            language                    category  \n",
       "8971758      spanish            AUTOMOTIVE_TIRES  \n",
       "7641944   portuguese  INDOOR_CURTAINS_AND_BLINDS  \n",
       "4353975   portuguese            VEHICLE_STICKERS  \n",
       "13274329     spanish            AUTOMOTIVE_TIRES  \n",
       "4641338      spanish         CAR_CENTER_CONSOLES  \n",
       "11778441  portuguese                  SWEETENERS  \n",
       "10982495  portuguese                  EQUALIZERS  \n",
       "738864       spanish            DIECAST_VEHICLES  \n",
       "3822313      spanish              WOMEN_SWIMWEAR  \n",
       "8380495      spanish            POOL_INFLATABLES  "
      ]
     },
     "execution_count": 30,
     "metadata": {},
     "output_type": "execute_result"
    }
   ],
   "source": [
    "\n",
    "df = pd.read_csv('train.csv', dtype = {'title':'object', 'label_quality':'category', 'language':'category', 'category':'category'})\n",
    "df_test = pd.read_csv('test.csv', dtype={'title':'object','language':'category'})\n",
    "df.sample(10)"
   ]
  },
  {
   "cell_type": "code",
   "execution_count": 40,
   "metadata": {},
   "outputs": [
    {
     "data": {
      "text/html": [
       "<div>\n",
       "<style scoped>\n",
       "    .dataframe tbody tr th:only-of-type {\n",
       "        vertical-align: middle;\n",
       "    }\n",
       "\n",
       "    .dataframe tbody tr th {\n",
       "        vertical-align: top;\n",
       "    }\n",
       "\n",
       "    .dataframe thead th {\n",
       "        text-align: right;\n",
       "    }\n",
       "</style>\n",
       "<table border=\"1\" class=\"dataframe\">\n",
       "  <thead>\n",
       "    <tr style=\"text-align: right;\">\n",
       "      <th></th>\n",
       "      <th>title</th>\n",
       "      <th>label_quality</th>\n",
       "      <th>language</th>\n",
       "      <th>category</th>\n",
       "    </tr>\n",
       "  </thead>\n",
       "  <tbody>\n",
       "    <tr>\n",
       "      <th>0</th>\n",
       "      <td>Hidrolavadora Lavor One 120 Bar 1700w  Bomba A...</td>\n",
       "      <td>unreliable</td>\n",
       "      <td>spanish</td>\n",
       "      <td>ELECTRIC_PRESSURE_WASHERS</td>\n",
       "    </tr>\n",
       "  </tbody>\n",
       "</table>\n",
       "</div>"
      ],
      "text/plain": [
       "                                               title label_quality language  \\\n",
       "0  Hidrolavadora Lavor One 120 Bar 1700w  Bomba A...    unreliable  spanish   \n",
       "\n",
       "                    category  \n",
       "0  ELECTRIC_PRESSURE_WASHERS  "
      ]
     },
     "execution_count": 40,
     "metadata": {},
     "output_type": "execute_result"
    }
   ],
   "source": [
    "df.head(5)"
   ]
  },
  {
   "cell_type": "code",
   "execution_count": 26,
   "metadata": {},
   "outputs": [
    {
     "name": "stdout",
     "output_type": "stream",
     "text": [
      "CPU times: user 35 µs, sys: 104 µs, total: 139 µs\n",
      "Wall time: 144 µs\n"
     ]
    },
    {
     "data": {
      "text/plain": [
       "(20000000, 4)"
      ]
     },
     "execution_count": 26,
     "metadata": {},
     "output_type": "execute_result"
    }
   ],
   "source": [
    "%time df.shape"
   ]
  },
  {
   "cell_type": "code",
   "execution_count": 28,
   "metadata": {},
   "outputs": [
    {
     "name": "stdout",
     "output_type": "stream",
     "text": [
      "CPU times: user 2.83 s, sys: 342 ms, total: 3.17 s\n",
      "Wall time: 3.26 s\n"
     ]
    },
    {
     "data": {
      "text/plain": [
       "PANTS                                   35973\n",
       "COFFEE_MAKERS                           35104\n",
       "BABY_CAR_SEATS                          34163\n",
       "MUSICAL_KEYBOARDS                       33222\n",
       "MATTRESSES                              32967\n",
       "PUREBRED_DOGS                           32928\n",
       "RANGES                                  32645\n",
       "REFRIGERATORS                           32635\n",
       "MOTORCYCLE_JACKETS                      32615\n",
       "HAIR_CLIPPERS                           32372\n",
       "SHORTS                                  31685\n",
       "SUITCASES                               31580\n",
       "MEMORY_CARDS                            31564\n",
       "WINES                                   31399\n",
       "ROLLER_SKATES                           31371\n",
       "BABY_STROLLERS                          31353\n",
       "SEWING_MACHINES                         31129\n",
       "ELECTRIC_DRILLS                         30820\n",
       "KITCHEN_SINKS                           30635\n",
       "WALL_CLOCKS                             30600\n",
       "FLASHLIGHTS                             29960\n",
       "CV_JOINTS                               29676\n",
       "SWEATERS_AND_CARDIGANS                  29608\n",
       "BOOKS                                   29464\n",
       "PORTABLE_GENERATORS                     29384\n",
       "BOOKCASES                               29372\n",
       "AIR_COMPRESSORS                         29259\n",
       "TV_AND_MONITOR_MOUNTS                   29214\n",
       "CHOCOLATES                              29038\n",
       "RACQUETS                                28980\n",
       "                                        ...  \n",
       "STORE_SHOPPING_CARTS                      593\n",
       "ANGLE_CLAMPS                              577\n",
       "INDUSTRIAL_BLENDERS                       569\n",
       "INFLATABLE_SLIDES                         569\n",
       "FOOD_AND_DRINK_COLORINGS                  562\n",
       "WAITER_CALLING_SYSTEMS                    544\n",
       "FOOT_BATH_MASSAGERS                       519\n",
       "HARD_DRIVE_AND_SSD_ADAPTER_CABLES         507\n",
       "3D_PENS                                   507\n",
       "CANOES                                    486\n",
       "TILE_AND_CLADDING_ADHESIVE_MIXTURES       484\n",
       "CHECKOUT_COUNTERS                         431\n",
       "SAPO_GAMES                                426\n",
       "CPR_TRAINING_MANIKINS                     416\n",
       "WAKEBOARD_BOOTS                           387\n",
       "MARTIAL_ARTS_CHEST_GUARDS                 327\n",
       "LENTILS                                   313\n",
       "PLATE_COMPACTORS                          305\n",
       "BOXING_SPEED_BAGS                         288\n",
       "MANUAL_TROLLEYS                           277\n",
       "SCALE_RULERS                              266\n",
       "QUEUE_STANCHIONS                          253\n",
       "STADIOMETERS                              229\n",
       "HONEY_EXTRACTORS                          216\n",
       "FORCE_GAUGES                              213\n",
       "CONSTRUCTION_LIME_BAGS                    206\n",
       "COLD_FOOD_AND_DRINK_VENDING_MACHINES      162\n",
       "PAINTBALL_SMOKE_GRENADES                  154\n",
       "COMMERCIAL_POPCORN_MACHINES               141\n",
       "HAMBURGER_FORMERS                         109\n",
       "Name: category, Length: 1588, dtype: int64"
      ]
     },
     "execution_count": 28,
     "metadata": {},
     "output_type": "execute_result"
    }
   ],
   "source": [
    "%time df.category.value_counts()"
   ]
  },
  {
   "cell_type": "code",
   "execution_count": 78,
   "metadata": {},
   "outputs": [
    {
     "data": {
      "image/png": "[encoded data removed]",
      "text/plain": [
       "<Figure size 720x1080 with 2 Axes>"
      ]
     },
     "metadata": {},
     "output_type": "display_data"
    }
   ],
   "source": [
    "fig, ax = plt.subplots(2,1, figsize = (10,15))\n",
    "\n",
    "for i, (col_name, col) in enumerate(df[['label_quality', 'language']].iteritems()):\n",
    "    plt.title(col_name)\n",
    "    sn.countplot(col, ax = ax[i]);\n",
    "    sn.despine()\n",
    "    "
   ]
  },
  {
   "cell_type": "code",
   "execution_count": 85,
   "metadata": {},
   "outputs": [
    {
     "name": "stdout",
     "output_type": "stream",
     "text": [
      "unreliable    18815755\n",
      "reliable       1184245\n",
      "Name: label_quality, dtype: int64\n",
      "spanish       10000000\n",
      "portuguese    10000000\n",
      "Name: language, dtype: int64\n"
     ]
    }
   ],
   "source": [
    "print(df['label_quality'].value_counts())\n",
    "print(df['language'].value_counts())"
   ]
  },
  {
   "cell_type": "code",
   "execution_count": 84,
   "metadata": {},
   "outputs": [
    {
     "data": {
      "image/png": "[encoded data removed]",
      "text/plain": [
       "<Figure size 720x1080 with 2 Axes>"
      ]
     },
     "metadata": {},
     "output_type": "display_data"
    }
   ],
   "source": [
    "plt.rcParams['figure.figsize'] = (10,15)\n",
    "#top_100_cats = df[df['category'].isin(df['category'].value_counts()[:100].index)]\n",
    "\n",
    "top_cats_spanish = df[df['language'] == 'spanish']['category'].value_counts()[:100].index\n",
    "top_cats_portuguese = df[df['language'] == 'portuguese']['category'].value_counts()[:100].index\n",
    "\n",
    "plt.subplot(1,2,1)\n",
    "plt.title('Categorías con mayor frecuencia\\nEspañol', size = 15)\n",
    "sn.countplot(y = 'category',\n",
    "             order = top_cats_spanish,\n",
    "             data=df[df['language'] == 'spanish']);\n",
    "\n",
    "plt.subplot(1,2,2)\n",
    "plt.title('Categorías con mayor frecuencia\\nPortugues', size = 15)\n",
    "sn.countplot(y = 'category',\n",
    "             order = top_cats_portuguese,\n",
    "             data=df[df['language'] == 'portuguese']);\n",
    "\n",
    "sn.despine()\n",
    "plt.tight_layout()"
   ]
  },
  {
   "cell_type": "markdown",
   "metadata": {},
   "source": [
    "Categorías comunes entre las top 100 categorías más comunes para español y portugués:"
   ]
  },
  {
   "cell_type": "code",
   "execution_count": 81,
   "metadata": {},
   "outputs": [
    {
     "name": "stdout",
     "output_type": "stream",
     "text": [
      "Index(['REFRIGERATORS', 'BABY_CAR_SEATS', 'MUSICAL_KEYBOARDS', 'RANGES',\n",
      "       'COFFEE_MAKERS', 'PANTS', 'SEWING_MACHINES', 'WINES', 'HAIR_CLIPPERS',\n",
      "       'KITCHEN_SINKS', 'ELECTRIC_DRILLS', 'MATTRESSES', 'SHORTS',\n",
      "       'MOTORCYCLE_JACKETS', 'BOOKCASES'],\n",
      "      dtype='object')\n",
      "\n",
      "Cantidad de categorías en común: 15\n"
     ]
    }
   ],
   "source": [
    "common_cats = top_catcs_spanish.intersection(top_cats_portuguese)\n",
    "print(common_cats)\n",
    "print('\\nCantidad de categorías en común: {}'.format(len(common_cats)))"
   ]
  },
  {
   "cell_type": "markdown",
   "metadata": {},
   "source": [
    "### Notas:\n",
    "* **Problema:** Al parecer no hay un formato de redacción de clases único, hay clases en los que se reemplazo \" \" por \"_\" y otras en las que se conservó el espacio.\n",
    "> **Solución:** Usar regex para estandarizar esto.\n",
    "> Revisión: Esta todo Ok,al parecer miré mal, no hay ninguna clase que use \" \".\n",
    "\n",
    "* **Idea:** A partir de los nombres de las categorías, limpiar 'and' y 'or' y agregarlas como palabras a la matriz de frecuencias de términos.\n",
    "\n",
    "* Va a haber que hacer stemming porque hay casos en que el título tiene palabras claves en plural, por ejemplo: 'conectores' --> 'conector'\n",
    "\n",
    "* Usar spacy para el nlp\n"
   ]
  },
  {
   "cell_type": "code",
   "execution_count": 36,
   "metadata": {},
   "outputs": [
    {
     "data": {
      "text/plain": [
       "MOTORCYCLE_JACKETS                                  32615\n",
       "MOTORCYCLE_BATTERIES                                26966\n",
       "MOTORCYCLE_GLOVES                                   26436\n",
       "MOTORCYCLE_FENDERS                                  26408\n",
       "MOTORCYCLE_DISTRIBUTION_CHAINS                      26275\n",
       "MOTORCYCLE_HELMETS                                  24627\n",
       "MOTORCYCLE_JERSEYS                                  22406\n",
       "MOTORCYCLE_FAIRINGS                                 21964\n",
       "MOTORCYCLE_HEADLIGHTS                               20129\n",
       "MOTORCYCLE_TRANSMISSION_KITS                        20052\n",
       "MOTORCYCLE_CRASH_BARS                               20018\n",
       "MOTORCYCLE_CARBURETORS                              19843\n",
       "MOTORCYCLE_CASES                                    19293\n",
       "MOTORCYCLE_SEATS                                    19259\n",
       "MOTORCYCLE_TRANSMISSION_CROWNS                      19102\n",
       "GATE_MOTORS                                         18635\n",
       "MOTORCYCLE_TURN_SIGNAL_LIGHTS                       18006\n",
       "MOTORCYCLE_RAIN_SUITS                               17820\n",
       "MOTORCYCLE_STARTER_MOTORS                           17781\n",
       "MOTORCYCLE_TIRES                                    17673\n",
       "MOTORCYCLE_GASOLINE_TANKS                           16983\n",
       "MOTORCYCLE_LEVERS                                   16779\n",
       "MOTORCYCLE_SPEEDOMETERS                             16423\n",
       "MOTORCYCLE_PANTS                                    15983\n",
       "MOTORCYCLE_CDI_MODULES                              15920\n",
       "MOTORCYCLE_SHOCK_ABSORBERS                          15630\n",
       "MOTORCYCLE_IGNITION_COILS                           15231\n",
       "MOTORCYCLE_OIL_PUMPS                                14761\n",
       "MOTORCYCLE_SUITS                                    14203\n",
       "ENGINE_COOLING_FAN_MOTORS                           14045\n",
       "MOTORCYCLE_HANDLEBARS                               13564\n",
       "MOTORCYCLE_GRAB_BARS                                13111\n",
       "MOTORCYCLE_WHEEL_AXLES                              12165\n",
       "WINDSHIELD_WIPER_MOTORS                             11148\n",
       "MOTORCYCLE_CHEST_PROTECTORS                         10313\n",
       "MOTORCYCLE_HANDLEBAR_YOKES                           9676\n",
       "AUTOMOTIVE_BLOWER_HEATER_MOTORS                      9521\n",
       "MOTORCYCLE_GEARBOXES                                 8859\n",
       "BICYCLE_AND_MOTORCYCLE_ALARMS                        7954\n",
       "MOTORCYCLE_CLUTCH_COVERS                             7445\n",
       "MODELISM_SERVO_MOTORS                                7239\n",
       "MOTORCYCLE_IGNITION_SWITCHES                         7038\n",
       "MOTORCYCLE_EXHAUSTS                                  6446\n",
       "MOTORCYCLE_SIDE_CASES                                 813\n",
       "MOTORCYCLE_AND_ALL_TERRAIN_VEHICLE_LOADING_RAMPS      740\n",
       "Name: category, dtype: int64"
      ]
     },
     "execution_count": 36,
     "metadata": {},
     "output_type": "execute_result"
    }
   ],
   "source": [
    "df.loc[df.category.str.contains('MOTOR'),'category'].value_counts()"
   ]
  },
  {
   "cell_type": "markdown",
   "metadata": {},
   "source": [
    "clases que contienen espacio '':"
   ]
  },
  {
   "cell_type": "code",
   "execution_count": 37,
   "metadata": {},
   "outputs": [
    {
     "data": {
      "text/plain": [
       "Series([], Name: category, dtype: int64)"
      ]
     },
     "execution_count": 37,
     "metadata": {},
     "output_type": "execute_result"
    }
   ],
   "source": [
    "df.loc[df.category.str.contains(' '),'category'].value_counts()"
   ]
  },
  {
   "cell_type": "markdown",
   "metadata": {},
   "source": [
    "Clases que contienen '_'"
   ]
  },
  {
   "cell_type": "code",
   "execution_count": 38,
   "metadata": {},
   "outputs": [
    {
     "data": {
      "text/plain": [
       "COFFEE_MAKERS                           35104\n",
       "BABY_CAR_SEATS                          34163\n",
       "MUSICAL_KEYBOARDS                       33222\n",
       "PUREBRED_DOGS                           32928\n",
       "MOTORCYCLE_JACKETS                      32615\n",
       "HAIR_CLIPPERS                           32372\n",
       "MEMORY_CARDS                            31564\n",
       "ROLLER_SKATES                           31371\n",
       "BABY_STROLLERS                          31353\n",
       "SEWING_MACHINES                         31129\n",
       "ELECTRIC_DRILLS                         30820\n",
       "KITCHEN_SINKS                           30635\n",
       "WALL_CLOCKS                             30600\n",
       "CV_JOINTS                               29676\n",
       "SWEATERS_AND_CARDIGANS                  29608\n",
       "PORTABLE_GENERATORS                     29384\n",
       "AIR_COMPRESSORS                         29259\n",
       "TV_AND_MONITOR_MOUNTS                   29214\n",
       "WHEELS_BEARINGS                         28920\n",
       "LED_STAGE_LIGHTS                        28733\n",
       "HAIR_STRAIGHTENERS                      28724\n",
       "BABY_DIAPERS                            28679\n",
       "CAR_CARBURETORS                         28661\n",
       "PORTABLE_CELLPHONE_CHARGERS             28582\n",
       "PENCIL_CASES                            28429\n",
       "FOOTBALL_BALLS                          28401\n",
       "ACTION_FIGURES                          28324\n",
       "AUDIO_AMPLIFIERS                        28194\n",
       "VACUUM_CLEANERS                         28151\n",
       "VIDEO_GAMES                             28031\n",
       "                                        ...  \n",
       "MARTIAL_ARTS_FOOT_GUARDS                  690\n",
       "PLASTIC_GRINDING_MACHINES                 682\n",
       "ANTI_STATIC_PLIERS                        648\n",
       "STORE_SHOPPING_CARTS                      593\n",
       "ANGLE_CLAMPS                              577\n",
       "INFLATABLE_SLIDES                         569\n",
       "INDUSTRIAL_BLENDERS                       569\n",
       "FOOD_AND_DRINK_COLORINGS                  562\n",
       "WAITER_CALLING_SYSTEMS                    544\n",
       "FOOT_BATH_MASSAGERS                       519\n",
       "HARD_DRIVE_AND_SSD_ADAPTER_CABLES         507\n",
       "3D_PENS                                   507\n",
       "TILE_AND_CLADDING_ADHESIVE_MIXTURES       484\n",
       "CHECKOUT_COUNTERS                         431\n",
       "SAPO_GAMES                                426\n",
       "CPR_TRAINING_MANIKINS                     416\n",
       "WAKEBOARD_BOOTS                           387\n",
       "MARTIAL_ARTS_CHEST_GUARDS                 327\n",
       "PLATE_COMPACTORS                          305\n",
       "BOXING_SPEED_BAGS                         288\n",
       "MANUAL_TROLLEYS                           277\n",
       "SCALE_RULERS                              266\n",
       "QUEUE_STANCHIONS                          253\n",
       "HONEY_EXTRACTORS                          216\n",
       "FORCE_GAUGES                              213\n",
       "CONSTRUCTION_LIME_BAGS                    206\n",
       "COLD_FOOD_AND_DRINK_VENDING_MACHINES      162\n",
       "PAINTBALL_SMOKE_GRENADES                  154\n",
       "COMMERCIAL_POPCORN_MACHINES               141\n",
       "HAMBURGER_FORMERS                         109\n",
       "Name: category, Length: 1288, dtype: int64"
      ]
     },
     "execution_count": 38,
     "metadata": {},
     "output_type": "execute_result"
    }
   ],
   "source": [
    "df.loc[df.category.str.contains('_'),'category'].value_counts()"
   ]
  },
  {
   "cell_type": "markdown",
   "metadata": {},
   "source": [
    "Cantidad de categorias que comparten los conjuntos de train y test:"
   ]
  },
  {
   "cell_type": "code",
   "execution_count": 49,
   "metadata": {},
   "outputs": [
    {
     "name": "stdout",
     "output_type": "stream",
     "text": [
      "Cantidad de categorias que se encuentran en ambos conjuntos: 1588\n"
     ]
    }
   ],
   "source": [
    "cats_train = df.category.unique().categories\n",
    "cats_test = df.category.unique().categories\n",
    "\n",
    "print('Cantidad de categorias que se encuentran en ambos conjuntos: {}'.format(len(cats_train.intersection(cats_test))))"
   ]
  },
  {
   "cell_type": "code",
   "execution_count": 52,
   "metadata": {},
   "outputs": [
    {
     "data": {
      "text/plain": [
       "Index(['ELECTRIC_PRESSURE_WASHERS', 'SOUND_CARDS', 'WASHING_MACHINES',\n",
       "       'VEHICLE_BRAKE_DISCS', 'FALSE_EYELASHES', 'IRRIGATION_SPRINKLERS',\n",
       "       'RACQUETS', 'CAMERA_TRIPODS', 'AUTOMOTIVE_AIR_FILTERS', 'LUNCHBOXES',\n",
       "       ...\n",
       "       'YOGURT_MAKERS', 'CERAMIC_KILNS', 'INDUSTRIAL_BLENDERS',\n",
       "       'SCREEN_PRINTING_KITS', 'MARTIAL_ARTS_FOOT_GUARDS', 'FORCE_GAUGES',\n",
       "       'QUEUE_STANCHIONS', 'HAMBURGER_FORMERS', 'MANUAL_TROLLEYS',\n",
       "       'COMMERCIAL_POPCORN_MACHINES'],\n",
       "      dtype='object', length=1588)"
      ]
     },
     "execution_count": 52,
     "metadata": {},
     "output_type": "execute_result"
    }
   ],
   "source": [
    "cats_train.unique()"
   ]
  },
  {
   "cell_type": "code",
   "execution_count": 51,
   "metadata": {},
   "outputs": [
    {
     "data": {
      "text/plain": [
       "Index(['ELECTRIC_PRESSURE_WASHERS', 'SOUND_CARDS', 'WASHING_MACHINES',\n",
       "       'VEHICLE_BRAKE_DISCS', 'FALSE_EYELASHES', 'IRRIGATION_SPRINKLERS',\n",
       "       'RACQUETS', 'CAMERA_TRIPODS', 'AUTOMOTIVE_AIR_FILTERS', 'LUNCHBOXES',\n",
       "       ...\n",
       "       'YOGURT_MAKERS', 'CERAMIC_KILNS', 'INDUSTRIAL_BLENDERS',\n",
       "       'SCREEN_PRINTING_KITS', 'MARTIAL_ARTS_FOOT_GUARDS', 'FORCE_GAUGES',\n",
       "       'QUEUE_STANCHIONS', 'HAMBURGER_FORMERS', 'MANUAL_TROLLEYS',\n",
       "       'COMMERCIAL_POPCORN_MACHINES'],\n",
       "      dtype='object', length=1588)"
      ]
     },
     "execution_count": 51,
     "metadata": {},
     "output_type": "execute_result"
    }
   ],
   "source": [
    "cats_test.unique()"
   ]
  },
  {
   "cell_type": "markdown",
   "metadata": {},
   "source": [
    "Están las mismas categorías en ambos conjuntos, por lo que se puede entrenar tranquilamente sobre train\n",
    "\n",
    "## Stemming and preprocessing"
   ]
  },
  {
   "cell_type": "code",
   "execution_count": 3,
   "metadata": {},
   "outputs": [],
   "source": []
  },
  {
   "cell_type": "code",
   "execution_count": 5,
   "metadata": {},
   "outputs": [
    {
     "name": "stdout",
     "output_type": "stream",
     "text": [
      "Collecting es_core_news_sm==2.1.0 from https://github.com/explosion/spacy-models/releases/download/es_core_news_sm-2.1.0/es_core_news_sm-2.1.0.tar.gz#egg=es_core_news_sm==2.1.0\n",
      "\u001b[?25l  Downloading https://github.com/explosion/spacy-models/releases/download/es_core_news_sm-2.1.0/es_core_news_sm-2.1.0.tar.gz (11.1MB)\n",
      "\u001b[K     |████████████████████████████████| 11.1MB 838kB/s eta 0:00:01    |████▋                           | 1.6MB 295kB/s eta 0:00:33     |█████████████████████████▉      | 9.0MB 670kB/s eta 0:00:04\n",
      "\u001b[?25hBuilding wheels for collected packages: es-core-news-sm\n",
      "  Building wheel for es-core-news-sm (setup.py) ... \u001b[?25ldone\n",
      "\u001b[?25h  Stored in directory: /private/var/folders/5c/9v7l3rcs0jd4fvq5q95_xthr0000gn/T/pip-ephem-wheel-cache-i300demy/wheels/cc/ee/c4/68922955901918a9aaa82e828d4f7ee1ccfc861285277e79b7\n",
      "Successfully built es-core-news-sm\n",
      "Installing collected packages: es-core-news-sm\n",
      "Successfully installed es-core-news-sm-2.1.0\n",
      "\u001b[38;5;2m✔ Download and installation successful\u001b[0m\n",
      "You can now load the model via spacy.load('es_core_news_sm')\n",
      "\u001b[38;5;2m✔ Linking successful\u001b[0m\n",
      "/Users/ignacio/anaconda3/lib/python3.7/site-packages/es_core_news_sm -->\n",
      "/Users/ignacio/anaconda3/lib/python3.7/site-packages/spacy/data/es\n",
      "You can now load the model via spacy.load('es')\n"
     ]
    }
   ],
   "source": [
    "# Run only once\n",
    "#!python -m spacy download es"
   ]
  },
  {
   "cell_type": "code",
   "execution_count": 7,
   "metadata": {},
   "outputs": [
    {
     "name": "stdout",
     "output_type": "stream",
     "text": [
      "Collecting pt_core_news_sm==2.1.0 from https://github.com/explosion/spacy-models/releases/download/pt_core_news_sm-2.1.0/pt_core_news_sm-2.1.0.tar.gz#egg=pt_core_news_sm==2.1.0\n",
      "\u001b[?25l  Downloading https://github.com/explosion/spacy-models/releases/download/pt_core_news_sm-2.1.0/pt_core_news_sm-2.1.0.tar.gz (12.8MB)\n",
      "\u001b[K     |████████████████████████████████| 12.9MB 1.8MB/s eta 0:00:01\n",
      "\u001b[?25hBuilding wheels for collected packages: pt-core-news-sm\n",
      "  Building wheel for pt-core-news-sm (setup.py) ... \u001b[?25ldone\n",
      "\u001b[?25h  Stored in directory: /private/var/folders/5c/9v7l3rcs0jd4fvq5q95_xthr0000gn/T/pip-ephem-wheel-cache-50cxpi50/wheels/a3/8f/c1/f036e3a7f1aa44fb06a534c6c4b1c2b773f101fdb1f163c08c\n",
      "Successfully built pt-core-news-sm\n",
      "Installing collected packages: pt-core-news-sm\n",
      "Successfully installed pt-core-news-sm-2.1.0\n",
      "\u001b[38;5;2m✔ Download and installation successful\u001b[0m\n",
      "You can now load the model via spacy.load('pt_core_news_sm')\n",
      "\u001b[38;5;2m✔ Linking successful\u001b[0m\n",
      "/Users/ignacio/anaconda3/lib/python3.7/site-packages/pt_core_news_sm -->\n",
      "/Users/ignacio/anaconda3/lib/python3.7/site-packages/spacy/data/pt\n",
      "You can now load the model via spacy.load('pt')\n"
     ]
    }
   ],
   "source": [
    "# Run only once\n",
    "#!python -m spacy download pt"
   ]
  },
  {
   "cell_type": "code",
   "execution_count": 9,
   "metadata": {},
   "outputs": [
    {
     "data": {
      "text/plain": [
       "[spanish, portuguese]\n",
       "Categories (2, object): [spanish, portuguese]"
      ]
     },
     "execution_count": 9,
     "metadata": {},
     "output_type": "execute_result"
    }
   ],
   "source": [
    "df.language.unique()"
   ]
  },
  {
   "cell_type": "code",
   "execution_count": 31,
   "metadata": {},
   "outputs": [],
   "source": [
    "# Separate on language, remember to keep the language column\n",
    "df_train_es = dask.delayed(df[df.language == 'spanish'])\n",
    "df_train_pt = dask.delayed(df[df.language == 'portuguese'])\n",
    "df_test_pt = dask.delayed(df_test[df_test.language == 'portuguese'])\n",
    "df_test_es = dask.delayed(df_test[df_test.language == 'spanish'])"
   ]
  },
  {
   "cell_type": "code",
   "execution_count": 32,
   "metadata": {},
   "outputs": [
    {
     "name": "stdout",
     "output_type": "stream",
     "text": [
      "CPU times: user 1.85 ms, sys: 5.51 ms, total: 7.36 ms\n",
      "Wall time: 68.1 ms\n"
     ]
    }
   ],
   "source": [
    "%%time\n",
    "df_train_es, df_train_pt, df_test_pt, df_test_es = dask.compute(df_train_es, df_train_pt,\n",
    "                                                                df_test_pt, df_test_es)"
   ]
  },
  {
   "cell_type": "markdown",
   "metadata": {},
   "source": [
    "Se guardará cada subset para poder después ajustar modeos específicos a cada lenguaje"
   ]
  },
  {
   "cell_type": "code",
   "execution_count": 26,
   "metadata": {},
   "outputs": [],
   "source": [
    "#df_train_es.to_csv('data/train_es.csv')\n",
    "#df_train_pt.to_csv('data/train_pt.csv')\n",
    "#df_test_pt.to_csv('data/test_pt.csv')\n",
    "#df_test_es.to_csv('data/test_es.csv')\n",
    "#"
   ]
  },
  {
   "cell_type": "code",
   "execution_count": 9,
   "metadata": {},
   "outputs": [],
   "source": [
    "df_train_es = pd.read_csv('data/train_es.csv').drop('Unnamed: 0', axis = 1)\n",
    "#df_train_pt = pd.read_csv('data/train_pt.csv')\n",
    "df_test_es = pd.read_csv('data/test_es.csv').drop('Unnamed: 0', axis = 1)\n",
    "#df_test_pt = pd.read_csv('data/test_pt.csv')\n"
   ]
  },
  {
   "cell_type": "code",
   "execution_count": 10,
   "metadata": {},
   "outputs": [
    {
     "data": {
      "text/plain": [
       "title            object\n",
       "label_quality    object\n",
       "language         object\n",
       "category         object\n",
       "dtype: object"
      ]
     },
     "execution_count": 10,
     "metadata": {},
     "output_type": "execute_result"
    }
   ],
   "source": [
    "df_train_es.dtypes"
   ]
  },
  {
   "cell_type": "code",
   "execution_count": 61,
   "metadata": {
    "collapsed": true,
    "jupyter": {
     "outputs_hidden": true
    }
   },
   "outputs": [
    {
     "name": "stderr",
     "output_type": "stream",
     "text": [
      "ERROR:root:Internal Python error in the inspect module.\n",
      "Below is the traceback from this internal error.\n",
      "\n"
     ]
    },
    {
     "name": "stdout",
     "output_type": "stream",
     "text": [
      "Traceback (most recent call last):\n",
      "  File \"/Users/ignacio/anaconda3/lib/python3.7/site-packages/IPython/core/interactiveshell.py\", line 3325, in run_code\n",
      "    exec(code_obj, self.user_global_ns, self.user_ns)\n",
      "  File \"<ipython-input-61-be221334e518>\", line 9, in <module>\n",
      "    doc_es = nlp_es(' '.join(df_train_es.title.values)) # Crea un objeto de spacy tipo nlp\n",
      "  File \"/Users/ignacio/anaconda3/lib/python3.7/site-packages/spacy/language.py\", line 394, in __call__\n",
      "    doc = self.make_doc(text)\n",
      "  File \"/Users/ignacio/anaconda3/lib/python3.7/site-packages/spacy/language.py\", line 418, in make_doc\n",
      "    return self.tokenizer(text)\n",
      "  File \"tokenizer.pyx\", line 112, in spacy.tokenizer.Tokenizer.__call__\n",
      "  File \"tokenizer.pyx\", line 169, in spacy.tokenizer.Tokenizer._tokenize\n",
      "  File \"tokenizer.pyx\", line 248, in spacy.tokenizer.Tokenizer._attach_tokens\n",
      "  File \"vocab.pyx\", line 138, in spacy.vocab.Vocab.get\n",
      "  File \"vocab.pyx\", line 167, in spacy.vocab.Vocab._new_lexeme\n",
      "  File \"/Users/ignacio/anaconda3/lib/python3.7/site-packages/spacy/lang/lex_attrs.py\", line 177, in lower\n",
      "    def lower(string):\n",
      "KeyboardInterrupt\n",
      "\n",
      "During handling of the above exception, another exception occurred:\n",
      "\n",
      "Traceback (most recent call last):\n",
      "  File \"/Users/ignacio/anaconda3/lib/python3.7/site-packages/IPython/core/interactiveshell.py\", line 2039, in showtraceback\n",
      "    stb = value._render_traceback_()\n",
      "AttributeError: 'KeyboardInterrupt' object has no attribute '_render_traceback_'\n",
      "\n",
      "During handling of the above exception, another exception occurred:\n",
      "\n",
      "Traceback (most recent call last):\n",
      "  File \"/Users/ignacio/anaconda3/lib/python3.7/site-packages/IPython/core/ultratb.py\", line 1101, in get_records\n",
      "    return _fixed_getinnerframes(etb, number_of_lines_of_context, tb_offset)\n",
      "  File \"/Users/ignacio/anaconda3/lib/python3.7/site-packages/IPython/core/ultratb.py\", line 319, in wrapped\n",
      "    return f(*args, **kwargs)\n",
      "  File \"/Users/ignacio/anaconda3/lib/python3.7/site-packages/IPython/core/ultratb.py\", line 353, in _fixed_getinnerframes\n",
      "    records = fix_frame_records_filenames(inspect.getinnerframes(etb, context))\n",
      "  File \"/Users/ignacio/anaconda3/lib/python3.7/inspect.py\", line 1502, in getinnerframes\n",
      "    frameinfo = (tb.tb_frame,) + getframeinfo(tb, context)\n",
      "  File \"/Users/ignacio/anaconda3/lib/python3.7/inspect.py\", line 1460, in getframeinfo\n",
      "    filename = getsourcefile(frame) or getfile(frame)\n",
      "  File \"/Users/ignacio/anaconda3/lib/python3.7/inspect.py\", line 696, in getsourcefile\n",
      "    if getattr(getmodule(object, filename), '__loader__', None) is not None:\n",
      "  File \"/Users/ignacio/anaconda3/lib/python3.7/inspect.py\", line 733, in getmodule\n",
      "    if ismodule(module) and hasattr(module, '__file__'):\n",
      "KeyboardInterrupt\n"
     ]
    },
    {
     "ename": "KeyboardInterrupt",
     "evalue": "",
     "output_type": "error",
     "traceback": [
      "\u001b[0;31m---------------------------------------------------------------------------\u001b[0m"
     ]
    }
   ],
   "source": [
    "#nlp_es = spacy.load(\"es\")\n",
    "##nlp_pt = spacy.load(\"pt\")\n",
    "#\n",
    "#nlp_es.remove_pipe('ner')\n",
    "#nlp_es.max_length = 479575954\n",
    "#\n",
    "#doc_es = nlp_es(' '.join(df_train_es.title.values)) # Crea un objeto de spacy tipo nlp\n",
    "##doc_pt = nlp_pt(df_train_pt.title)\n",
    "#tokens_es = [t.orth_ for t in doc_es] # Crea una lista con las palabras del texto\n",
    "##tokens_pt = [t.orth_ for t in doc_pt] "
   ]
  },
  {
   "cell_type": "code",
   "execution_count": 14,
   "metadata": {},
   "outputs": [],
   "source": []
  },
  {
   "cell_type": "code",
   "execution_count": 15,
   "metadata": {},
   "outputs": [
    {
     "data": {
      "application/vnd.jupyter.widget-view+json": {
       "model_id": "7c7c7fbb1ade465984d4ab5418822881",
       "version_major": 2,
       "version_minor": 0
      },
      "text/plain": [
       "HBox(children=(IntProgress(value=0, description='Pandas Apply', max=1000, style=ProgressStyle(description_widt…"
      ]
     },
     "metadata": {},
     "output_type": "display_data"
    },
    {
     "name": "stdout",
     "output_type": "stream",
     "text": [
      "\n",
      "CPU times: user 1.1 s, sys: 184 ms, total: 1.28 s\n",
      "Wall time: 1.56 s\n"
     ]
    }
   ],
   "source": [
    "%%time\n",
    "## Español\n",
    "df_train_es['Text_After_Clean'] = df_train_es.title[:1000].swifter.apply(normalize,\n",
    "                                                             lowercase=True,\n",
    "                                                             remove_stopwords=True,\n",
    "                                                             nlp = nlp_es,\n",
    "                                                             stops = stops_es)\n",
    "\n"
   ]
  },
  {
   "cell_type": "code",
   "execution_count": 2,
   "metadata": {},
   "outputs": [
    {
     "ename": "NameError",
     "evalue": "name 'df_train_es' is not defined",
     "output_type": "error",
     "traceback": [
      "\u001b[0;31m---------------------------------------------------------------------------\u001b[0m",
      "\u001b[0;31mNameError\u001b[0m                                 Traceback (most recent call last)",
      "\u001b[0;32m<ipython-input-2-7fe3492611ec>\u001b[0m in \u001b[0;36m<module>\u001b[0;34m\u001b[0m\n\u001b[0;32m----> 1\u001b[0;31m \u001b[0mdf_train_es\u001b[0m\u001b[0;34m.\u001b[0m\u001b[0mText_After_Clean\u001b[0m\u001b[0;34m.\u001b[0m\u001b[0mdropna\u001b[0m\u001b[0;34m(\u001b[0m\u001b[0;34m)\u001b[0m\u001b[0;34m.\u001b[0m\u001b[0msample\u001b[0m\u001b[0;34m(\u001b[0m\u001b[0;36m5\u001b[0m\u001b[0;34m,\u001b[0m \u001b[0mrandom_state\u001b[0m \u001b[0;34m=\u001b[0m \u001b[0;36m5\u001b[0m\u001b[0;34m)\u001b[0m\u001b[0;34m\u001b[0m\u001b[0;34m\u001b[0m\u001b[0m\n\u001b[0m",
      "\u001b[0;31mNameError\u001b[0m: name 'df_train_es' is not defined"
     ]
    }
   ],
   "source": [
    "df_train_es.Text_After_Clean.dropna().sample(5, random_state = 5)"
   ]
  },
  {
   "cell_type": "code",
   "execution_count": 66,
   "metadata": {},
   "outputs": [],
   "source": [
    "#df_train_es.to_csv('data/train_es_lema.csv')"
   ]
  },
  {
   "cell_type": "code",
   "execution_count": 156,
   "metadata": {
    "collapsed": true,
    "jupyter": {
     "outputs_hidden": true
    }
   },
   "outputs": [
    {
     "data": {
      "application/vnd.jupyter.widget-view+json": {
       "model_id": "45c8905802b449139a312f113a820645",
       "version_major": 2,
       "version_minor": 0
      },
      "text/plain": [
       "HBox(children=(IntProgress(value=0, description='Pandas Apply', max=10000000, style=ProgressStyle(description_…"
      ]
     },
     "metadata": {},
     "output_type": "display_data"
    },
    {
     "ename": "KeyboardInterrupt",
     "evalue": "",
     "output_type": "error",
     "traceback": [
      "\u001b[0;31m---------------------------------------------------------------------------\u001b[0m",
      "\u001b[0;31mAttributeError\u001b[0m                            Traceback (most recent call last)",
      "\u001b[0;32m~/anaconda3/lib/python3.7/site-packages/swifter/swifter.py\u001b[0m in \u001b[0;36mapply\u001b[0;34m(self, func, convert_dtype, args, **kwds)\u001b[0m\n\u001b[1;32m    164\u001b[0m         \u001b[0;32mtry\u001b[0m\u001b[0;34m:\u001b[0m  \u001b[0;31m# try to vectorize\u001b[0m\u001b[0;34m\u001b[0m\u001b[0;34m\u001b[0m\u001b[0m\n\u001b[0;32m--> 165\u001b[0;31m             \u001b[0mtmp_df\u001b[0m \u001b[0;34m=\u001b[0m \u001b[0mfunc\u001b[0m\u001b[0;34m(\u001b[0m\u001b[0msamp\u001b[0m\u001b[0;34m,\u001b[0m \u001b[0;34m*\u001b[0m\u001b[0margs\u001b[0m\u001b[0;34m,\u001b[0m \u001b[0;34m**\u001b[0m\u001b[0mkwds\u001b[0m\u001b[0;34m)\u001b[0m\u001b[0;34m\u001b[0m\u001b[0;34m\u001b[0m\u001b[0m\n\u001b[0m\u001b[1;32m    166\u001b[0m             \u001b[0;32massert\u001b[0m \u001b[0msamp\u001b[0m\u001b[0;34m.\u001b[0m\u001b[0mapply\u001b[0m\u001b[0;34m(\u001b[0m\u001b[0mfunc\u001b[0m\u001b[0;34m,\u001b[0m \u001b[0mconvert_dtype\u001b[0m\u001b[0;34m=\u001b[0m\u001b[0mconvert_dtype\u001b[0m\u001b[0;34m,\u001b[0m \u001b[0margs\u001b[0m\u001b[0;34m=\u001b[0m\u001b[0margs\u001b[0m\u001b[0;34m,\u001b[0m \u001b[0;34m**\u001b[0m\u001b[0mkwds\u001b[0m\u001b[0;34m)\u001b[0m\u001b[0;34m.\u001b[0m\u001b[0mequals\u001b[0m\u001b[0;34m(\u001b[0m\u001b[0mtmp_df\u001b[0m\u001b[0;34m)\u001b[0m\u001b[0;34m\u001b[0m\u001b[0;34m\u001b[0m\u001b[0m\n",
      "\u001b[0;32m<ipython-input-148-f3402da35147>\u001b[0m in \u001b[0;36mnormalize\u001b[0;34m(comment, lowercase, remove_stopwords, nlp)\u001b[0m\n\u001b[1;32m      4\u001b[0m     \u001b[0;32mif\u001b[0m \u001b[0mlowercase\u001b[0m\u001b[0;34m:\u001b[0m\u001b[0;34m\u001b[0m\u001b[0;34m\u001b[0m\u001b[0m\n\u001b[0;32m----> 5\u001b[0;31m         \u001b[0mcomment\u001b[0m \u001b[0;34m=\u001b[0m \u001b[0mcomment\u001b[0m\u001b[0;34m.\u001b[0m\u001b[0mlower\u001b[0m\u001b[0;34m(\u001b[0m\u001b[0;34m)\u001b[0m\u001b[0;34m\u001b[0m\u001b[0;34m\u001b[0m\u001b[0m\n\u001b[0m\u001b[1;32m      6\u001b[0m     \u001b[0mcomment\u001b[0m \u001b[0;34m=\u001b[0m \u001b[0mnlp\u001b[0m\u001b[0;34m(\u001b[0m\u001b[0mcomment\u001b[0m\u001b[0;34m)\u001b[0m\u001b[0;34m\u001b[0m\u001b[0;34m\u001b[0m\u001b[0m\n",
      "\u001b[0;32m~/anaconda3/lib/python3.7/site-packages/pandas/core/generic.py\u001b[0m in \u001b[0;36m__getattr__\u001b[0;34m(self, name)\u001b[0m\n\u001b[1;32m   5066\u001b[0m                 \u001b[0;32mreturn\u001b[0m \u001b[0mself\u001b[0m\u001b[0;34m[\u001b[0m\u001b[0mname\u001b[0m\u001b[0;34m]\u001b[0m\u001b[0;34m\u001b[0m\u001b[0;34m\u001b[0m\u001b[0m\n\u001b[0;32m-> 5067\u001b[0;31m             \u001b[0;32mreturn\u001b[0m \u001b[0mobject\u001b[0m\u001b[0;34m.\u001b[0m\u001b[0m__getattribute__\u001b[0m\u001b[0;34m(\u001b[0m\u001b[0mself\u001b[0m\u001b[0;34m,\u001b[0m \u001b[0mname\u001b[0m\u001b[0;34m)\u001b[0m\u001b[0;34m\u001b[0m\u001b[0;34m\u001b[0m\u001b[0m\n\u001b[0m\u001b[1;32m   5068\u001b[0m \u001b[0;34m\u001b[0m\u001b[0m\n",
      "\u001b[0;31mAttributeError\u001b[0m: 'Series' object has no attribute 'lower'",
      "\nDuring handling of the above exception, another exception occurred:\n",
      "\u001b[0;31mKeyboardInterrupt\u001b[0m                         Traceback (most recent call last)",
      "\u001b[0;32m<timed exec>\u001b[0m in \u001b[0;36m<module>\u001b[0;34m\u001b[0m\n",
      "\u001b[0;32m~/anaconda3/lib/python3.7/site-packages/swifter/swifter.py\u001b[0m in \u001b[0;36mapply\u001b[0;34m(self, func, convert_dtype, args, **kwds)\u001b[0m\n\u001b[1;32m    186\u001b[0m                 \u001b[0;32mif\u001b[0m \u001b[0mself\u001b[0m\u001b[0;34m.\u001b[0m\u001b[0m_progress_bar\u001b[0m\u001b[0;34m:\u001b[0m\u001b[0;34m\u001b[0m\u001b[0;34m\u001b[0m\u001b[0m\n\u001b[1;32m    187\u001b[0m                     \u001b[0mtqdm\u001b[0m\u001b[0;34m.\u001b[0m\u001b[0mpandas\u001b[0m\u001b[0;34m(\u001b[0m\u001b[0mdesc\u001b[0m\u001b[0;34m=\u001b[0m\u001b[0mself\u001b[0m\u001b[0;34m.\u001b[0m\u001b[0m_progress_bar_desc\u001b[0m \u001b[0;32mor\u001b[0m \u001b[0;34m\"Pandas Apply\"\u001b[0m\u001b[0;34m)\u001b[0m\u001b[0;34m\u001b[0m\u001b[0;34m\u001b[0m\u001b[0m\n\u001b[0;32m--> 188\u001b[0;31m                     \u001b[0;32mreturn\u001b[0m \u001b[0mself\u001b[0m\u001b[0;34m.\u001b[0m\u001b[0m_obj\u001b[0m\u001b[0;34m.\u001b[0m\u001b[0mprogress_apply\u001b[0m\u001b[0;34m(\u001b[0m\u001b[0mfunc\u001b[0m\u001b[0;34m,\u001b[0m \u001b[0mconvert_dtype\u001b[0m\u001b[0;34m=\u001b[0m\u001b[0mconvert_dtype\u001b[0m\u001b[0;34m,\u001b[0m \u001b[0margs\u001b[0m\u001b[0;34m=\u001b[0m\u001b[0margs\u001b[0m\u001b[0;34m,\u001b[0m \u001b[0;34m**\u001b[0m\u001b[0mkwds\u001b[0m\u001b[0;34m)\u001b[0m\u001b[0;34m\u001b[0m\u001b[0;34m\u001b[0m\u001b[0m\n\u001b[0m\u001b[1;32m    189\u001b[0m                 \u001b[0;32melse\u001b[0m\u001b[0;34m:\u001b[0m\u001b[0;34m\u001b[0m\u001b[0;34m\u001b[0m\u001b[0m\n\u001b[1;32m    190\u001b[0m                     \u001b[0;32mreturn\u001b[0m \u001b[0mself\u001b[0m\u001b[0;34m.\u001b[0m\u001b[0m_obj\u001b[0m\u001b[0;34m.\u001b[0m\u001b[0mapply\u001b[0m\u001b[0;34m(\u001b[0m\u001b[0mfunc\u001b[0m\u001b[0;34m,\u001b[0m \u001b[0mconvert_dtype\u001b[0m\u001b[0;34m=\u001b[0m\u001b[0mconvert_dtype\u001b[0m\u001b[0;34m,\u001b[0m \u001b[0margs\u001b[0m\u001b[0;34m=\u001b[0m\u001b[0margs\u001b[0m\u001b[0;34m,\u001b[0m \u001b[0;34m**\u001b[0m\u001b[0mkwds\u001b[0m\u001b[0;34m)\u001b[0m\u001b[0;34m\u001b[0m\u001b[0;34m\u001b[0m\u001b[0m\n",
      "\u001b[0;32m~/anaconda3/lib/python3.7/site-packages/tqdm/_tqdm.py\u001b[0m in \u001b[0;36minner\u001b[0;34m(df, func, *args, **kwargs)\u001b[0m\n\u001b[1;32m    675\u001b[0m                 \u001b[0;31m# Apply the provided function (in **kwargs)\u001b[0m\u001b[0;34m\u001b[0m\u001b[0;34m\u001b[0m\u001b[0;34m\u001b[0m\u001b[0m\n\u001b[1;32m    676\u001b[0m                 \u001b[0;31m# on the df using our wrapper (which provides bar updating)\u001b[0m\u001b[0;34m\u001b[0m\u001b[0;34m\u001b[0m\u001b[0;34m\u001b[0m\u001b[0m\n\u001b[0;32m--> 677\u001b[0;31m                 \u001b[0mresult\u001b[0m \u001b[0;34m=\u001b[0m \u001b[0mgetattr\u001b[0m\u001b[0;34m(\u001b[0m\u001b[0mdf\u001b[0m\u001b[0;34m,\u001b[0m \u001b[0mdf_function\u001b[0m\u001b[0;34m)\u001b[0m\u001b[0;34m(\u001b[0m\u001b[0mwrapper\u001b[0m\u001b[0;34m,\u001b[0m \u001b[0;34m**\u001b[0m\u001b[0mkwargs\u001b[0m\u001b[0;34m)\u001b[0m\u001b[0;34m\u001b[0m\u001b[0;34m\u001b[0m\u001b[0m\n\u001b[0m\u001b[1;32m    678\u001b[0m \u001b[0;34m\u001b[0m\u001b[0m\n\u001b[1;32m    679\u001b[0m                 \u001b[0;31m# Close bar and return pandas calculation result\u001b[0m\u001b[0;34m\u001b[0m\u001b[0;34m\u001b[0m\u001b[0;34m\u001b[0m\u001b[0m\n",
      "\u001b[0;32m~/anaconda3/lib/python3.7/site-packages/pandas/core/series.py\u001b[0m in \u001b[0;36mapply\u001b[0;34m(self, func, convert_dtype, args, **kwds)\u001b[0m\n\u001b[1;32m   3589\u001b[0m             \u001b[0;32melse\u001b[0m\u001b[0;34m:\u001b[0m\u001b[0;34m\u001b[0m\u001b[0;34m\u001b[0m\u001b[0m\n\u001b[1;32m   3590\u001b[0m                 \u001b[0mvalues\u001b[0m \u001b[0;34m=\u001b[0m \u001b[0mself\u001b[0m\u001b[0;34m.\u001b[0m\u001b[0mastype\u001b[0m\u001b[0;34m(\u001b[0m\u001b[0mobject\u001b[0m\u001b[0;34m)\u001b[0m\u001b[0;34m.\u001b[0m\u001b[0mvalues\u001b[0m\u001b[0;34m\u001b[0m\u001b[0;34m\u001b[0m\u001b[0m\n\u001b[0;32m-> 3591\u001b[0;31m                 \u001b[0mmapped\u001b[0m \u001b[0;34m=\u001b[0m \u001b[0mlib\u001b[0m\u001b[0;34m.\u001b[0m\u001b[0mmap_infer\u001b[0m\u001b[0;34m(\u001b[0m\u001b[0mvalues\u001b[0m\u001b[0;34m,\u001b[0m \u001b[0mf\u001b[0m\u001b[0;34m,\u001b[0m \u001b[0mconvert\u001b[0m\u001b[0;34m=\u001b[0m\u001b[0mconvert_dtype\u001b[0m\u001b[0;34m)\u001b[0m\u001b[0;34m\u001b[0m\u001b[0;34m\u001b[0m\u001b[0m\n\u001b[0m\u001b[1;32m   3592\u001b[0m \u001b[0;34m\u001b[0m\u001b[0m\n\u001b[1;32m   3593\u001b[0m         \u001b[0;32mif\u001b[0m \u001b[0mlen\u001b[0m\u001b[0;34m(\u001b[0m\u001b[0mmapped\u001b[0m\u001b[0;34m)\u001b[0m \u001b[0;32mand\u001b[0m \u001b[0misinstance\u001b[0m\u001b[0;34m(\u001b[0m\u001b[0mmapped\u001b[0m\u001b[0;34m[\u001b[0m\u001b[0;36m0\u001b[0m\u001b[0;34m]\u001b[0m\u001b[0;34m,\u001b[0m \u001b[0mSeries\u001b[0m\u001b[0;34m)\u001b[0m\u001b[0;34m:\u001b[0m\u001b[0;34m\u001b[0m\u001b[0;34m\u001b[0m\u001b[0m\n",
      "\u001b[0;32mpandas/_libs/lib.pyx\u001b[0m in \u001b[0;36mpandas._libs.lib.map_infer\u001b[0;34m()\u001b[0m\n",
      "\u001b[0;32m~/anaconda3/lib/python3.7/site-packages/pandas/core/series.py\u001b[0m in \u001b[0;36mf\u001b[0;34m(x)\u001b[0m\n\u001b[1;32m   3576\u001b[0m         \u001b[0;32mif\u001b[0m \u001b[0mkwds\u001b[0m \u001b[0;32mor\u001b[0m \u001b[0margs\u001b[0m \u001b[0;32mand\u001b[0m \u001b[0;32mnot\u001b[0m \u001b[0misinstance\u001b[0m\u001b[0;34m(\u001b[0m\u001b[0mfunc\u001b[0m\u001b[0;34m,\u001b[0m \u001b[0mnp\u001b[0m\u001b[0;34m.\u001b[0m\u001b[0mufunc\u001b[0m\u001b[0;34m)\u001b[0m\u001b[0;34m:\u001b[0m\u001b[0;34m\u001b[0m\u001b[0;34m\u001b[0m\u001b[0m\n\u001b[1;32m   3577\u001b[0m             \u001b[0;32mdef\u001b[0m \u001b[0mf\u001b[0m\u001b[0;34m(\u001b[0m\u001b[0mx\u001b[0m\u001b[0;34m)\u001b[0m\u001b[0;34m:\u001b[0m\u001b[0;34m\u001b[0m\u001b[0;34m\u001b[0m\u001b[0m\n\u001b[0;32m-> 3578\u001b[0;31m                 \u001b[0;32mreturn\u001b[0m \u001b[0mfunc\u001b[0m\u001b[0;34m(\u001b[0m\u001b[0mx\u001b[0m\u001b[0;34m,\u001b[0m \u001b[0;34m*\u001b[0m\u001b[0margs\u001b[0m\u001b[0;34m,\u001b[0m \u001b[0;34m**\u001b[0m\u001b[0mkwds\u001b[0m\u001b[0;34m)\u001b[0m\u001b[0;34m\u001b[0m\u001b[0;34m\u001b[0m\u001b[0m\n\u001b[0m\u001b[1;32m   3579\u001b[0m         \u001b[0;32melse\u001b[0m\u001b[0;34m:\u001b[0m\u001b[0;34m\u001b[0m\u001b[0;34m\u001b[0m\u001b[0m\n\u001b[1;32m   3580\u001b[0m             \u001b[0mf\u001b[0m \u001b[0;34m=\u001b[0m \u001b[0mfunc\u001b[0m\u001b[0;34m\u001b[0m\u001b[0;34m\u001b[0m\u001b[0m\n",
      "\u001b[0;32m~/anaconda3/lib/python3.7/site-packages/tqdm/_tqdm.py\u001b[0m in \u001b[0;36mwrapper\u001b[0;34m(*args, **kwargs)\u001b[0m\n\u001b[1;32m    671\u001b[0m                     \u001b[0;31m# take a fast or slow code path; so stop when t.total==t.n\u001b[0m\u001b[0;34m\u001b[0m\u001b[0;34m\u001b[0m\u001b[0;34m\u001b[0m\u001b[0m\n\u001b[1;32m    672\u001b[0m                     \u001b[0mt\u001b[0m\u001b[0;34m.\u001b[0m\u001b[0mupdate\u001b[0m\u001b[0;34m(\u001b[0m\u001b[0mn\u001b[0m\u001b[0;34m=\u001b[0m\u001b[0;36m1\u001b[0m \u001b[0;32mif\u001b[0m \u001b[0;32mnot\u001b[0m \u001b[0mt\u001b[0m\u001b[0;34m.\u001b[0m\u001b[0mtotal\u001b[0m \u001b[0;32mor\u001b[0m \u001b[0mt\u001b[0m\u001b[0;34m.\u001b[0m\u001b[0mn\u001b[0m \u001b[0;34m<\u001b[0m \u001b[0mt\u001b[0m\u001b[0;34m.\u001b[0m\u001b[0mtotal\u001b[0m \u001b[0;32melse\u001b[0m \u001b[0;36m0\u001b[0m\u001b[0;34m)\u001b[0m\u001b[0;34m\u001b[0m\u001b[0;34m\u001b[0m\u001b[0m\n\u001b[0;32m--> 673\u001b[0;31m                     \u001b[0;32mreturn\u001b[0m \u001b[0mfunc\u001b[0m\u001b[0;34m(\u001b[0m\u001b[0;34m*\u001b[0m\u001b[0margs\u001b[0m\u001b[0;34m,\u001b[0m \u001b[0;34m**\u001b[0m\u001b[0mkwargs\u001b[0m\u001b[0;34m)\u001b[0m\u001b[0;34m\u001b[0m\u001b[0;34m\u001b[0m\u001b[0m\n\u001b[0m\u001b[1;32m    674\u001b[0m \u001b[0;34m\u001b[0m\u001b[0m\n\u001b[1;32m    675\u001b[0m                 \u001b[0;31m# Apply the provided function (in **kwargs)\u001b[0m\u001b[0;34m\u001b[0m\u001b[0;34m\u001b[0m\u001b[0;34m\u001b[0m\u001b[0m\n",
      "\u001b[0;32m<ipython-input-148-f3402da35147>\u001b[0m in \u001b[0;36mnormalize\u001b[0;34m(comment, lowercase, remove_stopwords, nlp)\u001b[0m\n\u001b[1;32m      4\u001b[0m     \u001b[0;32mif\u001b[0m \u001b[0mlowercase\u001b[0m\u001b[0;34m:\u001b[0m\u001b[0;34m\u001b[0m\u001b[0;34m\u001b[0m\u001b[0m\n\u001b[1;32m      5\u001b[0m         \u001b[0mcomment\u001b[0m \u001b[0;34m=\u001b[0m \u001b[0mcomment\u001b[0m\u001b[0;34m.\u001b[0m\u001b[0mlower\u001b[0m\u001b[0;34m(\u001b[0m\u001b[0;34m)\u001b[0m\u001b[0;34m\u001b[0m\u001b[0;34m\u001b[0m\u001b[0m\n\u001b[0;32m----> 6\u001b[0;31m     \u001b[0mcomment\u001b[0m \u001b[0;34m=\u001b[0m \u001b[0mnlp\u001b[0m\u001b[0;34m(\u001b[0m\u001b[0mcomment\u001b[0m\u001b[0;34m)\u001b[0m\u001b[0;34m\u001b[0m\u001b[0;34m\u001b[0m\u001b[0m\n\u001b[0m\u001b[1;32m      7\u001b[0m     \u001b[0mlemmatized\u001b[0m \u001b[0;34m=\u001b[0m \u001b[0mlist\u001b[0m\u001b[0;34m(\u001b[0m\u001b[0;34m)\u001b[0m\u001b[0;34m\u001b[0m\u001b[0;34m\u001b[0m\u001b[0m\n\u001b[1;32m      8\u001b[0m     \u001b[0;32mfor\u001b[0m \u001b[0mword\u001b[0m \u001b[0;32min\u001b[0m \u001b[0mcomment\u001b[0m\u001b[0;34m:\u001b[0m\u001b[0;34m\u001b[0m\u001b[0;34m\u001b[0m\u001b[0m\n",
      "\u001b[0;32m~/anaconda3/lib/python3.7/site-packages/spacy/language.py\u001b[0m in \u001b[0;36m__call__\u001b[0;34m(self, text, disable, component_cfg)\u001b[0m\n\u001b[1;32m    392\u001b[0m                 \u001b[0mErrors\u001b[0m\u001b[0;34m.\u001b[0m\u001b[0mE088\u001b[0m\u001b[0;34m.\u001b[0m\u001b[0mformat\u001b[0m\u001b[0;34m(\u001b[0m\u001b[0mlength\u001b[0m\u001b[0;34m=\u001b[0m\u001b[0mlen\u001b[0m\u001b[0;34m(\u001b[0m\u001b[0mtext\u001b[0m\u001b[0;34m)\u001b[0m\u001b[0;34m,\u001b[0m \u001b[0mmax_length\u001b[0m\u001b[0;34m=\u001b[0m\u001b[0mself\u001b[0m\u001b[0;34m.\u001b[0m\u001b[0mmax_length\u001b[0m\u001b[0;34m)\u001b[0m\u001b[0;34m\u001b[0m\u001b[0;34m\u001b[0m\u001b[0m\n\u001b[1;32m    393\u001b[0m             )\n\u001b[0;32m--> 394\u001b[0;31m         \u001b[0mdoc\u001b[0m \u001b[0;34m=\u001b[0m \u001b[0mself\u001b[0m\u001b[0;34m.\u001b[0m\u001b[0mmake_doc\u001b[0m\u001b[0;34m(\u001b[0m\u001b[0mtext\u001b[0m\u001b[0;34m)\u001b[0m\u001b[0;34m\u001b[0m\u001b[0;34m\u001b[0m\u001b[0m\n\u001b[0m\u001b[1;32m    395\u001b[0m         \u001b[0;32mif\u001b[0m \u001b[0mcomponent_cfg\u001b[0m \u001b[0;32mis\u001b[0m \u001b[0;32mNone\u001b[0m\u001b[0;34m:\u001b[0m\u001b[0;34m\u001b[0m\u001b[0;34m\u001b[0m\u001b[0m\n\u001b[1;32m    396\u001b[0m             \u001b[0mcomponent_cfg\u001b[0m \u001b[0;34m=\u001b[0m \u001b[0;34m{\u001b[0m\u001b[0;34m}\u001b[0m\u001b[0;34m\u001b[0m\u001b[0;34m\u001b[0m\u001b[0m\n",
      "\u001b[0;32m~/anaconda3/lib/python3.7/site-packages/spacy/language.py\u001b[0m in \u001b[0;36mmake_doc\u001b[0;34m(self, text)\u001b[0m\n\u001b[1;32m    416\u001b[0m \u001b[0;34m\u001b[0m\u001b[0m\n\u001b[1;32m    417\u001b[0m     \u001b[0;32mdef\u001b[0m \u001b[0mmake_doc\u001b[0m\u001b[0;34m(\u001b[0m\u001b[0mself\u001b[0m\u001b[0;34m,\u001b[0m \u001b[0mtext\u001b[0m\u001b[0;34m)\u001b[0m\u001b[0;34m:\u001b[0m\u001b[0;34m\u001b[0m\u001b[0;34m\u001b[0m\u001b[0m\n\u001b[0;32m--> 418\u001b[0;31m         \u001b[0;32mreturn\u001b[0m \u001b[0mself\u001b[0m\u001b[0;34m.\u001b[0m\u001b[0mtokenizer\u001b[0m\u001b[0;34m(\u001b[0m\u001b[0mtext\u001b[0m\u001b[0;34m)\u001b[0m\u001b[0;34m\u001b[0m\u001b[0;34m\u001b[0m\u001b[0m\n\u001b[0m\u001b[1;32m    419\u001b[0m \u001b[0;34m\u001b[0m\u001b[0m\n\u001b[1;32m    420\u001b[0m     \u001b[0;32mdef\u001b[0m \u001b[0mupdate\u001b[0m\u001b[0;34m(\u001b[0m\u001b[0mself\u001b[0m\u001b[0;34m,\u001b[0m \u001b[0mdocs\u001b[0m\u001b[0;34m,\u001b[0m \u001b[0mgolds\u001b[0m\u001b[0;34m,\u001b[0m \u001b[0mdrop\u001b[0m\u001b[0;34m=\u001b[0m\u001b[0;36m0.0\u001b[0m\u001b[0;34m,\u001b[0m \u001b[0msgd\u001b[0m\u001b[0;34m=\u001b[0m\u001b[0;32mNone\u001b[0m\u001b[0;34m,\u001b[0m \u001b[0mlosses\u001b[0m\u001b[0;34m=\u001b[0m\u001b[0;32mNone\u001b[0m\u001b[0;34m,\u001b[0m \u001b[0mcomponent_cfg\u001b[0m\u001b[0;34m=\u001b[0m\u001b[0;32mNone\u001b[0m\u001b[0;34m)\u001b[0m\u001b[0;34m:\u001b[0m\u001b[0;34m\u001b[0m\u001b[0;34m\u001b[0m\u001b[0m\n",
      "\u001b[0;32mtokenizer.pyx\u001b[0m in \u001b[0;36mspacy.tokenizer.Tokenizer.__call__\u001b[0;34m()\u001b[0m\n",
      "\u001b[0;32mdoc.pyx\u001b[0m in \u001b[0;36mspacy.tokens.doc.Doc.__init__\u001b[0;34m()\u001b[0m\n",
      "\u001b[0;32mdoc.pyx\u001b[0m in \u001b[0;36mspacy.tokens.doc._get_chunker\u001b[0;34m()\u001b[0m\n",
      "\u001b[0;32m~/anaconda3/lib/python3.7/site-packages/spacy/util.py\u001b[0m in \u001b[0;36mget_lang_class\u001b[0;34m(lang)\u001b[0m\n\u001b[1;32m     62\u001b[0m     \u001b[0;32mglobal\u001b[0m \u001b[0mLANGUAGES\u001b[0m\u001b[0;34m\u001b[0m\u001b[0;34m\u001b[0m\u001b[0m\n\u001b[1;32m     63\u001b[0m     \u001b[0;31m# Check if an entry point is exposed for the language code\u001b[0m\u001b[0;34m\u001b[0m\u001b[0;34m\u001b[0m\u001b[0;34m\u001b[0m\u001b[0m\n\u001b[0;32m---> 64\u001b[0;31m     \u001b[0mentry_point\u001b[0m \u001b[0;34m=\u001b[0m \u001b[0mget_entry_point\u001b[0m\u001b[0;34m(\u001b[0m\u001b[0;34m\"spacy_languages\"\u001b[0m\u001b[0;34m,\u001b[0m \u001b[0mlang\u001b[0m\u001b[0;34m)\u001b[0m\u001b[0;34m\u001b[0m\u001b[0;34m\u001b[0m\u001b[0m\n\u001b[0m\u001b[1;32m     65\u001b[0m     \u001b[0;32mif\u001b[0m \u001b[0mentry_point\u001b[0m \u001b[0;32mis\u001b[0m \u001b[0;32mnot\u001b[0m \u001b[0;32mNone\u001b[0m\u001b[0;34m:\u001b[0m\u001b[0;34m\u001b[0m\u001b[0;34m\u001b[0m\u001b[0m\n\u001b[1;32m     66\u001b[0m         \u001b[0mLANGUAGES\u001b[0m\u001b[0;34m[\u001b[0m\u001b[0mlang\u001b[0m\u001b[0;34m]\u001b[0m \u001b[0;34m=\u001b[0m \u001b[0mentry_point\u001b[0m\u001b[0;34m\u001b[0m\u001b[0;34m\u001b[0m\u001b[0m\n",
      "\u001b[0;32m~/anaconda3/lib/python3.7/site-packages/spacy/util.py\u001b[0m in \u001b[0;36mget_entry_point\u001b[0;34m(key, value)\u001b[0m\n\u001b[1;32m    264\u001b[0m     \u001b[0mRETURNS\u001b[0m\u001b[0;34m:\u001b[0m \u001b[0mThe\u001b[0m \u001b[0mloaded\u001b[0m \u001b[0mentry\u001b[0m \u001b[0mpoint\u001b[0m \u001b[0;32mor\u001b[0m \u001b[0;32mNone\u001b[0m\u001b[0;34m.\u001b[0m\u001b[0;34m\u001b[0m\u001b[0;34m\u001b[0m\u001b[0m\n\u001b[1;32m    265\u001b[0m     \"\"\"\n\u001b[0;32m--> 266\u001b[0;31m     \u001b[0;32mfor\u001b[0m \u001b[0mentry_point\u001b[0m \u001b[0;32min\u001b[0m \u001b[0mpkg_resources\u001b[0m\u001b[0;34m.\u001b[0m\u001b[0miter_entry_points\u001b[0m\u001b[0;34m(\u001b[0m\u001b[0mkey\u001b[0m\u001b[0;34m)\u001b[0m\u001b[0;34m:\u001b[0m\u001b[0;34m\u001b[0m\u001b[0;34m\u001b[0m\u001b[0m\n\u001b[0m\u001b[1;32m    267\u001b[0m         \u001b[0;32mif\u001b[0m \u001b[0mentry_point\u001b[0m\u001b[0;34m.\u001b[0m\u001b[0mname\u001b[0m \u001b[0;34m==\u001b[0m \u001b[0mvalue\u001b[0m\u001b[0;34m:\u001b[0m\u001b[0;34m\u001b[0m\u001b[0;34m\u001b[0m\u001b[0m\n\u001b[1;32m    268\u001b[0m             \u001b[0;32mreturn\u001b[0m \u001b[0mentry_point\u001b[0m\u001b[0;34m.\u001b[0m\u001b[0mload\u001b[0m\u001b[0;34m(\u001b[0m\u001b[0;34m)\u001b[0m\u001b[0;34m\u001b[0m\u001b[0;34m\u001b[0m\u001b[0m\n",
      "\u001b[0;32m~/anaconda3/lib/python3.7/site-packages/pkg_resources/__init__.py\u001b[0m in \u001b[0;36m<genexpr>\u001b[0;34m(.0)\u001b[0m\n\u001b[1;32m    654\u001b[0m             \u001b[0mentry\u001b[0m\u001b[0;34m\u001b[0m\u001b[0;34m\u001b[0m\u001b[0m\n\u001b[1;32m    655\u001b[0m             \u001b[0;32mfor\u001b[0m \u001b[0mdist\u001b[0m \u001b[0;32min\u001b[0m \u001b[0mself\u001b[0m\u001b[0;34m\u001b[0m\u001b[0;34m\u001b[0m\u001b[0m\n\u001b[0;32m--> 656\u001b[0;31m             \u001b[0;32mfor\u001b[0m \u001b[0mentry\u001b[0m \u001b[0;32min\u001b[0m \u001b[0mdist\u001b[0m\u001b[0;34m.\u001b[0m\u001b[0mget_entry_map\u001b[0m\u001b[0;34m(\u001b[0m\u001b[0mgroup\u001b[0m\u001b[0;34m)\u001b[0m\u001b[0;34m.\u001b[0m\u001b[0mvalues\u001b[0m\u001b[0;34m(\u001b[0m\u001b[0;34m)\u001b[0m\u001b[0;34m\u001b[0m\u001b[0;34m\u001b[0m\u001b[0m\n\u001b[0m\u001b[1;32m    657\u001b[0m             \u001b[0;32mif\u001b[0m \u001b[0mname\u001b[0m \u001b[0;32mis\u001b[0m \u001b[0;32mNone\u001b[0m \u001b[0;32mor\u001b[0m \u001b[0mname\u001b[0m \u001b[0;34m==\u001b[0m \u001b[0mentry\u001b[0m\u001b[0;34m.\u001b[0m\u001b[0mname\u001b[0m\u001b[0;34m\u001b[0m\u001b[0;34m\u001b[0m\u001b[0m\n\u001b[1;32m    658\u001b[0m         )\n",
      "\u001b[0;31mKeyboardInterrupt\u001b[0m: "
     ]
    }
   ],
   "source": [
    "## portugues\n",
    "%%time\n",
    "nlp_pt = spacy.load(\"pt\", disable=['parser', 'tagger', 'ner'])\n",
    "stops_pt = stopwords.words(\"portuguese\")\n",
    "\n",
    "df_train_pt['Text_After_Clean'] = df_train_pt.title.swifter.apply(normalize,\n",
    "                                                             lowercase=True,\n",
    "                                                             remove_stopwords=True,\n",
    "                                                             nlp = nlp_pt)\n"
   ]
  },
  {
   "cell_type": "code",
   "execution_count": 70,
   "metadata": {},
   "outputs": [],
   "source": [
    "#df_train_pt.to_csv('data/train_pt_lema.csv')"
   ]
  },
  {
   "cell_type": "markdown",
   "metadata": {},
   "source": [
    "No voy a usar Stemming porque en los títulos rara vez se ven sentencias con verbos.\n",
    "\n",
    "## Term-Frecuency matrix\n",
    "\n",
    "Voy a usar Count_vectorizer con un máximo de 1M de palabras, luego voy a aplicar Tf-Idf para filtrar palabras con poco peso."
   ]
  },
  {
   "cell_type": "code",
   "execution_count": 17,
   "metadata": {},
   "outputs": [],
   "source": [
    "frecuencies_descriptor_es = CountVectorizer(max_features = 1000000, strip_accents='unicode', max_df = .1, analyzer = 'word',\n",
    "                                            token_pattern = '\\w{3,9}')\n",
    "frecuencies_mat_es = frecuencies_descriptor_es.fit_transform(df_train_es.Text_After_Clean.dropna())\n"
   ]
  },
  {
   "cell_type": "markdown",
   "metadata": {},
   "source": [
    "* **Nota:** Acabo de ver que en los docs de dask se recomienda usar en algunos casos el descriptor `HashingExtractor` (se encuentra tanto en `sklearn` como `dask`) en lugar de `CountVectorizer`, por lo que después voy a probar con este."
   ]
  },
  {
   "cell_type": "code",
   "execution_count": 18,
   "metadata": {},
   "outputs": [
    {
     "data": {
      "text/plain": [
       "<matplotlib.axes._subplots.AxesSubplot at 0x1c38e8d898>"
      ]
     },
     "execution_count": 18,
     "metadata": {},
     "output_type": "execute_result"
    },
    {
     "data": {
      "image/png": "[encoded data removed]",
      "text/plain": [
       "<Figure size 432x288 with 1 Axes>"
      ]
     },
     "metadata": {
      "needs_background": "light"
     },
     "output_type": "display_data"
    }
   ],
   "source": [
    "sn.distplot(frecuencies_mat_es.sum(axis = 0))"
   ]
  },
  {
   "cell_type": "code",
   "execution_count": 19,
   "metadata": {},
   "outputs": [],
   "source": [
    "tfidf_transformer=TfidfTransformer(smooth_idf=True, use_idf=True, norm = 'l1').fit(frecuencies_mat_es)"
   ]
  },
  {
   "cell_type": "code",
   "execution_count": 20,
   "metadata": {},
   "outputs": [
    {
     "data": {
      "text/html": [
       "<div>\n",
       "<style scoped>\n",
       "    .dataframe tbody tr th:only-of-type {\n",
       "        vertical-align: middle;\n",
       "    }\n",
       "\n",
       "    .dataframe tbody tr th {\n",
       "        vertical-align: top;\n",
       "    }\n",
       "\n",
       "    .dataframe thead th {\n",
       "        text-align: right;\n",
       "    }\n",
       "</style>\n",
       "<table border=\"1\" class=\"dataframe\">\n",
       "  <thead>\n",
       "    <tr style=\"text-align: right;\">\n",
       "      <th></th>\n",
       "      <th>idf_weights</th>\n",
       "    </tr>\n",
       "  </thead>\n",
       "  <tbody>\n",
       "    <tr>\n",
       "      <th>abarth</th>\n",
       "      <td>7.215608</td>\n",
       "    </tr>\n",
       "    <tr>\n",
       "      <th>newport</th>\n",
       "      <td>7.215608</td>\n",
       "    </tr>\n",
       "    <tr>\n",
       "      <th>morning</th>\n",
       "      <td>7.215608</td>\n",
       "    </tr>\n",
       "    <tr>\n",
       "      <th>moron</th>\n",
       "      <td>7.215608</td>\n",
       "    </tr>\n",
       "    <tr>\n",
       "      <th>morral</th>\n",
       "      <td>7.215608</td>\n",
       "    </tr>\n",
       "    <tr>\n",
       "      <th>morsa</th>\n",
       "      <td>7.215608</td>\n",
       "    </tr>\n",
       "    <tr>\n",
       "      <th>mosconi</th>\n",
       "      <td>7.215608</td>\n",
       "    </tr>\n",
       "    <tr>\n",
       "      <th>mosqueton</th>\n",
       "      <td>7.215608</td>\n",
       "    </tr>\n",
       "    <tr>\n",
       "      <th>motocargo</th>\n",
       "      <td>7.215608</td>\n",
       "    </tr>\n",
       "    <tr>\n",
       "      <th>motoculti</th>\n",
       "      <td>7.215608</td>\n",
       "    </tr>\n",
       "    <tr>\n",
       "      <th>motorman</th>\n",
       "      <td>7.215608</td>\n",
       "    </tr>\n",
       "    <tr>\n",
       "      <th>mould</th>\n",
       "      <td>7.215608</td>\n",
       "    </tr>\n",
       "    <tr>\n",
       "      <th>moulinex</th>\n",
       "      <td>7.215608</td>\n",
       "    </tr>\n",
       "    <tr>\n",
       "      <th>movenza</th>\n",
       "      <td>7.215608</td>\n",
       "    </tr>\n",
       "    <tr>\n",
       "      <th>movil</th>\n",
       "      <td>7.215608</td>\n",
       "    </tr>\n",
       "    <tr>\n",
       "      <th>movimient</th>\n",
       "      <td>7.215608</td>\n",
       "    </tr>\n",
       "    <tr>\n",
       "      <th>moyu</th>\n",
       "      <td>7.215608</td>\n",
       "    </tr>\n",
       "    <tr>\n",
       "      <th>mpc</th>\n",
       "      <td>7.215608</td>\n",
       "    </tr>\n",
       "    <tr>\n",
       "      <th>mpu</th>\n",
       "      <td>7.215608</td>\n",
       "    </tr>\n",
       "    <tr>\n",
       "      <th>moretti</th>\n",
       "      <td>7.215608</td>\n",
       "    </tr>\n",
       "    <tr>\n",
       "      <th>mopa</th>\n",
       "      <td>7.215608</td>\n",
       "    </tr>\n",
       "    <tr>\n",
       "      <th>mooving</th>\n",
       "      <td>7.215608</td>\n",
       "    </tr>\n",
       "    <tr>\n",
       "      <th>molokai</th>\n",
       "      <td>7.215608</td>\n",
       "    </tr>\n",
       "    <tr>\n",
       "      <th>moderno</th>\n",
       "      <td>7.215608</td>\n",
       "    </tr>\n",
       "    <tr>\n",
       "      <th>modes</th>\n",
       "      <td>7.215608</td>\n",
       "    </tr>\n",
       "    <tr>\n",
       "      <th>modificar</th>\n",
       "      <td>7.215608</td>\n",
       "    </tr>\n",
       "    <tr>\n",
       "      <th>mogul</th>\n",
       "      <td>7.215608</td>\n",
       "    </tr>\n",
       "    <tr>\n",
       "      <th>moldar</th>\n",
       "      <td>7.215608</td>\n",
       "    </tr>\n",
       "    <tr>\n",
       "      <th>molde</th>\n",
       "      <td>7.215608</td>\n",
       "    </tr>\n",
       "    <tr>\n",
       "      <th>moldumet</th>\n",
       "      <td>7.215608</td>\n",
       "    </tr>\n",
       "    <tr>\n",
       "      <th>...</th>\n",
       "      <td>...</td>\n",
       "    </tr>\n",
       "    <tr>\n",
       "      <th>gramo</th>\n",
       "      <td>5.343805</td>\n",
       "    </tr>\n",
       "    <tr>\n",
       "      <th>banar</th>\n",
       "      <td>5.343805</td>\n",
       "    </tr>\n",
       "    <tr>\n",
       "      <th>combar</th>\n",
       "      <td>5.343805</td>\n",
       "    </tr>\n",
       "    <tr>\n",
       "      <th>cable</th>\n",
       "      <td>5.343805</td>\n",
       "    </tr>\n",
       "    <tr>\n",
       "      <th>luz</th>\n",
       "      <td>5.343805</td>\n",
       "    </tr>\n",
       "    <tr>\n",
       "      <th>digital</th>\n",
       "      <td>5.343805</td>\n",
       "    </tr>\n",
       "    <tr>\n",
       "      <th>fundir</th>\n",
       "      <td>5.343805</td>\n",
       "    </tr>\n",
       "    <tr>\n",
       "      <th>moto</th>\n",
       "      <td>5.269697</td>\n",
       "    </tr>\n",
       "    <tr>\n",
       "      <th>auto</th>\n",
       "      <td>5.269697</td>\n",
       "    </tr>\n",
       "    <tr>\n",
       "      <th>maderar</th>\n",
       "      <td>5.269697</td>\n",
       "    </tr>\n",
       "    <tr>\n",
       "      <th>tallar</th>\n",
       "      <td>5.269697</td>\n",
       "    </tr>\n",
       "    <tr>\n",
       "      <th>ofertar</th>\n",
       "      <td>5.200705</td>\n",
       "    </tr>\n",
       "    <tr>\n",
       "      <th>dor</th>\n",
       "      <td>5.200705</td>\n",
       "    </tr>\n",
       "    <tr>\n",
       "      <th>negro</th>\n",
       "      <td>5.136166</td>\n",
       "    </tr>\n",
       "    <tr>\n",
       "      <th>unidad</th>\n",
       "      <td>5.075541</td>\n",
       "    </tr>\n",
       "    <tr>\n",
       "      <th>blanco</th>\n",
       "      <td>5.075541</td>\n",
       "    </tr>\n",
       "    <tr>\n",
       "      <th>usb</th>\n",
       "      <td>5.075541</td>\n",
       "    </tr>\n",
       "    <tr>\n",
       "      <th>fiat</th>\n",
       "      <td>5.018383</td>\n",
       "    </tr>\n",
       "    <tr>\n",
       "      <th>mesar</th>\n",
       "      <td>4.964316</td>\n",
       "    </tr>\n",
       "    <tr>\n",
       "      <th>led</th>\n",
       "      <td>4.913023</td>\n",
       "    </tr>\n",
       "    <tr>\n",
       "      <th>caja</th>\n",
       "      <td>4.913023</td>\n",
       "    </tr>\n",
       "    <tr>\n",
       "      <th>nuevo</th>\n",
       "      <td>4.864232</td>\n",
       "    </tr>\n",
       "    <tr>\n",
       "      <th>jugar</th>\n",
       "      <td>4.864232</td>\n",
       "    </tr>\n",
       "    <tr>\n",
       "      <th>usar</th>\n",
       "      <td>4.864232</td>\n",
       "    </tr>\n",
       "    <tr>\n",
       "      <th>metro</th>\n",
       "      <td>4.650658</td>\n",
       "    </tr>\n",
       "    <tr>\n",
       "      <th>kit</th>\n",
       "      <td>4.650658</td>\n",
       "    </tr>\n",
       "    <tr>\n",
       "      <th>centimetr</th>\n",
       "      <td>4.612918</td>\n",
       "    </tr>\n",
       "    <tr>\n",
       "      <th>milimetro</th>\n",
       "      <td>4.474768</td>\n",
       "    </tr>\n",
       "    <tr>\n",
       "      <th>original</th>\n",
       "      <td>4.353407</td>\n",
       "    </tr>\n",
       "    <tr>\n",
       "      <th>parir</th>\n",
       "      <td>3.489914</td>\n",
       "    </tr>\n",
       "  </tbody>\n",
       "</table>\n",
       "<p>3077 rows × 1 columns</p>\n",
       "</div>"
      ],
      "text/plain": [
       "           idf_weights\n",
       "abarth        7.215608\n",
       "newport       7.215608\n",
       "morning       7.215608\n",
       "moron         7.215608\n",
       "morral        7.215608\n",
       "morsa         7.215608\n",
       "mosconi       7.215608\n",
       "mosqueton     7.215608\n",
       "motocargo     7.215608\n",
       "motoculti     7.215608\n",
       "motorman      7.215608\n",
       "mould         7.215608\n",
       "moulinex      7.215608\n",
       "movenza       7.215608\n",
       "movil         7.215608\n",
       "movimient     7.215608\n",
       "moyu          7.215608\n",
       "mpc           7.215608\n",
       "mpu           7.215608\n",
       "moretti       7.215608\n",
       "mopa          7.215608\n",
       "mooving       7.215608\n",
       "molokai       7.215608\n",
       "moderno       7.215608\n",
       "modes         7.215608\n",
       "modificar     7.215608\n",
       "mogul         7.215608\n",
       "moldar        7.215608\n",
       "molde         7.215608\n",
       "moldumet      7.215608\n",
       "...                ...\n",
       "gramo         5.343805\n",
       "banar         5.343805\n",
       "combar        5.343805\n",
       "cable         5.343805\n",
       "luz           5.343805\n",
       "digital       5.343805\n",
       "fundir        5.343805\n",
       "moto          5.269697\n",
       "auto          5.269697\n",
       "maderar       5.269697\n",
       "tallar        5.269697\n",
       "ofertar       5.200705\n",
       "dor           5.200705\n",
       "negro         5.136166\n",
       "unidad        5.075541\n",
       "blanco        5.075541\n",
       "usb           5.075541\n",
       "fiat          5.018383\n",
       "mesar         4.964316\n",
       "led           4.913023\n",
       "caja          4.913023\n",
       "nuevo         4.864232\n",
       "jugar         4.864232\n",
       "usar          4.864232\n",
       "metro         4.650658\n",
       "kit           4.650658\n",
       "centimetr     4.612918\n",
       "milimetro     4.474768\n",
       "original      4.353407\n",
       "parir         3.489914\n",
       "\n",
       "[3077 rows x 1 columns]"
      ]
     },
     "execution_count": 20,
     "metadata": {},
     "output_type": "execute_result"
    }
   ],
   "source": [
    "# print idf values\n",
    "df_idf = pd.DataFrame(tfidf_transformer.idf_, index=frecuencies_descriptor_es.get_feature_names(), columns=[\"idf_weights\"])\n",
    " \n",
    "# sort ascending\n",
    "df_idf.sort_values(by=['idf_weights'], ascending= False)"
   ]
  },
  {
   "cell_type": "code",
   "execution_count": 21,
   "metadata": {},
   "outputs": [
    {
     "data": {
      "text/plain": [
       "{'whiskers': [<matplotlib.lines.Line2D at 0x1c39498ba8>,\n",
       "  <matplotlib.lines.Line2D at 0x1c3946e9e8>],\n",
       " 'caps': [<matplotlib.lines.Line2D at 0x1c39498eb8>,\n",
       "  <matplotlib.lines.Line2D at 0x1c394a4668>],\n",
       " 'boxes': [<matplotlib.lines.Line2D at 0x1c394985c0>],\n",
       " 'medians': [<matplotlib.lines.Line2D at 0x1c394a49e8>],\n",
       " 'fliers': [<matplotlib.lines.Line2D at 0x1c394a4d68>],\n",
       " 'means': []}"
      ]
     },
     "execution_count": 21,
     "metadata": {},
     "output_type": "execute_result"
    },
    {
     "data": {
      "image/png": "[encoded data removed]",
      "text/plain": [
       "<Figure size 432x288 with 1 Axes>"
      ]
     },
     "metadata": {
      "needs_background": "light"
     },
     "output_type": "display_data"
    }
   ],
   "source": [
    "plt.boxplot(df_idf.idf_weights)"
   ]
  },
  {
   "cell_type": "code",
   "execution_count": 22,
   "metadata": {},
   "outputs": [
    {
     "data": {
      "text/plain": [
       "True     2181\n",
       "False     896\n",
       "Name: idf_weights, dtype: int64"
      ]
     },
     "execution_count": 22,
     "metadata": {},
     "output_type": "execute_result"
    }
   ],
   "source": [
    "(df_idf.idf_weights > df_idf.idf_weights.quantile(.25)).value_counts()"
   ]
  },
  {
   "cell_type": "code",
   "execution_count": 23,
   "metadata": {},
   "outputs": [
    {
     "data": {
      "text/plain": [
       "(3077, 1)"
      ]
     },
     "execution_count": 23,
     "metadata": {},
     "output_type": "execute_result"
    }
   ],
   "source": [
    "df_idf.shape"
   ]
  },
  {
   "cell_type": "code",
   "execution_count": 24,
   "metadata": {},
   "outputs": [],
   "source": [
    "iqr = df_idf.idf_weights.quantile(.75) - df_idf.idf_weights.quantile(.25)"
   ]
  },
  {
   "cell_type": "code",
   "execution_count": 25,
   "metadata": {},
   "outputs": [],
   "source": [
    "vocab_es = df_idf[df_idf.idf_weights >= df_idf.idf_weights.quantile(.25)-1.5*iqr].index #.sort_values(by ='idf_weights',ascending = False)"
   ]
  },
  {
   "cell_type": "code",
   "execution_count": 26,
   "metadata": {},
   "outputs": [
    {
     "data": {
      "text/plain": [
       "(1000, 2910)"
      ]
     },
     "execution_count": 26,
     "metadata": {},
     "output_type": "execute_result"
    }
   ],
   "source": [
    "#cv_es = CountVectorizer(vocabulary=vocab_es, strip_accents='unicode', max_df = .1, analyzer = 'word',\n",
    "#                                            token_pattern = '\\w{3,9}')\n",
    "#cv_es = cv_es.fit_transform(df_train_es.Text_After_Clean.dropna())\n",
    "tfidf_es = TfidfVectorizer(vocabulary=vocab_es, strip_accents='unicode', max_df = .1, analyzer = 'word',\n",
    "                                            token_pattern = '\\w{3,9}', smooth_idf=True, use_idf=True, norm = 'l1')\n",
    "tfidf_es = tfidf_es.fit_transform(df_train_es.Text_After_Clean.dropna())\n",
    "tfidf_es.shape"
   ]
  },
  {
   "cell_type": "code",
   "execution_count": 27,
   "metadata": {},
   "outputs": [
    {
     "data": {
      "text/plain": [
       "(1000, 2911)"
      ]
     },
     "execution_count": 27,
     "metadata": {},
     "output_type": "execute_result"
    }
   ],
   "source": [
    "df_tfidf_es= pd.DataFrame(tfidf_es.todense())\n",
    "df_tfidf_es['language'] = np.ones(shape = df_tfidf_es.shape[0])\n",
    "df_tfidf_es.shape"
   ]
  },
  {
   "cell_type": "markdown",
   "metadata": {},
   "source": [
    "### Muestreo estratificado sobre category\n",
    "\n",
    "Primero voy a ver la frecuencia de la clases minoritarias"
   ]
  },
  {
   "cell_type": "code",
   "execution_count": 60,
   "metadata": {},
   "outputs": [
    {
     "data": {
      "text/plain": [
       "TONFAS                                  246\n",
       "DENTAL_CURING_LIGHTS                    246\n",
       "PIPE_CUTTERS                            246\n",
       "WOOD_BURNING_MACHINES                   245\n",
       "CACHACAS                                244\n",
       "ELBOW_SUPPORTS                          244\n",
       "STORE_SHOPPING_CARTS                    240\n",
       "WASHING_AND_DRYER_MACHINE_COVERS        224\n",
       "BOXING_SPEED_BAGS                       221\n",
       "LENTILS                                 218\n",
       "PLATE_COMPACTORS                        218\n",
       "FAN_PROPELLERS                          212\n",
       "INFLATABLE_SLIDES                       211\n",
       "CONSTRUCTION_LIME_BAGS                  206\n",
       "CHIPPER_SHREDDERS                       199\n",
       "MANUAL_TROLLEYS                         186\n",
       "TEMPORARY_TATTOOS                       186\n",
       "MARTIAL_ARTS_CHEST_GUARDS               175\n",
       "POOL_LADDERS                            173\n",
       "ELECTRIC_BATHROOM_FAUCETS               169\n",
       "CNC_MACHINING_CENTERS                   163\n",
       "AQUARIUM_SKIMMERS                       156\n",
       "WAITER_CALLING_SYSTEMS                  154\n",
       "SKIN_REPELLENTS                         152\n",
       "QUEUE_STANCHIONS                        148\n",
       "PROXIMITY_KEY_FOBS                      146\n",
       "GROOMING_TABLES                         142\n",
       "POLYWIRE_THREADS                        123\n",
       "HONEY_EXTRACTORS                        122\n",
       "SWIMMING_EARPLUGS                       117\n",
       "LAPTOP_SKINS                            117\n",
       "DIVING_KNIVES                           111\n",
       "COLD_FOOD_AND_DRINK_VENDING_MACHINES    106\n",
       "FOOT_BATH_MASSAGERS                     105\n",
       "HAMBURGER_FORMERS                        86\n",
       "FOOD_AND_DRINK_COLORINGS                 85\n",
       "AGOGOS                                   80\n",
       "CPR_TRAINING_MANIKINS                    80\n",
       "WASTE_CONTAINERS                         80\n",
       "NAIL_POLISH_DRYER_SPRAYS                 73\n",
       "INDUSTRIAL_BLENDERS                      73\n",
       "FORCE_GAUGES                             53\n",
       "CHESS_CLOCKS                             53\n",
       "POLY_MAILERS                             52\n",
       "CHECKOUT_COUNTERS                        51\n",
       "SCALE_RULERS                             49\n",
       "COMMERCIAL_POPCORN_MACHINES              36\n",
       "SNACK_HOLDERS                             9\n",
       "ANTI_STATIC_PLIERS                        5\n",
       "CARD_PAYMENT_TERMINALS                    2\n",
       "Name: category, dtype: int64"
      ]
     },
     "execution_count": 60,
     "metadata": {},
     "output_type": "execute_result"
    }
   ],
   "source": [
    "df_train_es.category.value_counts()[-50:]"
   ]
  },
  {
   "cell_type": "code",
   "execution_count": null,
   "metadata": {},
   "outputs": [],
   "source": [
    "df_tfidf_es"
   ]
  },
  {
   "cell_type": "code",
   "execution_count": 148,
   "metadata": {},
   "outputs": [],
   "source": [
    "# undersampling con máximo 10**4 elementos de cada clase\n",
    "undersamp_es = df_train_es.drop('Text_After_Clean', axis = 1).groupby('category', group_keys=False).apply(lambda x: x.sample(min(len(x), 10000)))\n"
   ]
  },
  {
   "cell_type": "code",
   "execution_count": 70,
   "metadata": {
    "collapsed": true,
    "jupyter": {
     "outputs_hidden": true
    }
   },
   "outputs": [
    {
     "data": {
      "text/plain": [
       "SOUND_CONSOLES_AND_DJ_MIXERS                 10000\n",
       "CALCULATORS                                  10000\n",
       "MAKEUP_BRUSHES                               10000\n",
       "SCREWS                                       10000\n",
       "BABY_CAR_SEATS                               10000\n",
       "CERAMIC_TILES                                10000\n",
       "FANS                                         10000\n",
       "SUNGLASSES                                   10000\n",
       "MOTORCYCLE_DISTRIBUTION_CHAINS               10000\n",
       "AUTOMOTIVE_TIRES                             10000\n",
       "COLLECTIBLE_CANS_BOTTLES_AND_SODA_SIPHONS    10000\n",
       "SURFACES_PROTECTIVE_PAINTS                   10000\n",
       "HATS_AND_CAPS                                10000\n",
       "TACTICAL_AND_SPORTING_KNIVES_AND_BLADES      10000\n",
       "BACKPACKS                                    10000\n",
       "FLOOD_LIGHTS                                 10000\n",
       "MOTORCYCLE_HEADLIGHTS                        10000\n",
       "CAR_TURN_SIGNAL_LIGHTS                       10000\n",
       "FLASHLIGHTS                                  10000\n",
       "CAR_LIGHT_BULBS                              10000\n",
       "BLANKETS                                     10000\n",
       "NETWORK_CARDS                                10000\n",
       "WINDSHIELD_WIPERS                            10000\n",
       "FOOTBALL_SHIRTS                              10000\n",
       "ROOF_RACKS                                   10000\n",
       "KEYBOARD_CONTROLLERS                         10000\n",
       "CAR_SCANNERS                                 10000\n",
       "TABLECLOTHS                                  10000\n",
       "SOFAS                                        10000\n",
       "POUFS                                        10000\n",
       "                                             ...  \n",
       "CNC_MACHINING_CENTERS                          163\n",
       "AQUARIUM_SKIMMERS                              156\n",
       "WAITER_CALLING_SYSTEMS                         154\n",
       "SKIN_REPELLENTS                                152\n",
       "QUEUE_STANCHIONS                               148\n",
       "PROXIMITY_KEY_FOBS                             146\n",
       "GROOMING_TABLES                                142\n",
       "POLYWIRE_THREADS                               123\n",
       "HONEY_EXTRACTORS                               122\n",
       "SWIMMING_EARPLUGS                              117\n",
       "LAPTOP_SKINS                                   117\n",
       "DIVING_KNIVES                                  111\n",
       "COLD_FOOD_AND_DRINK_VENDING_MACHINES           106\n",
       "FOOT_BATH_MASSAGERS                            105\n",
       "HAMBURGER_FORMERS                               86\n",
       "FOOD_AND_DRINK_COLORINGS                        85\n",
       "WASTE_CONTAINERS                                80\n",
       "AGOGOS                                          80\n",
       "CPR_TRAINING_MANIKINS                           80\n",
       "INDUSTRIAL_BLENDERS                             73\n",
       "NAIL_POLISH_DRYER_SPRAYS                        73\n",
       "CHESS_CLOCKS                                    53\n",
       "FORCE_GAUGES                                    53\n",
       "POLY_MAILERS                                    52\n",
       "CHECKOUT_COUNTERS                               51\n",
       "SCALE_RULERS                                    49\n",
       "COMMERCIAL_POPCORN_MACHINES                     36\n",
       "SNACK_HOLDERS                                    9\n",
       "ANTI_STATIC_PLIERS                               5\n",
       "CARD_PAYMENT_TERMINALS                           2\n",
       "Name: category, Length: 1574, dtype: int64"
      ]
     },
     "execution_count": 70,
     "metadata": {},
     "output_type": "execute_result"
    }
   ],
   "source": [
    "undersamp_es.category.value_counts()"
   ]
  },
  {
   "cell_type": "code",
   "execution_count": 149,
   "metadata": {},
   "outputs": [
    {
     "data": {
      "text/html": [
       "<div>\n",
       "<style scoped>\n",
       "    .dataframe tbody tr th:only-of-type {\n",
       "        vertical-align: middle;\n",
       "    }\n",
       "\n",
       "    .dataframe tbody tr th {\n",
       "        vertical-align: top;\n",
       "    }\n",
       "\n",
       "    .dataframe thead th {\n",
       "        text-align: right;\n",
       "    }\n",
       "</style>\n",
       "<table border=\"1\" class=\"dataframe\">\n",
       "  <thead>\n",
       "    <tr style=\"text-align: right;\">\n",
       "      <th></th>\n",
       "      <th>title</th>\n",
       "      <th>label_quality</th>\n",
       "      <th>language</th>\n",
       "      <th>category</th>\n",
       "    </tr>\n",
       "  </thead>\n",
       "  <tbody>\n",
       "    <tr>\n",
       "      <th>2902960</th>\n",
       "      <td>Pack 2 Anteojos 3d Samsung P51002 Lentes A Pil...</td>\n",
       "      <td>unreliable</td>\n",
       "      <td>spanish</td>\n",
       "      <td>3D_GLASSES</td>\n",
       "    </tr>\n",
       "    <tr>\n",
       "      <th>7393808</th>\n",
       "      <td>Lente 3d Activo Sony Tdg-bt400a</td>\n",
       "      <td>unreliable</td>\n",
       "      <td>spanish</td>\n",
       "      <td>3D_GLASSES</td>\n",
       "    </tr>\n",
       "    <tr>\n",
       "      <th>5064292</th>\n",
       "      <td>Lente 3d Samsung Activo Ssg 5100gb</td>\n",
       "      <td>unreliable</td>\n",
       "      <td>spanish</td>\n",
       "      <td>3D_GLASSES</td>\n",
       "    </tr>\n",
       "    <tr>\n",
       "      <th>9362289</th>\n",
       "      <td>Nvidia 3d Vision</td>\n",
       "      <td>unreliable</td>\n",
       "      <td>spanish</td>\n",
       "      <td>3D_GLASSES</td>\n",
       "    </tr>\n",
       "    <tr>\n",
       "      <th>4296438</th>\n",
       "      <td>Lentes 3d Optoma  Zf2300 Glasses En Dormusic</td>\n",
       "      <td>unreliable</td>\n",
       "      <td>spanish</td>\n",
       "      <td>3D_GLASSES</td>\n",
       "    </tr>\n",
       "  </tbody>\n",
       "</table>\n",
       "</div>"
      ],
      "text/plain": [
       "                                                     title label_quality  \\\n",
       "2902960  Pack 2 Anteojos 3d Samsung P51002 Lentes A Pil...    unreliable   \n",
       "7393808                    Lente 3d Activo Sony Tdg-bt400a    unreliable   \n",
       "5064292                Lente 3d Samsung Activo Ssg 5100gb     unreliable   \n",
       "9362289                                   Nvidia 3d Vision    unreliable   \n",
       "4296438       Lentes 3d Optoma  Zf2300 Glasses En Dormusic    unreliable   \n",
       "\n",
       "        language    category  \n",
       "2902960  spanish  3D_GLASSES  \n",
       "7393808  spanish  3D_GLASSES  \n",
       "5064292  spanish  3D_GLASSES  \n",
       "9362289  spanish  3D_GLASSES  \n",
       "4296438  spanish  3D_GLASSES  "
      ]
     },
     "execution_count": 149,
     "metadata": {},
     "output_type": "execute_result"
    }
   ],
   "source": [
    "undersamp_es.head()"
   ]
  },
  {
   "cell_type": "code",
   "execution_count": 130,
   "metadata": {},
   "outputs": [
    {
     "data": {
      "text/plain": [
       "(8354505, 4)"
      ]
     },
     "execution_count": 130,
     "metadata": {},
     "output_type": "execute_result"
    }
   ],
   "source": [
    "undersamp_es.shape"
   ]
  },
  {
   "cell_type": "code",
   "execution_count": 150,
   "metadata": {},
   "outputs": [],
   "source": [
    "undersamp_es_sample = undersamp_es.sample(10000, random_state = 1)"
   ]
  },
  {
   "cell_type": "code",
   "execution_count": 151,
   "metadata": {},
   "outputs": [
    {
     "data": {
      "application/vnd.jupyter.widget-view+json": {
       "model_id": "4a0ced27b7b64a69915d7f5213f352c7",
       "version_major": 2,
       "version_minor": 0
      },
      "text/plain": [
       "HBox(children=(IntProgress(value=0, description='Pandas Apply', max=10000, style=ProgressStyle(description_wid…"
      ]
     },
     "metadata": {},
     "output_type": "display_data"
    }
   ],
   "source": [
    "undersamp_es_sample['Text_After_Clean'] = undersamp_es_sample.title.swifter.apply(normalize,\n",
    "                                                             lowercase=True,\n",
    "                                                             remove_stopwords=True,\n",
    "                                                             nlp = nlp_es,\n",
    "                                                             stops = stops_es)\n",
    "\n"
   ]
  },
  {
   "cell_type": "code",
   "execution_count": 152,
   "metadata": {},
   "outputs": [
    {
     "data": {
      "text/html": [
       "<div>\n",
       "<style scoped>\n",
       "    .dataframe tbody tr th:only-of-type {\n",
       "        vertical-align: middle;\n",
       "    }\n",
       "\n",
       "    .dataframe tbody tr th {\n",
       "        vertical-align: top;\n",
       "    }\n",
       "\n",
       "    .dataframe thead th {\n",
       "        text-align: right;\n",
       "    }\n",
       "</style>\n",
       "<table border=\"1\" class=\"dataframe\">\n",
       "  <thead>\n",
       "    <tr style=\"text-align: right;\">\n",
       "      <th></th>\n",
       "      <th>title</th>\n",
       "      <th>label_quality</th>\n",
       "      <th>language</th>\n",
       "      <th>category</th>\n",
       "      <th>Text_After_Clean</th>\n",
       "    </tr>\n",
       "  </thead>\n",
       "  <tbody>\n",
       "    <tr>\n",
       "      <th>3406312</th>\n",
       "      <td>Exprimidor De Jugo Ultracomb Ex-2303 1.25lts N...</td>\n",
       "      <td>unreliable</td>\n",
       "      <td>spanish</td>\n",
       "      <td>SQUEEZERS</td>\n",
       "      <td>exprimidor jugo ultracomb ex- .lts naranja jug...</td>\n",
       "    </tr>\n",
       "    <tr>\n",
       "      <th>2916581</th>\n",
       "      <td>Lecto Grabadora De Cds / Dvds / Dual Layer Lg ...</td>\n",
       "      <td>unreliable</td>\n",
       "      <td>spanish</td>\n",
       "      <td>DVD_RECORDERS</td>\n",
       "      <td>lecto grabador cds / dvds / dual layer lg sata</td>\n",
       "    </tr>\n",
       "    <tr>\n",
       "      <th>5803248</th>\n",
       "      <td>Qualibest Cera Para Pisos Extra Negra Autobrillo</td>\n",
       "      <td>unreliable</td>\n",
       "      <td>spanish</td>\n",
       "      <td>HOUSEHOLD_CLEANING_WAXES</td>\n",
       "      <td>qualibest cera parir piso extra negro autobrillo</td>\n",
       "    </tr>\n",
       "    <tr>\n",
       "      <th>8360045</th>\n",
       "      <td>Motorcraft Jk6900a V - Cinturón</td>\n",
       "      <td>unreliable</td>\n",
       "      <td>spanish</td>\n",
       "      <td>SEAT_BELTS</td>\n",
       "      <td>motorcraft jka v - cinturon</td>\n",
       "    </tr>\n",
       "    <tr>\n",
       "      <th>4372739</th>\n",
       "      <td>Melzi 2.0 Control De Tablero 1284p Prusa I3 Co...</td>\n",
       "      <td>unreliable</td>\n",
       "      <td>spanish</td>\n",
       "      <td>3D_PRINTERS</td>\n",
       "      <td>melzi . control tablero p prusa i controlador ...</td>\n",
       "    </tr>\n",
       "  </tbody>\n",
       "</table>\n",
       "</div>"
      ],
      "text/plain": [
       "                                                     title label_quality  \\\n",
       "3406312  Exprimidor De Jugo Ultracomb Ex-2303 1.25lts N...    unreliable   \n",
       "2916581  Lecto Grabadora De Cds / Dvds / Dual Layer Lg ...    unreliable   \n",
       "5803248  Qualibest Cera Para Pisos Extra Negra Autobrillo     unreliable   \n",
       "8360045                    Motorcraft Jk6900a V - Cinturón    unreliable   \n",
       "4372739  Melzi 2.0 Control De Tablero 1284p Prusa I3 Co...    unreliable   \n",
       "\n",
       "        language                  category  \\\n",
       "3406312  spanish                 SQUEEZERS   \n",
       "2916581  spanish             DVD_RECORDERS   \n",
       "5803248  spanish  HOUSEHOLD_CLEANING_WAXES   \n",
       "8360045  spanish                SEAT_BELTS   \n",
       "4372739  spanish               3D_PRINTERS   \n",
       "\n",
       "                                          Text_After_Clean  \n",
       "3406312  exprimidor jugo ultracomb ex- .lts naranja jug...  \n",
       "2916581     lecto grabador cds / dvds / dual layer lg sata  \n",
       "5803248   qualibest cera parir piso extra negro autobrillo  \n",
       "8360045                        motorcraft jka v - cinturon  \n",
       "4372739  melzi . control tablero p prusa i controlador ...  "
      ]
     },
     "execution_count": 152,
     "metadata": {},
     "output_type": "execute_result"
    }
   ],
   "source": [
    "undersamp_es_sample.head()"
   ]
  },
  {
   "cell_type": "code",
   "execution_count": 153,
   "metadata": {},
   "outputs": [],
   "source": [
    "Y = undersamp_es_sample.language\n",
    "\n",
    "undersamp_es_sample.drop(['title', 'label_quality', 'language'], axis = 1, inplace = True)\n",
    "undersamp_es_sample.set_index('category', inplace = True)\n",
    "\n",
    "Y.index = undersamp_es_sample.index"
   ]
  },
  {
   "cell_type": "code",
   "execution_count": 154,
   "metadata": {},
   "outputs": [
    {
     "data": {
      "text/html": [
       "<div>\n",
       "<style scoped>\n",
       "    .dataframe tbody tr th:only-of-type {\n",
       "        vertical-align: middle;\n",
       "    }\n",
       "\n",
       "    .dataframe tbody tr th {\n",
       "        vertical-align: top;\n",
       "    }\n",
       "\n",
       "    .dataframe thead th {\n",
       "        text-align: right;\n",
       "    }\n",
       "</style>\n",
       "<table border=\"1\" class=\"dataframe\">\n",
       "  <thead>\n",
       "    <tr style=\"text-align: right;\">\n",
       "      <th></th>\n",
       "      <th>Text_After_Clean</th>\n",
       "    </tr>\n",
       "    <tr>\n",
       "      <th>category</th>\n",
       "      <th></th>\n",
       "    </tr>\n",
       "  </thead>\n",
       "  <tbody>\n",
       "    <tr>\n",
       "      <th>SQUEEZERS</th>\n",
       "      <td>exprimidor jugo ultracomb ex- .lts naranja jug...</td>\n",
       "    </tr>\n",
       "    <tr>\n",
       "      <th>DVD_RECORDERS</th>\n",
       "      <td>lecto grabador cds / dvds / dual layer lg sata</td>\n",
       "    </tr>\n",
       "    <tr>\n",
       "      <th>HOUSEHOLD_CLEANING_WAXES</th>\n",
       "      <td>qualibest cera parir piso extra negro autobrillo</td>\n",
       "    </tr>\n",
       "    <tr>\n",
       "      <th>SEAT_BELTS</th>\n",
       "      <td>motorcraft jka v - cinturon</td>\n",
       "    </tr>\n",
       "    <tr>\n",
       "      <th>3D_PRINTERS</th>\n",
       "      <td>melzi . control tablero p prusa i controlador ...</td>\n",
       "    </tr>\n",
       "  </tbody>\n",
       "</table>\n",
       "</div>"
      ],
      "text/plain": [
       "                                                           Text_After_Clean\n",
       "category                                                                   \n",
       "SQUEEZERS                 exprimidor jugo ultracomb ex- .lts naranja jug...\n",
       "DVD_RECORDERS                lecto grabador cds / dvds / dual layer lg sata\n",
       "HOUSEHOLD_CLEANING_WAXES   qualibest cera parir piso extra negro autobrillo\n",
       "SEAT_BELTS                                      motorcraft jka v - cinturon\n",
       "3D_PRINTERS               melzi . control tablero p prusa i controlador ..."
      ]
     },
     "execution_count": 154,
     "metadata": {},
     "output_type": "execute_result"
    }
   ],
   "source": [
    "undersamp_es_sample.head()"
   ]
  },
  {
   "cell_type": "code",
   "execution_count": 88,
   "metadata": {},
   "outputs": [
    {
     "data": {
      "text/plain": [
       "pandas.core.series.Series"
      ]
     },
     "execution_count": 88,
     "metadata": {},
     "output_type": "execute_result"
    }
   ],
   "source": []
  },
  {
   "cell_type": "code",
   "execution_count": 92,
   "metadata": {},
   "outputs": [],
   "source": [
    "## Load/store data\n",
    "\n",
    "#undersamp_es.to_hdf('data/undersamp_es_10000.h5', key = 'data/')\n",
    "#Y.to_hdf('data/Y_undersamp_es_10000.h5', key = 'data/')\n",
    "#undersamp_es = pd.read_hdf('data/undersamp_es_10000.h5')\n",
    "#Y = pd.read_hdf('data/Y_undersamp_es_10000.h5')"
   ]
  },
  {
   "cell_type": "code",
   "execution_count": 155,
   "metadata": {},
   "outputs": [],
   "source": [
    "with joblib.parallel_backend(\"dask\"):\n",
    "    frecuencies_descriptor_es = CountVectorizer(max_features = 1000000, strip_accents='unicode', max_df = .1, analyzer = 'word',\n",
    "                                            token_pattern = '\\w{3,9}')\n",
    "    frecuencies_mat_es = frecuencies_descriptor_es.fit_transform(undersamp_es_sample.Text_After_Clean)\n",
    "\n",
    "    tfidf_mat_es=TfidfTransformer(smooth_idf=True, use_idf=True, norm = 'l1').fit(frecuencies_mat_es)"
   ]
  },
  {
   "cell_type": "code",
   "execution_count": 156,
   "metadata": {},
   "outputs": [
    {
     "data": {
      "text/plain": [
       "array([8.60100245, 9.51729319, 9.51729319, ..., 9.11182808, 9.51729319,\n",
       "       9.51729319])"
      ]
     },
     "execution_count": 156,
     "metadata": {},
     "output_type": "execute_result"
    }
   ],
   "source": [
    "tfidf_mat_es.idf_"
   ]
  },
  {
   "cell_type": "code",
   "execution_count": 158,
   "metadata": {},
   "outputs": [
    {
     "data": {
      "text/html": [
       "<div>\n",
       "<style scoped>\n",
       "    .dataframe tbody tr th:only-of-type {\n",
       "        vertical-align: middle;\n",
       "    }\n",
       "\n",
       "    .dataframe tbody tr th {\n",
       "        vertical-align: top;\n",
       "    }\n",
       "\n",
       "    .dataframe thead th {\n",
       "        text-align: right;\n",
       "    }\n",
       "</style>\n",
       "<table border=\"1\" class=\"dataframe\">\n",
       "  <thead>\n",
       "    <tr style=\"text-align: right;\">\n",
       "      <th></th>\n",
       "      <th>idf_weights</th>\n",
       "    </tr>\n",
       "  </thead>\n",
       "  <tbody>\n",
       "    <tr>\n",
       "      <th>zyxel</th>\n",
       "      <td>9.517293</td>\n",
       "    </tr>\n",
       "    <tr>\n",
       "      <th>kitefoil</th>\n",
       "      <td>9.517293</td>\n",
       "    </tr>\n",
       "    <tr>\n",
       "      <th>kiosco</th>\n",
       "      <td>9.517293</td>\n",
       "    </tr>\n",
       "    <tr>\n",
       "      <th>kipor</th>\n",
       "      <td>9.517293</td>\n",
       "    </tr>\n",
       "    <tr>\n",
       "      <th>kirchner</th>\n",
       "      <td>9.517293</td>\n",
       "    </tr>\n",
       "    <tr>\n",
       "      <th>talla</th>\n",
       "      <td>9.517293</td>\n",
       "    </tr>\n",
       "    <tr>\n",
       "      <th>talkbox</th>\n",
       "      <td>9.517293</td>\n",
       "    </tr>\n",
       "    <tr>\n",
       "      <th>kite</th>\n",
       "      <td>9.517293</td>\n",
       "    </tr>\n",
       "    <tr>\n",
       "      <th>kitrics</th>\n",
       "      <td>9.517293</td>\n",
       "    </tr>\n",
       "    <tr>\n",
       "      <th>kingtons</th>\n",
       "      <td>9.517293</td>\n",
       "    </tr>\n",
       "    <tr>\n",
       "      <th>talkabout</th>\n",
       "      <td>9.517293</td>\n",
       "    </tr>\n",
       "    <tr>\n",
       "      <th>kiwi</th>\n",
       "      <td>9.517293</td>\n",
       "    </tr>\n",
       "    <tr>\n",
       "      <th>kleancolo</th>\n",
       "      <td>9.517293</td>\n",
       "    </tr>\n",
       "    <tr>\n",
       "      <th>kleen</th>\n",
       "      <td>9.517293</td>\n",
       "    </tr>\n",
       "    <tr>\n",
       "      <th>klgs</th>\n",
       "      <td>9.517293</td>\n",
       "    </tr>\n",
       "    <tr>\n",
       "      <th>klipsch</th>\n",
       "      <td>9.517293</td>\n",
       "    </tr>\n",
       "    <tr>\n",
       "      <th>kingtyre</th>\n",
       "      <td>9.517293</td>\n",
       "    </tr>\n",
       "    <tr>\n",
       "      <th>tallarin</th>\n",
       "      <td>9.517293</td>\n",
       "    </tr>\n",
       "    <tr>\n",
       "      <th>klo</th>\n",
       "      <td>9.517293</td>\n",
       "    </tr>\n",
       "    <tr>\n",
       "      <th>killa</th>\n",
       "      <td>9.517293</td>\n",
       "    </tr>\n",
       "    <tr>\n",
       "      <th>kickboxin</th>\n",
       "      <td>9.517293</td>\n",
       "    </tr>\n",
       "    <tr>\n",
       "      <th>kickers</th>\n",
       "      <td>9.517293</td>\n",
       "    </tr>\n",
       "    <tr>\n",
       "      <th>tandil</th>\n",
       "      <td>9.517293</td>\n",
       "    </tr>\n",
       "    <tr>\n",
       "      <th>kidsvirtu</th>\n",
       "      <td>9.517293</td>\n",
       "    </tr>\n",
       "    <tr>\n",
       "      <th>kiel</th>\n",
       "      <td>9.517293</td>\n",
       "    </tr>\n",
       "    <tr>\n",
       "      <th>kilim</th>\n",
       "      <td>9.517293</td>\n",
       "    </tr>\n",
       "    <tr>\n",
       "      <th>talos</th>\n",
       "      <td>9.517293</td>\n",
       "    </tr>\n",
       "    <tr>\n",
       "      <th>kingshops</th>\n",
       "      <td>9.517293</td>\n",
       "    </tr>\n",
       "    <tr>\n",
       "      <th>talonera</th>\n",
       "      <td>9.517293</td>\n",
       "    </tr>\n",
       "    <tr>\n",
       "      <th>kinco</th>\n",
       "      <td>9.517293</td>\n",
       "    </tr>\n",
       "    <tr>\n",
       "      <th>...</th>\n",
       "      <td>...</td>\n",
       "    </tr>\n",
       "    <tr>\n",
       "      <th>unidad</th>\n",
       "      <td>5.474242</td>\n",
       "    </tr>\n",
       "    <tr>\n",
       "      <th>delantero</th>\n",
       "      <td>5.465508</td>\n",
       "    </tr>\n",
       "    <tr>\n",
       "      <th>cable</th>\n",
       "      <td>5.465508</td>\n",
       "    </tr>\n",
       "    <tr>\n",
       "      <th>mini</th>\n",
       "      <td>5.465508</td>\n",
       "    </tr>\n",
       "    <tr>\n",
       "      <th>peugeot</th>\n",
       "      <td>5.456850</td>\n",
       "    </tr>\n",
       "    <tr>\n",
       "      <th>dor</th>\n",
       "      <td>5.431317</td>\n",
       "    </tr>\n",
       "    <tr>\n",
       "      <th>tapar</th>\n",
       "      <td>5.398256</td>\n",
       "    </tr>\n",
       "    <tr>\n",
       "      <th>acerar</th>\n",
       "      <td>5.382127</td>\n",
       "    </tr>\n",
       "    <tr>\n",
       "      <th>kilogramo</th>\n",
       "      <td>5.358410</td>\n",
       "    </tr>\n",
       "    <tr>\n",
       "      <th>usar</th>\n",
       "      <td>5.350628</td>\n",
       "    </tr>\n",
       "    <tr>\n",
       "      <th>bateria</th>\n",
       "      <td>5.350628</td>\n",
       "    </tr>\n",
       "    <tr>\n",
       "      <th>luz</th>\n",
       "      <td>5.290459</td>\n",
       "    </tr>\n",
       "    <tr>\n",
       "      <th>fiat</th>\n",
       "      <td>5.275966</td>\n",
       "    </tr>\n",
       "    <tr>\n",
       "      <th>ford</th>\n",
       "      <td>5.233707</td>\n",
       "    </tr>\n",
       "    <tr>\n",
       "      <th>set</th>\n",
       "      <td>5.233707</td>\n",
       "    </tr>\n",
       "    <tr>\n",
       "      <th>maderar</th>\n",
       "      <td>5.220008</td>\n",
       "    </tr>\n",
       "    <tr>\n",
       "      <th>mesar</th>\n",
       "      <td>5.180002</td>\n",
       "    </tr>\n",
       "    <tr>\n",
       "      <th>jugar</th>\n",
       "      <td>5.147845</td>\n",
       "    </tr>\n",
       "    <tr>\n",
       "      <th>blanco</th>\n",
       "      <td>5.141536</td>\n",
       "    </tr>\n",
       "    <tr>\n",
       "      <th>caja</th>\n",
       "      <td>5.135267</td>\n",
       "    </tr>\n",
       "    <tr>\n",
       "      <th>litro</th>\n",
       "      <td>5.092447</td>\n",
       "    </tr>\n",
       "    <tr>\n",
       "      <th>led</th>\n",
       "      <td>5.039956</td>\n",
       "    </tr>\n",
       "    <tr>\n",
       "      <th>metro</th>\n",
       "      <td>5.006434</td>\n",
       "    </tr>\n",
       "    <tr>\n",
       "      <th>nuevo</th>\n",
       "      <td>4.973998</td>\n",
       "    </tr>\n",
       "    <tr>\n",
       "      <th>negro</th>\n",
       "      <td>4.897234</td>\n",
       "    </tr>\n",
       "    <tr>\n",
       "      <th>kit</th>\n",
       "      <td>4.657481</td>\n",
       "    </tr>\n",
       "    <tr>\n",
       "      <th>centimetr</th>\n",
       "      <td>4.557951</td>\n",
       "    </tr>\n",
       "    <tr>\n",
       "      <th>milimetro</th>\n",
       "      <td>4.496708</td>\n",
       "    </tr>\n",
       "    <tr>\n",
       "      <th>original</th>\n",
       "      <td>4.349654</td>\n",
       "    </tr>\n",
       "    <tr>\n",
       "      <th>parir</th>\n",
       "      <td>3.655083</td>\n",
       "    </tr>\n",
       "  </tbody>\n",
       "</table>\n",
       "<p>13469 rows × 1 columns</p>\n",
       "</div>"
      ],
      "text/plain": [
       "           idf_weights\n",
       "zyxel         9.517293\n",
       "kitefoil      9.517293\n",
       "kiosco        9.517293\n",
       "kipor         9.517293\n",
       "kirchner      9.517293\n",
       "talla         9.517293\n",
       "talkbox       9.517293\n",
       "kite          9.517293\n",
       "kitrics       9.517293\n",
       "kingtons      9.517293\n",
       "talkabout     9.517293\n",
       "kiwi          9.517293\n",
       "kleancolo     9.517293\n",
       "kleen         9.517293\n",
       "klgs          9.517293\n",
       "klipsch       9.517293\n",
       "kingtyre      9.517293\n",
       "tallarin      9.517293\n",
       "klo           9.517293\n",
       "killa         9.517293\n",
       "kickboxin     9.517293\n",
       "kickers       9.517293\n",
       "tandil        9.517293\n",
       "kidsvirtu     9.517293\n",
       "kiel          9.517293\n",
       "kilim         9.517293\n",
       "talos         9.517293\n",
       "kingshops     9.517293\n",
       "talonera      9.517293\n",
       "kinco         9.517293\n",
       "...                ...\n",
       "unidad        5.474242\n",
       "delantero     5.465508\n",
       "cable         5.465508\n",
       "mini          5.465508\n",
       "peugeot       5.456850\n",
       "dor           5.431317\n",
       "tapar         5.398256\n",
       "acerar        5.382127\n",
       "kilogramo     5.358410\n",
       "usar          5.350628\n",
       "bateria       5.350628\n",
       "luz           5.290459\n",
       "fiat          5.275966\n",
       "ford          5.233707\n",
       "set           5.233707\n",
       "maderar       5.220008\n",
       "mesar         5.180002\n",
       "jugar         5.147845\n",
       "blanco        5.141536\n",
       "caja          5.135267\n",
       "litro         5.092447\n",
       "led           5.039956\n",
       "metro         5.006434\n",
       "nuevo         4.973998\n",
       "negro         4.897234\n",
       "kit           4.657481\n",
       "centimetr     4.557951\n",
       "milimetro     4.496708\n",
       "original      4.349654\n",
       "parir         3.655083\n",
       "\n",
       "[13469 rows x 1 columns]"
      ]
     },
     "execution_count": 158,
     "metadata": {},
     "output_type": "execute_result"
    }
   ],
   "source": [
    "df_idf_es = pd.DataFrame(tfidf_mat_es.idf_, index=frecuencies_descriptor_es.get_feature_names(), columns=[\"idf_weights\"])\n",
    "# sort ascending\n",
    "df_idf_es.sort_values(by=['idf_weights'], ascending= False)\n"
   ]
  },
  {
   "cell_type": "code",
   "execution_count": 169,
   "metadata": {},
   "outputs": [],
   "source": [
    "iqr = df_idf_es.idf_weights.quantile(.75) - df_idf_es.idf_weights.quantile(.25)\n",
    "\n",
    "vocab_es = df_idf_es[df_idf_es.idf_weights >= df_idf_es.idf_weights.quantile(.25)-1.5*iqr].index #.sort_values(by ='idf_weights',ascending = False)\n",
    "\n",
    "# Voy a guardar el vocabulario\n",
    "#np.save('vocab_es.npy', vocab_es)"
   ]
  },
  {
   "cell_type": "code",
   "execution_count": 173,
   "metadata": {},
   "outputs": [
    {
     "data": {
      "application/vnd.jupyter.widget-view+json": {
       "model_id": "6b5d07e1e48d4e958de9c253182c5532",
       "version_major": 2,
       "version_minor": 0
      },
      "text/plain": [
       "HBox(children=(IntProgress(value=0, description='Pandas Apply', max=10000000, style=ProgressStyle(description_…"
      ]
     },
     "metadata": {},
     "output_type": "display_data"
    }
   ],
   "source": [
    "df_train_es['Text_After_Clean'] = df_train_es.title.swifter.apply(normalize,\n",
    "                                                             lowercase=True,\n",
    "                                                             remove_stopwords=True,\n",
    "                                                             nlp = nlp_es,\n",
    "                                                             stops = stops_es)"
   ]
  },
  {
   "cell_type": "code",
   "execution_count": 180,
   "metadata": {},
   "outputs": [
    {
     "data": {
      "text/html": [
       "<div>\n",
       "<style scoped>\n",
       "    .dataframe tbody tr th:only-of-type {\n",
       "        vertical-align: middle;\n",
       "    }\n",
       "\n",
       "    .dataframe tbody tr th {\n",
       "        vertical-align: top;\n",
       "    }\n",
       "\n",
       "    .dataframe thead th {\n",
       "        text-align: right;\n",
       "    }\n",
       "</style>\n",
       "<table border=\"1\" class=\"dataframe\">\n",
       "  <thead>\n",
       "    <tr style=\"text-align: right;\">\n",
       "      <th></th>\n",
       "      <th>language</th>\n",
       "      <th>category</th>\n",
       "      <th>Text_After_Clean</th>\n",
       "    </tr>\n",
       "  </thead>\n",
       "  <tbody>\n",
       "    <tr>\n",
       "      <th>0</th>\n",
       "      <td>spanish</td>\n",
       "      <td>ELECTRIC_PRESSURE_WASHERS</td>\n",
       "      <td>hidrolavadora lavor one bar w bombo aluminio i...</td>\n",
       "    </tr>\n",
       "    <tr>\n",
       "      <th>1</th>\n",
       "      <td>spanish</td>\n",
       "      <td>SOUND_CARDS</td>\n",
       "      <td>placa sonido - behringer umc</td>\n",
       "    </tr>\n",
       "    <tr>\n",
       "      <th>2</th>\n",
       "      <td>spanish</td>\n",
       "      <td>FALSE_EYELASHES</td>\n",
       "      <td>flash led pestana luminoso falso pestana parir...</td>\n",
       "    </tr>\n",
       "    <tr>\n",
       "      <th>3</th>\n",
       "      <td>spanish</td>\n",
       "      <td>LUNCHBOXES</td>\n",
       "      <td>gatito lunchera neoprene</td>\n",
       "    </tr>\n",
       "    <tr>\n",
       "      <th>4</th>\n",
       "      <td>spanish</td>\n",
       "      <td>BILL_COUNTERS</td>\n",
       "      <td>rosario contador billete uv / miligramo detect...</td>\n",
       "    </tr>\n",
       "  </tbody>\n",
       "</table>\n",
       "</div>"
      ],
      "text/plain": [
       "  language                   category  \\\n",
       "0  spanish  ELECTRIC_PRESSURE_WASHERS   \n",
       "1  spanish                SOUND_CARDS   \n",
       "2  spanish            FALSE_EYELASHES   \n",
       "3  spanish                 LUNCHBOXES   \n",
       "4  spanish              BILL_COUNTERS   \n",
       "\n",
       "                                    Text_After_Clean  \n",
       "0  hidrolavadora lavor one bar w bombo aluminio i...  \n",
       "1                       placa sonido - behringer umc  \n",
       "2  flash led pestana luminoso falso pestana parir...  \n",
       "3                           gatito lunchera neoprene  \n",
       "4  rosario contador billete uv / miligramo detect...  "
      ]
     },
     "execution_count": 180,
     "metadata": {},
     "output_type": "execute_result"
    }
   ],
   "source": [
    "df_train_es.head()"
   ]
  },
  {
   "cell_type": "code",
   "execution_count": 178,
   "metadata": {},
   "outputs": [],
   "source": [
    "## 17/9\n",
    "#df_train_es.drop(['title', 'label_quality'], axis = 1, inplace = True)\n",
    "#df_train_es.to_hdf('data/df_train_es.h5', key = 'data/')"
   ]
  },
  {
   "cell_type": "code",
   "execution_count": null,
   "metadata": {},
   "outputs": [],
   "source": [
    "#df_train.to_hdf('data/undersamp_es_10000.h5', key = 'data/')\n",
    "#Y.to_hdf('data/Y_undersamp_es_10000.h5', key = 'data/')"
   ]
  },
  {
   "cell_type": "code",
   "execution_count": 184,
   "metadata": {
    "collapsed": true,
    "jupyter": {
     "outputs_hidden": true
    }
   },
   "outputs": [
    {
     "ename": "AttributeError",
     "evalue": "'TfidfVectorizer' object has no attribute 'shape'",
     "output_type": "error",
     "traceback": [
      "\u001b[0;31m---------------------------------------------------------------------------\u001b[0m",
      "\u001b[0;31mAttributeError\u001b[0m                            Traceback (most recent call last)",
      "\u001b[0;32m<ipython-input-184-6f4356adb927>\u001b[0m in \u001b[0;36m<module>\u001b[0;34m\u001b[0m\n\u001b[1;32m      2\u001b[0m                                             token_pattern = '\\w{3,9}', smooth_idf=True, use_idf=True, norm = 'l1')\n\u001b[1;32m      3\u001b[0m \u001b[0mtfidf_es\u001b[0m \u001b[0;34m=\u001b[0m \u001b[0mtfidf_es\u001b[0m\u001b[0;34m.\u001b[0m\u001b[0mfit\u001b[0m\u001b[0;34m(\u001b[0m\u001b[0mdf_train_es\u001b[0m\u001b[0;34m.\u001b[0m\u001b[0mText_After_Clean\u001b[0m\u001b[0;34m)\u001b[0m\u001b[0;34m\u001b[0m\u001b[0;34m\u001b[0m\u001b[0m\n\u001b[0;32m----> 4\u001b[0;31m \u001b[0mtfidf_es\u001b[0m\u001b[0;34m.\u001b[0m\u001b[0mshape\u001b[0m\u001b[0;34m\u001b[0m\u001b[0;34m\u001b[0m\u001b[0m\n\u001b[0m",
      "\u001b[0;31mAttributeError\u001b[0m: 'TfidfVectorizer' object has no attribute 'shape'"
     ]
    }
   ],
   "source": [
    "tfidf_es = TfidfVectorizer(vocabulary=vocab_es, strip_accents='unicode', max_df = .1, analyzer = 'word',\n",
    "                                            token_pattern = '\\w{3,9}', smooth_idf=True, use_idf=True, norm = 'l1')\n",
    "tfidf_es = tfidf_es.fit(df_train_es.Text_After_Clean)"
   ]
  },
  {
   "cell_type": "markdown",
   "metadata": {},
   "source": [
    "* Luego de haber guardado el vocabulario, solo basta pasar todos los textos por la normalización, guardar ese df y crear el descriptor con el vocabulario listo."
   ]
  },
  {
   "cell_type": "code",
   "execution_count": 185,
   "metadata": {},
   "outputs": [
    {
     "data": {
      "text/plain": [
       "['tfidf_trained_es.joblib']"
      ]
     },
     "execution_count": 185,
     "metadata": {},
     "output_type": "execute_result"
    }
   ],
   "source": [
    "\n",
    "#dump(tfidf_es, 'tfidf_trained_es.joblib')"
   ]
  },
  {
   "cell_type": "code",
   "execution_count": 187,
   "metadata": {},
   "outputs": [
    {
     "data": {
      "text/plain": [
       "(10000000, 3)"
      ]
     },
     "execution_count": 187,
     "metadata": {},
     "output_type": "execute_result"
    }
   ],
   "source": [
    "df_train_es.shape"
   ]
  },
  {
   "cell_type": "code",
   "execution_count": 188,
   "metadata": {},
   "outputs": [],
   "source": [
    "tfidf_mat_es = tfidf_es.transform(df_train_es.Text_After_Clean)"
   ]
  },
  {
   "cell_type": "code",
   "execution_count": 189,
   "metadata": {},
   "outputs": [
    {
     "data": {
      "text/plain": [
       "(10000000, 12424)"
      ]
     },
     "execution_count": 189,
     "metadata": {},
     "output_type": "execute_result"
    }
   ],
   "source": [
    "tfidf_mat_es.shape"
   ]
  },
  {
   "cell_type": "code",
   "execution_count": null,
   "metadata": {},
   "outputs": [],
   "source": [
    "pd.DataFrame(tfidf_mat_es).shape"
   ]
  },
  {
   "cell_type": "code",
   "execution_count": null,
   "metadata": {},
   "outputs": [],
   "source": []
  },
  {
   "cell_type": "code",
   "execution_count": 37,
   "metadata": {},
   "outputs": [
    {
     "data": {
      "text/plain": [
       "0      ELECTRIC_PRESSURE_WASHERS\n",
       "1                    SOUND_CARDS\n",
       "2                FALSE_EYELASHES\n",
       "3                     LUNCHBOXES\n",
       "4                  BILL_COUNTERS\n",
       "5    PORTABLE_CELLPHONE_CHARGERS\n",
       "6                   GARAGE_DOORS\n",
       "7                   LABEL_MAKERS\n",
       "8                   CAKE_TOPPERS\n",
       "9                SCREEN_PRINTERS\n",
       "Name: category, dtype: object"
      ]
     },
     "execution_count": 37,
     "metadata": {},
     "output_type": "execute_result"
    }
   ],
   "source": [
    "Y = df_train_es.category[:1000]\n",
    "Y[:10]"
   ]
  },
  {
   "cell_type": "markdown",
   "metadata": {},
   "source": [
    "-------\n",
    "# Modelamiento"
   ]
  },
  {
   "cell_type": "code",
   "execution_count": 41,
   "metadata": {},
   "outputs": [
    {
     "data": {
      "text/plain": [
       "array([1.00000000e-03, 4.64158883e-03, 2.15443469e-02, 1.00000000e-01,\n",
       "       4.64158883e-01, 2.15443469e+00, 1.00000000e+01, 4.64158883e+01,\n",
       "       2.15443469e+02, 1.00000000e+03])"
      ]
     },
     "execution_count": 41,
     "metadata": {},
     "output_type": "execute_result"
    }
   ],
   "source": [
    "np.logspace(-3,3,10)"
   ]
  },
  {
   "cell_type": "code",
   "execution_count": 42,
   "metadata": {
    "collapsed": true,
    "jupyter": {
     "outputs_hidden": true
    }
   },
   "outputs": [
    {
     "name": "stderr",
     "output_type": "stream",
     "text": [
      "/Users/ignacio/anaconda3/lib/python3.7/site-packages/sklearn/model_selection/_split.py:657: Warning: The least populated class in y has only 1 members, which is too few. The minimum number of members in any class cannot be less than n_splits=5.\n",
      "  % (min_groups, self.n_splits)), Warning)\n",
      "distributed.scheduler - ERROR - 'ndarray-e0bd49439612fe03dd64fd6bab25470c'\n",
      "Traceback (most recent call last):\n",
      "  File \"/Users/ignacio/anaconda3/lib/python3.7/site-packages/distributed/scheduler.py\", line 1746, in update_graph\n",
      "    resources=resources,\n",
      "  File \"/Users/ignacio/anaconda3/lib/python3.7/site-packages/distributed/diagnostics/graph_layout.py\", line 50, in update_graph\n",
      "    deps = dependencies[key]\n",
      "KeyError: 'ndarray-e0bd49439612fe03dd64fd6bab25470c'\n",
      "distributed.scheduler - ERROR - 'DataFrame-3255ff69edb9462e43210104c3085784'\n",
      "Traceback (most recent call last):\n",
      "  File \"/Users/ignacio/anaconda3/lib/python3.7/site-packages/distributed/scheduler.py\", line 1746, in update_graph\n",
      "    resources=resources,\n",
      "  File \"/Users/ignacio/anaconda3/lib/python3.7/site-packages/distributed/diagnostics/graph_layout.py\", line 50, in update_graph\n",
      "    deps = dependencies[key]\n",
      "KeyError: 'DataFrame-3255ff69edb9462e43210104c3085784'\n",
      "distributed.scheduler - ERROR - 'ndarray-bf4a2743c10601b70d30679e60413932'\n",
      "Traceback (most recent call last):\n",
      "  File \"/Users/ignacio/anaconda3/lib/python3.7/site-packages/distributed/scheduler.py\", line 1746, in update_graph\n",
      "    resources=resources,\n",
      "  File \"/Users/ignacio/anaconda3/lib/python3.7/site-packages/distributed/diagnostics/graph_layout.py\", line 50, in update_graph\n",
      "    deps = dependencies[key]\n",
      "KeyError: 'ndarray-bf4a2743c10601b70d30679e60413932'\n",
      "distributed.scheduler - ERROR - 'ndarray-dcb46ab9882df99da0f0604cad1b79cb'\n",
      "Traceback (most recent call last):\n",
      "  File \"/Users/ignacio/anaconda3/lib/python3.7/site-packages/distributed/scheduler.py\", line 1746, in update_graph\n",
      "    resources=resources,\n",
      "  File \"/Users/ignacio/anaconda3/lib/python3.7/site-packages/distributed/diagnostics/graph_layout.py\", line 50, in update_graph\n",
      "    deps = dependencies[key]\n",
      "KeyError: 'ndarray-dcb46ab9882df99da0f0604cad1b79cb'\n",
      "distributed.scheduler - ERROR - 'DataFrame-3255ff69edb9462e43210104c3085784'\n",
      "Traceback (most recent call last):\n",
      "  File \"/Users/ignacio/anaconda3/lib/python3.7/site-packages/distributed/scheduler.py\", line 1746, in update_graph\n",
      "    resources=resources,\n",
      "  File \"/Users/ignacio/anaconda3/lib/python3.7/site-packages/distributed/diagnostics/graph_layout.py\", line 50, in update_graph\n",
      "    deps = dependencies[key]\n",
      "KeyError: 'DataFrame-3255ff69edb9462e43210104c3085784'\n",
      "distributed.scheduler - ERROR - 'ndarray-e0bd49439612fe03dd64fd6bab25470c'\n",
      "Traceback (most recent call last):\n",
      "  File \"/Users/ignacio/anaconda3/lib/python3.7/site-packages/distributed/scheduler.py\", line 1746, in update_graph\n",
      "    resources=resources,\n",
      "  File \"/Users/ignacio/anaconda3/lib/python3.7/site-packages/distributed/diagnostics/graph_layout.py\", line 50, in update_graph\n",
      "    deps = dependencies[key]\n",
      "KeyError: 'ndarray-e0bd49439612fe03dd64fd6bab25470c'\n",
      "distributed.scheduler - ERROR - 'DataFrame-3255ff69edb9462e43210104c3085784'\n",
      "Traceback (most recent call last):\n",
      "  File \"/Users/ignacio/anaconda3/lib/python3.7/site-packages/distributed/scheduler.py\", line 1746, in update_graph\n",
      "    resources=resources,\n",
      "  File \"/Users/ignacio/anaconda3/lib/python3.7/site-packages/distributed/diagnostics/graph_layout.py\", line 50, in update_graph\n",
      "    deps = dependencies[key]\n",
      "KeyError: 'DataFrame-3255ff69edb9462e43210104c3085784'\n",
      "distributed.scheduler - ERROR - 'ndarray-bf4a2743c10601b70d30679e60413932'\n",
      "Traceback (most recent call last):\n",
      "  File \"/Users/ignacio/anaconda3/lib/python3.7/site-packages/distributed/scheduler.py\", line 1746, in update_graph\n",
      "    resources=resources,\n",
      "  File \"/Users/ignacio/anaconda3/lib/python3.7/site-packages/distributed/diagnostics/graph_layout.py\", line 50, in update_graph\n",
      "    deps = dependencies[key]\n",
      "KeyError: 'ndarray-bf4a2743c10601b70d30679e60413932'\n",
      "distributed.scheduler - ERROR - 'ndarray-dcb46ab9882df99da0f0604cad1b79cb'\n",
      "Traceback (most recent call last):\n",
      "  File \"/Users/ignacio/anaconda3/lib/python3.7/site-packages/distributed/scheduler.py\", line 1746, in update_graph\n",
      "    resources=resources,\n",
      "  File \"/Users/ignacio/anaconda3/lib/python3.7/site-packages/distributed/diagnostics/graph_layout.py\", line 50, in update_graph\n",
      "    deps = dependencies[key]\n",
      "KeyError: 'ndarray-dcb46ab9882df99da0f0604cad1b79cb'\n",
      "distributed.scheduler - ERROR - 'DataFrame-3255ff69edb9462e43210104c3085784'\n",
      "Traceback (most recent call last):\n",
      "  File \"/Users/ignacio/anaconda3/lib/python3.7/site-packages/distributed/scheduler.py\", line 1746, in update_graph\n",
      "    resources=resources,\n",
      "  File \"/Users/ignacio/anaconda3/lib/python3.7/site-packages/distributed/diagnostics/graph_layout.py\", line 50, in update_graph\n",
      "    deps = dependencies[key]\n",
      "KeyError: 'DataFrame-3255ff69edb9462e43210104c3085784'\n",
      "distributed.scheduler - ERROR - 'ndarray-e0bd49439612fe03dd64fd6bab25470c'\n",
      "Traceback (most recent call last):\n",
      "  File \"/Users/ignacio/anaconda3/lib/python3.7/site-packages/distributed/scheduler.py\", line 1746, in update_graph\n",
      "    resources=resources,\n",
      "  File \"/Users/ignacio/anaconda3/lib/python3.7/site-packages/distributed/diagnostics/graph_layout.py\", line 50, in update_graph\n",
      "    deps = dependencies[key]\n",
      "KeyError: 'ndarray-e0bd49439612fe03dd64fd6bab25470c'\n",
      "distributed.scheduler - ERROR - 'DataFrame-3255ff69edb9462e43210104c3085784'\n",
      "Traceback (most recent call last):\n",
      "  File \"/Users/ignacio/anaconda3/lib/python3.7/site-packages/distributed/scheduler.py\", line 1746, in update_graph\n",
      "    resources=resources,\n",
      "  File \"/Users/ignacio/anaconda3/lib/python3.7/site-packages/distributed/diagnostics/graph_layout.py\", line 50, in update_graph\n",
      "    deps = dependencies[key]\n",
      "KeyError: 'DataFrame-3255ff69edb9462e43210104c3085784'\n",
      "distributed.scheduler - ERROR - 'ndarray-bf4a2743c10601b70d30679e60413932'\n",
      "Traceback (most recent call last):\n",
      "  File \"/Users/ignacio/anaconda3/lib/python3.7/site-packages/distributed/scheduler.py\", line 1746, in update_graph\n",
      "    resources=resources,\n",
      "  File \"/Users/ignacio/anaconda3/lib/python3.7/site-packages/distributed/diagnostics/graph_layout.py\", line 50, in update_graph\n",
      "    deps = dependencies[key]\n",
      "KeyError: 'ndarray-bf4a2743c10601b70d30679e60413932'\n",
      "distributed.scheduler - ERROR - 'ndarray-dcb46ab9882df99da0f0604cad1b79cb'\n",
      "Traceback (most recent call last):\n",
      "  File \"/Users/ignacio/anaconda3/lib/python3.7/site-packages/distributed/scheduler.py\", line 1746, in update_graph\n",
      "    resources=resources,\n",
      "  File \"/Users/ignacio/anaconda3/lib/python3.7/site-packages/distributed/diagnostics/graph_layout.py\", line 50, in update_graph\n",
      "    deps = dependencies[key]\n",
      "KeyError: 'ndarray-dcb46ab9882df99da0f0604cad1b79cb'\n",
      "distributed.utils - ERROR - '<' not supported between instances of 'NoneType' and 'tuple'\n",
      "Traceback (most recent call last):\n",
      "  File \"/Users/ignacio/anaconda3/lib/python3.7/site-packages/distributed/utils.py\", line 714, in log_errors\n",
      "    yield\n",
      "  File \"/Users/ignacio/anaconda3/lib/python3.7/site-packages/distributed/dashboard/scheduler.py\", line 1439, in graph_doc\n",
      "    graph = GraphPlot(scheduler, sizing_mode=\"stretch_both\")\n",
      "  File \"/Users/ignacio/anaconda3/lib/python3.7/site-packages/distributed/dashboard/scheduler.py\", line 773, in __init__\n",
      "    self.layout = GraphLayout(scheduler)\n",
      "  File \"/Users/ignacio/anaconda3/lib/python3.7/site-packages/distributed/diagnostics/graph_layout.py\", line 41, in __init__\n",
      "    self.scheduler, dependencies=dependencies, priority=priority\n",
      "  File \"/Users/ignacio/anaconda3/lib/python3.7/site-packages/distributed/diagnostics/graph_layout.py\", line 45, in update_graph\n",
      "    stack = sorted(dependencies, key=lambda k: priority.get(k, 0), reverse=True)\n",
      "TypeError: '<' not supported between instances of 'NoneType' and 'tuple'\n",
      "tornado.application - ERROR - Uncaught exception GET /graph (127.0.0.1)\n",
      "HTTPServerRequest(protocol='http', host='127.0.0.1:8787', method='GET', uri='/graph', version='HTTP/1.1', remote_ip='127.0.0.1')\n",
      "Traceback (most recent call last):\n",
      "  File \"/Users/ignacio/anaconda3/lib/python3.7/site-packages/tornado/web.py\", line 1699, in _execute\n",
      "    result = await result\n",
      "  File \"/Users/ignacio/anaconda3/lib/python3.7/site-packages/tornado/gen.py\", line 742, in run\n",
      "    yielded = self.gen.throw(*exc_info)  # type: ignore\n",
      "  File \"/Users/ignacio/anaconda3/lib/python3.7/site-packages/bokeh/server/views/doc_handler.py\", line 55, in get\n",
      "    session = yield self.get_session()\n",
      "  File \"/Users/ignacio/anaconda3/lib/python3.7/site-packages/tornado/gen.py\", line 735, in run\n",
      "    value = future.result()\n",
      "  File \"/Users/ignacio/anaconda3/lib/python3.7/site-packages/tornado/gen.py\", line 742, in run\n",
      "    yielded = self.gen.throw(*exc_info)  # type: ignore\n",
      "  File \"/Users/ignacio/anaconda3/lib/python3.7/site-packages/bokeh/server/views/session_handler.py\", line 77, in get_session\n",
      "    session = yield self.application_context.create_session_if_needed(session_id, self.request)\n",
      "  File \"/Users/ignacio/anaconda3/lib/python3.7/site-packages/tornado/gen.py\", line 735, in run\n",
      "    value = future.result()\n",
      "  File \"/Users/ignacio/anaconda3/lib/python3.7/site-packages/tornado/gen.py\", line 748, in run\n",
      "    yielded = self.gen.send(value)\n",
      "  File \"/Users/ignacio/anaconda3/lib/python3.7/site-packages/bokeh/server/contexts.py\", line 215, in create_session_if_needed\n",
      "    self._application.initialize_document(doc)\n",
      "  File \"/Users/ignacio/anaconda3/lib/python3.7/site-packages/bokeh/application/application.py\", line 178, in initialize_document\n",
      "    h.modify_document(doc)\n",
      "  File \"/Users/ignacio/anaconda3/lib/python3.7/site-packages/bokeh/application/handlers/function.py\", line 133, in modify_document\n",
      "    self._func(doc)\n",
      "  File \"/Users/ignacio/anaconda3/lib/python3.7/site-packages/distributed/dashboard/scheduler.py\", line 1439, in graph_doc\n",
      "    graph = GraphPlot(scheduler, sizing_mode=\"stretch_both\")\n",
      "  File \"/Users/ignacio/anaconda3/lib/python3.7/site-packages/distributed/dashboard/scheduler.py\", line 773, in __init__\n",
      "    self.layout = GraphLayout(scheduler)\n",
      "  File \"/Users/ignacio/anaconda3/lib/python3.7/site-packages/distributed/diagnostics/graph_layout.py\", line 41, in __init__\n",
      "    self.scheduler, dependencies=dependencies, priority=priority\n",
      "  File \"/Users/ignacio/anaconda3/lib/python3.7/site-packages/distributed/diagnostics/graph_layout.py\", line 45, in update_graph\n",
      "    stack = sorted(dependencies, key=lambda k: priority.get(k, 0), reverse=True)\n",
      "TypeError: '<' not supported between instances of 'NoneType' and 'tuple'\n",
      "Exception ignored in: <function GraphPlot.__del__ at 0x1c2538bf28>\n",
      "Traceback (most recent call last):\n",
      "  File \"/Users/ignacio/anaconda3/lib/python3.7/site-packages/distributed/dashboard/scheduler.py\", line 927, in __del__\n",
      "    self.scheduler.remove_plugin(self.layout)\n",
      "AttributeError: 'GraphPlot' object has no attribute 'layout'\n",
      "distributed.scheduler - ERROR - 'DataFrame-3255ff69edb9462e43210104c3085784'\n",
      "Traceback (most recent call last):\n",
      "  File \"/Users/ignacio/anaconda3/lib/python3.7/site-packages/distributed/scheduler.py\", line 1746, in update_graph\n",
      "    resources=resources,\n",
      "  File \"/Users/ignacio/anaconda3/lib/python3.7/site-packages/distributed/diagnostics/graph_layout.py\", line 50, in update_graph\n",
      "    deps = dependencies[key]\n",
      "KeyError: 'DataFrame-3255ff69edb9462e43210104c3085784'\n",
      "distributed.scheduler - ERROR - 'DataFrame-3255ff69edb9462e43210104c3085784'\n",
      "Traceback (most recent call last):\n",
      "  File \"/Users/ignacio/anaconda3/lib/python3.7/site-packages/distributed/scheduler.py\", line 1746, in update_graph\n",
      "    resources=resources,\n",
      "  File \"/Users/ignacio/anaconda3/lib/python3.7/site-packages/distributed/diagnostics/graph_layout.py\", line 50, in update_graph\n",
      "    deps = dependencies[key]\n",
      "KeyError: 'DataFrame-3255ff69edb9462e43210104c3085784'\n",
      "distributed.scheduler - ERROR - 'ndarray-e0bd49439612fe03dd64fd6bab25470c'\n",
      "Traceback (most recent call last):\n",
      "  File \"/Users/ignacio/anaconda3/lib/python3.7/site-packages/distributed/scheduler.py\", line 1746, in update_graph\n",
      "    resources=resources,\n",
      "  File \"/Users/ignacio/anaconda3/lib/python3.7/site-packages/distributed/diagnostics/graph_layout.py\", line 50, in update_graph\n",
      "    deps = dependencies[key]\n",
      "KeyError: 'ndarray-e0bd49439612fe03dd64fd6bab25470c'\n",
      "distributed.scheduler - ERROR - 'ndarray-e0bd49439612fe03dd64fd6bab25470c'\n",
      "Traceback (most recent call last):\n",
      "  File \"/Users/ignacio/anaconda3/lib/python3.7/site-packages/distributed/scheduler.py\", line 1746, in update_graph\n",
      "    resources=resources,\n",
      "  File \"/Users/ignacio/anaconda3/lib/python3.7/site-packages/distributed/diagnostics/graph_layout.py\", line 50, in update_graph\n",
      "    deps = dependencies[key]\n",
      "KeyError: 'ndarray-e0bd49439612fe03dd64fd6bab25470c'\n",
      "distributed.scheduler - ERROR - 'DataFrame-3255ff69edb9462e43210104c3085784'\n",
      "Traceback (most recent call last):\n",
      "  File \"/Users/ignacio/anaconda3/lib/python3.7/site-packages/distributed/scheduler.py\", line 1746, in update_graph\n",
      "    resources=resources,\n",
      "  File \"/Users/ignacio/anaconda3/lib/python3.7/site-packages/distributed/diagnostics/graph_layout.py\", line 50, in update_graph\n",
      "    deps = dependencies[key]\n",
      "KeyError: 'DataFrame-3255ff69edb9462e43210104c3085784'\n",
      "distributed.scheduler - ERROR - 'DataFrame-3255ff69edb9462e43210104c3085784'\n",
      "Traceback (most recent call last):\n",
      "  File \"/Users/ignacio/anaconda3/lib/python3.7/site-packages/distributed/scheduler.py\", line 1746, in update_graph\n",
      "    resources=resources,\n",
      "  File \"/Users/ignacio/anaconda3/lib/python3.7/site-packages/distributed/diagnostics/graph_layout.py\", line 50, in update_graph\n",
      "    deps = dependencies[key]\n",
      "KeyError: 'DataFrame-3255ff69edb9462e43210104c3085784'\n",
      "distributed.scheduler - ERROR - 'ndarray-bf4a2743c10601b70d30679e60413932'\n",
      "Traceback (most recent call last):\n",
      "  File \"/Users/ignacio/anaconda3/lib/python3.7/site-packages/distributed/scheduler.py\", line 1746, in update_graph\n",
      "    resources=resources,\n",
      "  File \"/Users/ignacio/anaconda3/lib/python3.7/site-packages/distributed/diagnostics/graph_layout.py\", line 50, in update_graph\n",
      "    deps = dependencies[key]\n",
      "KeyError: 'ndarray-bf4a2743c10601b70d30679e60413932'\n",
      "distributed.scheduler - ERROR - 'ndarray-bf4a2743c10601b70d30679e60413932'\n",
      "Traceback (most recent call last):\n",
      "  File \"/Users/ignacio/anaconda3/lib/python3.7/site-packages/distributed/scheduler.py\", line 1746, in update_graph\n",
      "    resources=resources,\n",
      "  File \"/Users/ignacio/anaconda3/lib/python3.7/site-packages/distributed/diagnostics/graph_layout.py\", line 50, in update_graph\n",
      "    deps = dependencies[key]\n",
      "KeyError: 'ndarray-bf4a2743c10601b70d30679e60413932'\n",
      "distributed.scheduler - ERROR - 'ndarray-dcb46ab9882df99da0f0604cad1b79cb'\n",
      "Traceback (most recent call last):\n",
      "  File \"/Users/ignacio/anaconda3/lib/python3.7/site-packages/distributed/scheduler.py\", line 1746, in update_graph\n",
      "    resources=resources,\n",
      "  File \"/Users/ignacio/anaconda3/lib/python3.7/site-packages/distributed/diagnostics/graph_layout.py\", line 50, in update_graph\n",
      "    deps = dependencies[key]\n",
      "KeyError: 'ndarray-dcb46ab9882df99da0f0604cad1b79cb'\n",
      "distributed.scheduler - ERROR - 'ndarray-dcb46ab9882df99da0f0604cad1b79cb'\n",
      "Traceback (most recent call last):\n",
      "  File \"/Users/ignacio/anaconda3/lib/python3.7/site-packages/distributed/scheduler.py\", line 1746, in update_graph\n",
      "    resources=resources,\n",
      "  File \"/Users/ignacio/anaconda3/lib/python3.7/site-packages/distributed/diagnostics/graph_layout.py\", line 50, in update_graph\n",
      "    deps = dependencies[key]\n",
      "KeyError: 'ndarray-dcb46ab9882df99da0f0604cad1b79cb'\n",
      "distributed.scheduler - ERROR - 'DataFrame-3255ff69edb9462e43210104c3085784'\n",
      "Traceback (most recent call last):\n",
      "  File \"/Users/ignacio/anaconda3/lib/python3.7/site-packages/distributed/scheduler.py\", line 1746, in update_graph\n",
      "    resources=resources,\n",
      "  File \"/Users/ignacio/anaconda3/lib/python3.7/site-packages/distributed/diagnostics/graph_layout.py\", line 50, in update_graph\n",
      "    deps = dependencies[key]\n",
      "KeyError: 'DataFrame-3255ff69edb9462e43210104c3085784'\n",
      "distributed.scheduler - ERROR - 'ndarray-e0bd49439612fe03dd64fd6bab25470c'\n",
      "Traceback (most recent call last):\n",
      "  File \"/Users/ignacio/anaconda3/lib/python3.7/site-packages/distributed/scheduler.py\", line 1746, in update_graph\n",
      "    resources=resources,\n",
      "  File \"/Users/ignacio/anaconda3/lib/python3.7/site-packages/distributed/diagnostics/graph_layout.py\", line 50, in update_graph\n",
      "    deps = dependencies[key]\n",
      "KeyError: 'ndarray-e0bd49439612fe03dd64fd6bab25470c'\n",
      "distributed.scheduler - ERROR - 'DataFrame-3255ff69edb9462e43210104c3085784'\n",
      "Traceback (most recent call last):\n",
      "  File \"/Users/ignacio/anaconda3/lib/python3.7/site-packages/distributed/scheduler.py\", line 1746, in update_graph\n",
      "    resources=resources,\n",
      "  File \"/Users/ignacio/anaconda3/lib/python3.7/site-packages/distributed/diagnostics/graph_layout.py\", line 50, in update_graph\n",
      "    deps = dependencies[key]\n",
      "KeyError: 'DataFrame-3255ff69edb9462e43210104c3085784'\n",
      "distributed.scheduler - ERROR - 'ndarray-bf4a2743c10601b70d30679e60413932'\n",
      "Traceback (most recent call last):\n",
      "  File \"/Users/ignacio/anaconda3/lib/python3.7/site-packages/distributed/scheduler.py\", line 1746, in update_graph\n",
      "    resources=resources,\n",
      "  File \"/Users/ignacio/anaconda3/lib/python3.7/site-packages/distributed/diagnostics/graph_layout.py\", line 50, in update_graph\n",
      "    deps = dependencies[key]\n",
      "KeyError: 'ndarray-bf4a2743c10601b70d30679e60413932'\n",
      "distributed.scheduler - ERROR - 'ndarray-dcb46ab9882df99da0f0604cad1b79cb'\n",
      "Traceback (most recent call last):\n",
      "  File \"/Users/ignacio/anaconda3/lib/python3.7/site-packages/distributed/scheduler.py\", line 1746, in update_graph\n",
      "    resources=resources,\n",
      "  File \"/Users/ignacio/anaconda3/lib/python3.7/site-packages/distributed/diagnostics/graph_layout.py\", line 50, in update_graph\n",
      "    deps = dependencies[key]\n",
      "KeyError: 'ndarray-dcb46ab9882df99da0f0604cad1b79cb'\n",
      "distributed.scheduler - ERROR - 'DataFrame-3255ff69edb9462e43210104c3085784'\n",
      "Traceback (most recent call last):\n",
      "  File \"/Users/ignacio/anaconda3/lib/python3.7/site-packages/distributed/scheduler.py\", line 1746, in update_graph\n",
      "    resources=resources,\n",
      "  File \"/Users/ignacio/anaconda3/lib/python3.7/site-packages/distributed/diagnostics/graph_layout.py\", line 50, in update_graph\n",
      "    deps = dependencies[key]\n",
      "KeyError: 'DataFrame-3255ff69edb9462e43210104c3085784'\n",
      "distributed.scheduler - ERROR - 'ndarray-e0bd49439612fe03dd64fd6bab25470c'\n",
      "Traceback (most recent call last):\n",
      "  File \"/Users/ignacio/anaconda3/lib/python3.7/site-packages/distributed/scheduler.py\", line 1746, in update_graph\n",
      "    resources=resources,\n",
      "  File \"/Users/ignacio/anaconda3/lib/python3.7/site-packages/distributed/diagnostics/graph_layout.py\", line 50, in update_graph\n",
      "    deps = dependencies[key]\n",
      "KeyError: 'ndarray-e0bd49439612fe03dd64fd6bab25470c'\n",
      "distributed.scheduler - ERROR - 'DataFrame-3255ff69edb9462e43210104c3085784'\n",
      "Traceback (most recent call last):\n",
      "  File \"/Users/ignacio/anaconda3/lib/python3.7/site-packages/distributed/scheduler.py\", line 1746, in update_graph\n",
      "    resources=resources,\n",
      "  File \"/Users/ignacio/anaconda3/lib/python3.7/site-packages/distributed/diagnostics/graph_layout.py\", line 50, in update_graph\n",
      "    deps = dependencies[key]\n",
      "KeyError: 'DataFrame-3255ff69edb9462e43210104c3085784'\n",
      "distributed.scheduler - ERROR - 'ndarray-bf4a2743c10601b70d30679e60413932'\n",
      "Traceback (most recent call last):\n",
      "  File \"/Users/ignacio/anaconda3/lib/python3.7/site-packages/distributed/scheduler.py\", line 1746, in update_graph\n",
      "    resources=resources,\n",
      "  File \"/Users/ignacio/anaconda3/lib/python3.7/site-packages/distributed/diagnostics/graph_layout.py\", line 50, in update_graph\n",
      "    deps = dependencies[key]\n",
      "KeyError: 'ndarray-bf4a2743c10601b70d30679e60413932'\n",
      "distributed.scheduler - ERROR - 'ndarray-dcb46ab9882df99da0f0604cad1b79cb'\n",
      "Traceback (most recent call last):\n",
      "  File \"/Users/ignacio/anaconda3/lib/python3.7/site-packages/distributed/scheduler.py\", line 1746, in update_graph\n",
      "    resources=resources,\n",
      "  File \"/Users/ignacio/anaconda3/lib/python3.7/site-packages/distributed/diagnostics/graph_layout.py\", line 50, in update_graph\n",
      "    deps = dependencies[key]\n",
      "KeyError: 'ndarray-dcb46ab9882df99da0f0604cad1b79cb'\n",
      "distributed.scheduler - ERROR - 'DataFrame-3255ff69edb9462e43210104c3085784'\n",
      "Traceback (most recent call last):\n",
      "  File \"/Users/ignacio/anaconda3/lib/python3.7/site-packages/distributed/scheduler.py\", line 1746, in update_graph\n",
      "    resources=resources,\n",
      "  File \"/Users/ignacio/anaconda3/lib/python3.7/site-packages/distributed/diagnostics/graph_layout.py\", line 50, in update_graph\n",
      "    deps = dependencies[key]\n",
      "KeyError: 'DataFrame-3255ff69edb9462e43210104c3085784'\n",
      "distributed.scheduler - ERROR - 'ndarray-e0bd49439612fe03dd64fd6bab25470c'\n",
      "Traceback (most recent call last):\n",
      "  File \"/Users/ignacio/anaconda3/lib/python3.7/site-packages/distributed/scheduler.py\", line 1746, in update_graph\n",
      "    resources=resources,\n",
      "  File \"/Users/ignacio/anaconda3/lib/python3.7/site-packages/distributed/diagnostics/graph_layout.py\", line 50, in update_graph\n",
      "    deps = dependencies[key]\n",
      "KeyError: 'ndarray-e0bd49439612fe03dd64fd6bab25470c'\n",
      "distributed.scheduler - ERROR - 'DataFrame-3255ff69edb9462e43210104c3085784'\n",
      "Traceback (most recent call last):\n",
      "  File \"/Users/ignacio/anaconda3/lib/python3.7/site-packages/distributed/scheduler.py\", line 1746, in update_graph\n",
      "    resources=resources,\n",
      "  File \"/Users/ignacio/anaconda3/lib/python3.7/site-packages/distributed/diagnostics/graph_layout.py\", line 50, in update_graph\n",
      "    deps = dependencies[key]\n",
      "KeyError: 'DataFrame-3255ff69edb9462e43210104c3085784'\n",
      "distributed.scheduler - ERROR - 'ndarray-bf4a2743c10601b70d30679e60413932'\n",
      "Traceback (most recent call last):\n",
      "  File \"/Users/ignacio/anaconda3/lib/python3.7/site-packages/distributed/scheduler.py\", line 1746, in update_graph\n",
      "    resources=resources,\n",
      "  File \"/Users/ignacio/anaconda3/lib/python3.7/site-packages/distributed/diagnostics/graph_layout.py\", line 50, in update_graph\n",
      "    deps = dependencies[key]\n",
      "KeyError: 'ndarray-bf4a2743c10601b70d30679e60413932'\n",
      "distributed.scheduler - ERROR - 'ndarray-dcb46ab9882df99da0f0604cad1b79cb'\n",
      "Traceback (most recent call last):\n",
      "  File \"/Users/ignacio/anaconda3/lib/python3.7/site-packages/distributed/scheduler.py\", line 1746, in update_graph\n",
      "    resources=resources,\n",
      "  File \"/Users/ignacio/anaconda3/lib/python3.7/site-packages/distributed/diagnostics/graph_layout.py\", line 50, in update_graph\n",
      "    deps = dependencies[key]\n",
      "KeyError: 'ndarray-dcb46ab9882df99da0f0604cad1b79cb'\n",
      "distributed.scheduler - ERROR - 'DataFrame-3255ff69edb9462e43210104c3085784'\n",
      "Traceback (most recent call last):\n",
      "  File \"/Users/ignacio/anaconda3/lib/python3.7/site-packages/distributed/scheduler.py\", line 1746, in update_graph\n",
      "    resources=resources,\n",
      "  File \"/Users/ignacio/anaconda3/lib/python3.7/site-packages/distributed/diagnostics/graph_layout.py\", line 50, in update_graph\n",
      "    deps = dependencies[key]\n",
      "KeyError: 'DataFrame-3255ff69edb9462e43210104c3085784'\n",
      "distributed.scheduler - ERROR - 'ndarray-e0bd49439612fe03dd64fd6bab25470c'\n",
      "Traceback (most recent call last):\n",
      "  File \"/Users/ignacio/anaconda3/lib/python3.7/site-packages/distributed/scheduler.py\", line 1746, in update_graph\n",
      "    resources=resources,\n",
      "  File \"/Users/ignacio/anaconda3/lib/python3.7/site-packages/distributed/diagnostics/graph_layout.py\", line 50, in update_graph\n",
      "    deps = dependencies[key]\n",
      "KeyError: 'ndarray-e0bd49439612fe03dd64fd6bab25470c'\n",
      "distributed.scheduler - ERROR - 'DataFrame-3255ff69edb9462e43210104c3085784'\n",
      "Traceback (most recent call last):\n",
      "  File \"/Users/ignacio/anaconda3/lib/python3.7/site-packages/distributed/scheduler.py\", line 1746, in update_graph\n",
      "    resources=resources,\n",
      "  File \"/Users/ignacio/anaconda3/lib/python3.7/site-packages/distributed/diagnostics/graph_layout.py\", line 50, in update_graph\n",
      "    deps = dependencies[key]\n",
      "KeyError: 'DataFrame-3255ff69edb9462e43210104c3085784'\n",
      "distributed.scheduler - ERROR - 'ndarray-bf4a2743c10601b70d30679e60413932'\n",
      "Traceback (most recent call last):\n",
      "  File \"/Users/ignacio/anaconda3/lib/python3.7/site-packages/distributed/scheduler.py\", line 1746, in update_graph\n",
      "    resources=resources,\n",
      "  File \"/Users/ignacio/anaconda3/lib/python3.7/site-packages/distributed/diagnostics/graph_layout.py\", line 50, in update_graph\n",
      "    deps = dependencies[key]\n",
      "KeyError: 'ndarray-bf4a2743c10601b70d30679e60413932'\n",
      "distributed.scheduler - ERROR - 'ndarray-dcb46ab9882df99da0f0604cad1b79cb'\n",
      "Traceback (most recent call last):\n",
      "  File \"/Users/ignacio/anaconda3/lib/python3.7/site-packages/distributed/scheduler.py\", line 1746, in update_graph\n",
      "    resources=resources,\n",
      "  File \"/Users/ignacio/anaconda3/lib/python3.7/site-packages/distributed/diagnostics/graph_layout.py\", line 50, in update_graph\n",
      "    deps = dependencies[key]\n",
      "KeyError: 'ndarray-dcb46ab9882df99da0f0604cad1b79cb'\n",
      "distributed.scheduler - ERROR - 'DataFrame-3255ff69edb9462e43210104c3085784'\n",
      "Traceback (most recent call last):\n",
      "  File \"/Users/ignacio/anaconda3/lib/python3.7/site-packages/distributed/scheduler.py\", line 1746, in update_graph\n",
      "    resources=resources,\n",
      "  File \"/Users/ignacio/anaconda3/lib/python3.7/site-packages/distributed/diagnostics/graph_layout.py\", line 50, in update_graph\n",
      "    deps = dependencies[key]\n",
      "KeyError: 'DataFrame-3255ff69edb9462e43210104c3085784'\n",
      "distributed.scheduler - ERROR - 'ndarray-e0bd49439612fe03dd64fd6bab25470c'\n",
      "Traceback (most recent call last):\n",
      "  File \"/Users/ignacio/anaconda3/lib/python3.7/site-packages/distributed/scheduler.py\", line 1746, in update_graph\n",
      "    resources=resources,\n",
      "  File \"/Users/ignacio/anaconda3/lib/python3.7/site-packages/distributed/diagnostics/graph_layout.py\", line 50, in update_graph\n",
      "    deps = dependencies[key]\n",
      "KeyError: 'ndarray-e0bd49439612fe03dd64fd6bab25470c'\n",
      "distributed.scheduler - ERROR - 'DataFrame-3255ff69edb9462e43210104c3085784'\n",
      "Traceback (most recent call last):\n",
      "  File \"/Users/ignacio/anaconda3/lib/python3.7/site-packages/distributed/scheduler.py\", line 1746, in update_graph\n",
      "    resources=resources,\n",
      "  File \"/Users/ignacio/anaconda3/lib/python3.7/site-packages/distributed/diagnostics/graph_layout.py\", line 50, in update_graph\n",
      "    deps = dependencies[key]\n",
      "KeyError: 'DataFrame-3255ff69edb9462e43210104c3085784'\n",
      "distributed.scheduler - ERROR - 'ndarray-bf4a2743c10601b70d30679e60413932'\n",
      "Traceback (most recent call last):\n",
      "  File \"/Users/ignacio/anaconda3/lib/python3.7/site-packages/distributed/scheduler.py\", line 1746, in update_graph\n",
      "    resources=resources,\n",
      "  File \"/Users/ignacio/anaconda3/lib/python3.7/site-packages/distributed/diagnostics/graph_layout.py\", line 50, in update_graph\n",
      "    deps = dependencies[key]\n",
      "KeyError: 'ndarray-bf4a2743c10601b70d30679e60413932'\n",
      "distributed.scheduler - ERROR - 'ndarray-dcb46ab9882df99da0f0604cad1b79cb'\n",
      "Traceback (most recent call last):\n",
      "  File \"/Users/ignacio/anaconda3/lib/python3.7/site-packages/distributed/scheduler.py\", line 1746, in update_graph\n",
      "    resources=resources,\n",
      "  File \"/Users/ignacio/anaconda3/lib/python3.7/site-packages/distributed/diagnostics/graph_layout.py\", line 50, in update_graph\n",
      "    deps = dependencies[key]\n",
      "KeyError: 'ndarray-dcb46ab9882df99da0f0604cad1b79cb'\n",
      "distributed.scheduler - ERROR - 'DataFrame-3255ff69edb9462e43210104c3085784'\n",
      "Traceback (most recent call last):\n",
      "  File \"/Users/ignacio/anaconda3/lib/python3.7/site-packages/distributed/scheduler.py\", line 1746, in update_graph\n",
      "    resources=resources,\n",
      "  File \"/Users/ignacio/anaconda3/lib/python3.7/site-packages/distributed/diagnostics/graph_layout.py\", line 50, in update_graph\n",
      "    deps = dependencies[key]\n",
      "KeyError: 'DataFrame-3255ff69edb9462e43210104c3085784'\n",
      "distributed.scheduler - ERROR - 'ndarray-e0bd49439612fe03dd64fd6bab25470c'\n",
      "Traceback (most recent call last):\n",
      "  File \"/Users/ignacio/anaconda3/lib/python3.7/site-packages/distributed/scheduler.py\", line 1746, in update_graph\n",
      "    resources=resources,\n",
      "  File \"/Users/ignacio/anaconda3/lib/python3.7/site-packages/distributed/diagnostics/graph_layout.py\", line 50, in update_graph\n",
      "    deps = dependencies[key]\n",
      "KeyError: 'ndarray-e0bd49439612fe03dd64fd6bab25470c'\n",
      "distributed.scheduler - ERROR - 'DataFrame-3255ff69edb9462e43210104c3085784'\n",
      "Traceback (most recent call last):\n",
      "  File \"/Users/ignacio/anaconda3/lib/python3.7/site-packages/distributed/scheduler.py\", line 1746, in update_graph\n",
      "    resources=resources,\n",
      "  File \"/Users/ignacio/anaconda3/lib/python3.7/site-packages/distributed/diagnostics/graph_layout.py\", line 50, in update_graph\n",
      "    deps = dependencies[key]\n",
      "KeyError: 'DataFrame-3255ff69edb9462e43210104c3085784'\n",
      "distributed.scheduler - ERROR - 'ndarray-bf4a2743c10601b70d30679e60413932'\n",
      "Traceback (most recent call last):\n",
      "  File \"/Users/ignacio/anaconda3/lib/python3.7/site-packages/distributed/scheduler.py\", line 1746, in update_graph\n",
      "    resources=resources,\n",
      "  File \"/Users/ignacio/anaconda3/lib/python3.7/site-packages/distributed/diagnostics/graph_layout.py\", line 50, in update_graph\n",
      "    deps = dependencies[key]\n",
      "KeyError: 'ndarray-bf4a2743c10601b70d30679e60413932'\n",
      "distributed.scheduler - ERROR - 'ndarray-dcb46ab9882df99da0f0604cad1b79cb'\n",
      "Traceback (most recent call last):\n",
      "  File \"/Users/ignacio/anaconda3/lib/python3.7/site-packages/distributed/scheduler.py\", line 1746, in update_graph\n",
      "    resources=resources,\n",
      "  File \"/Users/ignacio/anaconda3/lib/python3.7/site-packages/distributed/diagnostics/graph_layout.py\", line 50, in update_graph\n",
      "    deps = dependencies[key]\n",
      "KeyError: 'ndarray-dcb46ab9882df99da0f0604cad1b79cb'\n",
      "distributed.scheduler - ERROR - 'DataFrame-3255ff69edb9462e43210104c3085784'\n",
      "Traceback (most recent call last):\n",
      "  File \"/Users/ignacio/anaconda3/lib/python3.7/site-packages/distributed/scheduler.py\", line 1746, in update_graph\n",
      "    resources=resources,\n",
      "  File \"/Users/ignacio/anaconda3/lib/python3.7/site-packages/distributed/diagnostics/graph_layout.py\", line 50, in update_graph\n",
      "    deps = dependencies[key]\n",
      "KeyError: 'DataFrame-3255ff69edb9462e43210104c3085784'\n",
      "/Users/ignacio/anaconda3/lib/python3.7/site-packages/sklearn/model_selection/_search.py:813: DeprecationWarning: The default of the `iid` parameter will change from True to False in version 0.22 and will be removed in 0.24. This will change numeric results when test-set sizes are unequal.\n",
      "  DeprecationWarning)\n"
     ]
    },
    {
     "name": "stdout",
     "output_type": "stream",
     "text": [
      "CPU times: user 24.3 s, sys: 1.54 s, total: 25.8 s\n",
      "Wall time: 2min 41s\n"
     ]
    }
   ],
   "source": [
    "%%time\n",
    "\n",
    "grid_params_svc = {'C':np.logspace(-3,3,10)}\n",
    "grid_params\n",
    "grid_svc = GridSearchCV(SVC(random_state = 11235813, gamma = 'auto'), param_grid = grid_params, n_jobs = -1, cv=5)\n",
    "\n",
    "with joblib.parallel_backend(\"dask\"):\n",
    "    grid_svc.fit(df_tfidf_es, Y)"
   ]
  },
  {
   "cell_type": "code",
   "execution_count": 45,
   "metadata": {},
   "outputs": [
    {
     "name": "stdout",
     "output_type": "stream",
     "text": [
      "                                              precision    recall  f1-score   support\n",
      "\n",
      "                                 ABS_SENSORS       0.00      0.00      0.00         1\n",
      "                            ACOUSTIC_GUITARS       0.00      0.00      0.00         1\n",
      "                              ACTION_FIGURES       0.00      0.00      0.00         1\n",
      "                              ADHESIVE_TAPES       0.00      0.00      0.00         2\n",
      "                                     AIRBAGS       0.00      0.00      0.00         1\n",
      "                                AIRSOFT_GUNS       0.00      0.00      0.00         2\n",
      "                             AIR_COMPRESSORS       0.00      0.00      0.00         1\n",
      "                              AIR_FRESHENERS       0.00      0.00      0.00         3\n",
      "                          ALARMS_AND_SENSORS       0.00      0.00      0.00         2\n",
      "                                ALARM_CLOCKS       0.00      0.00      0.00         1\n",
      "                                 ALTERNATORS       0.00      0.00      0.00         1\n",
      "                          ALTERNATOR_PULLEYS       0.00      0.00      0.00         1\n",
      "                              ANALOG_CAMERAS       0.80      0.80      0.80         5\n",
      "                             ANIMAL_CLIPPERS       0.00      0.00      0.00         2\n",
      "                              ANTIQUE_CHAIRS       0.00      0.00      0.00         1\n",
      "                            ANTIQUE_TOY_CARS       0.00      0.00      0.00         1\n",
      "                            ANTI_THEFT_STUDS       0.00      0.00      0.00         1\n",
      "                                   APERITIFS       0.00      0.00      0.00         1\n",
      "                          ARTIFICIAL_FLOWERS       0.00      0.00      0.00         1\n",
      "                            AUDIO_AMPLIFIERS       0.00      0.00      0.00         3\n",
      "         AUDIO_AND_VIDEO_CABLES_AND_ADAPTERS       0.00      0.00      0.00         4\n",
      "                  AUDIO_AND_VIDEO_CONNECTORS       0.00      0.00      0.00         2\n",
      "                            AUDIO_INTERFACES       0.00      0.00      0.00         1\n",
      "                       AUTOMOBILE_FUEL_PUMPS       0.00      0.00      0.00         3\n",
      "                       AUTOMOTIVE_AMPLIFIERS       0.00      0.00      0.00         1\n",
      "                         AUTOMOTIVE_ARMRESTS       0.00      0.00      0.00         1\n",
      "                        AUTOMOTIVE_BATTERIES       0.00      0.00      0.00         1\n",
      "         AUTOMOTIVE_CELLPHONE_AND_GPS_MOUNTS       0.00      0.00      0.00         1\n",
      "                      AUTOMOTIVE_CLUTCH_KITS       0.00      0.00      0.00         2\n",
      "          AUTOMOTIVE_CLUTCH_MASTER_CYLINDERS       0.00      0.00      0.00         1\n",
      "                       AUTOMOTIVE_DEFLECTORS       0.00      0.00      0.00         1\n",
      "                          AUTOMOTIVE_EMBLEMS       0.00      0.00      0.00         2\n",
      "       AUTOMOTIVE_ENGINE_COOLANT_THERMOSTATS       0.00      0.00      0.00         1\n",
      "            AUTOMOTIVE_ENGINE_CYLINDER_HEADS       0.00      0.00      0.00         2\n",
      "                    AUTOMOTIVE_ENGINE_MOUNTS       0.00      0.00      0.00         3\n",
      "                          AUTOMOTIVE_FENDERS       0.00      0.00      0.00         3\n",
      "                    AUTOMOTIVE_FRONT_BUMPERS       0.00      0.00      0.00         1\n",
      "                    AUTOMOTIVE_HEATER_VALVES       0.00      0.00      0.00         1\n",
      "                    AUTOMOTIVE_MIRROR_COVERS       0.00      0.00      0.00         3\n",
      "                         AUTOMOTIVE_MOLDINGS       0.00      0.00      0.00         4\n",
      "                        AUTOMOTIVE_NERF_BARS       0.00      0.00      0.00         1\n",
      "                      AUTOMOTIVE_OIL_FILTERS       0.00      0.00      0.00         1\n",
      "          AUTOMOTIVE_POWER_WINDOW_REGULATORS       0.00      0.00      0.00         1\n",
      "         AUTOMOTIVE_SIDE_VIEW_MIRROR_GLASSES       0.00      0.00      0.00         2\n",
      "               AUTOMOTIVE_SPRING_SUSPENSIONS       0.00      0.00      0.00         2\n",
      "          AUTOMOTIVE_SUSPENSION_CONTROL_ARMS       0.00      0.00      0.00         2\n",
      "                  AUTOMOTIVE_THROTTLE_BODIES       0.00      0.00      0.00         1\n",
      "                            AUTOMOTIVE_TIRES       0.00      0.00      0.00         3\n",
      "                       AUTOMOTIVE_TRUNK_LIDS       0.00      0.00      0.00         1\n",
      "                      AUTOMOTIVE_WATER_PUMPS       0.00      0.00      0.00         3\n",
      "                     AUTOMOTIVE_WHEEL_COVERS       0.00      0.00      0.00         2\n",
      "                                AV_RECEIVERS       0.00      0.00      0.00         1\n",
      "                                        AXES       0.00      0.00      0.00         1\n",
      "                             BABIES_FOOTWEAR       0.00      0.00      0.00         1\n",
      "                              BABIES_FORMULA       0.00      0.00      0.00         1\n",
      "                        BABY_ACTIVITY_TABLES       0.00      0.00      0.00         1\n",
      "                              BABY_BODYSUITS       0.00      0.00      0.00         4\n",
      "                         BABY_BOTTLE_WARMERS       0.00      0.00      0.00         1\n",
      "                               BABY_BOUNCERS       0.00      0.00      0.00         1\n",
      "                              BABY_CAR_SEATS       0.00      0.00      0.00         3\n",
      "                          BABY_CLOTHING_SETS       0.00      0.00      0.00         1\n",
      "                                BABY_DIAPERS       0.00      0.00      0.00         2\n",
      "                            BABY_HIGH_CHAIRS       0.00      0.00      0.00         1\n",
      "                              BABY_PACIFIERS       0.00      0.00      0.00         1\n",
      "                               BABY_PLAYARDS       0.00      0.00      0.00         1\n",
      "                            BABY_STERILIZERS       0.00      0.00      0.00         1\n",
      "                              BABY_STROLLERS       0.00      0.00      0.00         1\n",
      "                                BABY_WALKERS       0.00      0.00      0.00         3\n",
      "                                   BACKPACKS       0.00      0.00      0.00         2\n",
      "                                    BALLOONS       0.00      0.00      0.00         1\n",
      "                              BALL_PIT_BALLS       0.00      0.00      0.00         1\n",
      "                                   BAR_SOAPS       0.00      0.00      0.00         1\n",
      "                          BASKETBALL_JERSEYS       0.00      0.00      0.00         1\n",
      "                                BASS_GUITARS       0.00      0.00      0.00         1\n",
      "                   BATHROOM_ACCESSORIES_SETS       0.00      0.00      0.00         1\n",
      "                          BATHROOM_GRAB_BARS       0.00      0.00      0.00         1\n",
      "                              BATHROOM_SINKS       0.00      0.00      0.00         1\n",
      "                           BATHROOM_VANITIES       0.00      0.00      0.00         4\n",
      "                                 BEACH_BALLS       0.00      0.00      0.00         1\n",
      "                                 BEAUTY_WIGS       0.00      0.00      0.00         2\n",
      "                                   BEDLINERS       0.00      0.00      0.00         1\n",
      "                                BEDROOM_SETS       0.00      0.00      0.00         3\n",
      "                                        BEDS       0.00      0.00      0.00         1\n",
      "                                  BED_SHEETS       0.00      0.00      0.00         2\n",
      "                                       BEERS       0.00      0.00      0.00         2\n",
      "                     BEER_BREWING_EQUIPMENTS       0.00      0.00      0.00         1\n",
      "                                       BELTS       0.00      0.00      0.00         1\n",
      "                                    BICYCLES       0.00      0.00      0.00         3\n",
      "                              BICYCLE_PEDALS       0.00      0.00      0.00         2\n",
      "                              BICYCLE_WHEELS       0.00      0.00      0.00         1\n",
      "                             BILLIARD_TABLES       0.00      0.00      0.00         2\n",
      "                               BILL_COUNTERS       0.00      0.00      0.00         1\n",
      "                                  BINOCULARS       0.00      0.00      0.00         2\n",
      "                                     BLOUSES       0.00      0.00      0.00         2\n",
      "                                 BOARD_GAMES       0.00      0.00      0.00         2\n",
      "                                  BODYBOARDS       0.00      0.00      0.00         1\n",
      "                           BODYWEIGHT_SCALES       0.00      0.00      0.00         1\n",
      "                                BODY_SHAPERS       0.00      0.00      0.00         1\n",
      "                                      BOMBOS       0.00      0.00      0.00         1\n",
      "                                   BOOKCASES       0.00      0.00      0.00         2\n",
      "                                       BOOKS       0.00      0.00      0.00         3\n",
      "                  BRACELETS_AND_ANKLE_BRACES       0.00      0.00      0.00         2\n",
      "                              BRAKE_BOOSTERS       0.00      0.00      0.00         1\n",
      "               BREAKFASTS_AND_AFTERNOON_TEAS       0.00      0.00      0.00         1\n",
      "                               BRUSH_CUTTERS       0.00      0.00      0.00         1\n",
      "                          BUCKETS_AND_BASINS       0.00      0.00      0.00         1\n",
      "                     BUMPER_IMPACT_ABSORBERS       0.00      0.00      0.00         1\n",
      "                                 BUTTON_PINS       0.00      0.00      0.00         1\n",
      "                               CABIN_FILTERS       0.00      0.00      0.00         1\n",
      "                                CAKE_TOPPERS       0.00      0.00      0.00         4\n",
      "                                 CALCULATORS       0.00      0.00      0.00         1\n",
      "      CAMERA_AND_VIDEO_CAMERA_BAGS_AND_CASES       0.00      0.00      0.00         1\n",
      "                            CAMERA_BATTERIES       0.00      0.00      0.00         2\n",
      "                                CAMERA_CASES       0.00      0.00      0.00         1\n",
      "                             CAMERA_CHARGERS       0.00      0.00      0.00         2\n",
      "                              CAMPING_STOVES       0.00      0.00      0.00         2\n",
      "                                     CANDLES       0.00      0.00      0.00         4\n",
      "                              CANDLE_HOLDERS       0.00      0.00      0.00         3\n",
      "                                  CARABINERS       0.00      0.00      0.00         1\n",
      "                       CARDS_AND_INVITATIONS       0.00      0.00      0.00         3\n",
      "                                     CARPETS       0.00      0.00      0.00         1\n",
      "                           CAR_AC_CONDENSERS       0.00      0.00      0.00         3\n",
      "                      CAR_AC_HOSE_ASSEMBLIES       0.00      0.00      0.00         1\n",
      "                                CAR_ANTENNAS       0.00      0.00      0.00         1\n",
      "                        CAR_DISTRIBUTOR_CAPS       0.00      0.00      0.00         1\n",
      "                          CAR_EMERGENCY_KITS       0.00      0.00      0.00         1\n",
      "                        CAR_ENGINE_CAMSHAFTS       0.00      0.00      0.00         1\n",
      "                                   CAR_HOODS       0.00      0.00      0.00         3\n",
      "                    CAR_POWER_STEERING_PUMPS       0.00      0.00      0.00         2\n",
      "                                 CAR_SCREENS       0.00      0.00      0.00         2\n",
      "                             CAR_SEAT_COVERS       0.00      0.00      0.00         2\n",
      "                                 CAR_STEREOS       0.00      0.00      0.00         1\n",
      "                         CAR_WINDOW_SWITCHES       0.00      0.00      0.00         1\n",
      "                              CASH_REGISTERS       0.00      0.00      0.00         1\n",
      "                                   CATHETERS       0.00      0.00      0.00         1\n",
      "                         CATS_AND_DOGS_FOODS       0.00      0.00      0.00         1\n",
      "                              CEILING_LIGHTS       0.00      0.00      0.00         2\n",
      "                  CELLPHONE_AND_TABLET_CASES       0.00      0.00      0.00         2\n",
      "               CELLPHONE_REPLACEMENT_CAMERAS       0.00      0.00      0.00         1\n",
      "        CELLPHONE_USB_AND_AUXILIARY_ADAPTERS       0.00      0.00      0.00         2\n",
      "                              CELL_BATTERIES       0.00      0.00      0.00         3\n",
      "                           CENTRIFUGAL_PUMPS       0.00      0.00      0.00         1\n",
      "                               CERAMIC_TILES       0.00      0.00      0.00         1\n",
      "                                  CHAMPAGNES       0.00      0.00      0.00         1\n",
      "                                      CHESTS       0.00      0.00      0.00         1\n",
      "                                  CHOCOLATES       0.00      0.00      0.00         1\n",
      "                             CHRISTMAS_TREES       0.00      0.00      0.00         1\n",
      "                    CHRISTMAS_TREE_ORNAMENTS       0.00      0.00      0.00         1\n",
      "                                CLASSIC_CARS       0.00      0.00      0.00         1\n",
      "                             CLEANING_CLOTHS       0.00      0.00      0.00         3\n",
      "                             CLOTHES_HANGERS       0.00      0.00      0.00         2\n",
      "                            CLOTHING_PATCHES       0.00      0.00      0.00         3\n",
      "                                CLUTCH_FORKS       0.00      0.00      0.00         1\n",
      "                                    COASTERS       0.00      0.00      0.00         1\n",
      "                               COFFEE_MAKERS       0.00      0.00      0.00         3\n",
      "                               COFFEE_TABLES       0.00      0.00      0.00         1\n",
      "   COLLECTIBLE_CANS_BOTTLES_AND_SODA_SIPHONS       0.00      0.00      0.00         2\n",
      "                       COLLECTIBLE_POSTCARDS       0.00      0.00      0.00         1\n",
      "                                  COMFORTERS       0.00      0.00      0.00         1\n",
      "                   COMMERCIAL_AND_EVENT_BAGS       0.00      0.00      0.00         2\n",
      "                        COMPLETE_SKATEBOARDS       0.00      0.00      0.00         1\n",
      "                           COMPUTER_MONITORS       0.00      0.00      0.00         2\n",
      "                       COMPUTER_MOTHERBOARDS       0.00      0.00      0.00         2\n",
      "                         COMPUTER_PROCESSORS       0.00      0.00      0.00         1\n",
      "                                  CONCEALERS       0.00      0.00      0.00         1\n",
      "                          CONSTRUCTION_BEAMS       0.00      0.00      0.00         1\n",
      "              CONSTRUCTION_FINISHING_TROWELS       0.00      0.00      0.00         1\n",
      "                       CONSTRUCTION_PROFILES       0.00      0.00      0.00         1\n",
      "                         CONTINUOUS_LIGHTING       0.00      0.00      0.00         1\n",
      "                                     COOKIES       0.00      0.00      0.00         3\n",
      "                             COOKIES_CUTTERS       0.00      0.00      0.00         1\n",
      "                                    COOKTOPS       0.00      0.00      0.00         1\n",
      "                                    COSTUMES       0.00      0.00      0.00         3\n",
      "                                 COUNTERTOPS       0.00      0.00      0.00         1\n",
      "                                 CRANKSHAFTS       0.00      0.00      0.00         1\n",
      "                                CRASHED_CARS       0.00      0.00      0.00         2\n",
      "                                     CRAYONS       0.00      0.00      0.00         1\n",
      "                                       CRIBS       0.00      0.00      0.00         2\n",
      "                                    CROWBARS       0.00      0.00      0.00         1\n",
      "                                    CRUTCHES       0.00      0.00      0.00         1\n",
      "                               CURLING_IRONS       0.00      0.00      0.00         1\n",
      "                                    CUSHIONS       0.00      0.00      0.00         2\n",
      "                              CUTTING_BOARDS       0.00      0.00      0.00         1\n",
      "                 CUT_OFF_AND_GRINDING_WHEELS       0.00      0.00      0.00         2\n",
      "                                   CV_JOINTS       0.00      0.00      0.00         2\n",
      "                           CYCLING_COMPUTERS       0.00      0.00      0.00         1\n",
      "                             CYCLING_HELMETS       0.00      0.00      0.00         1\n",
      "                                     CYMBALS       0.00      0.00      0.00         2\n",
      "                    DATA_CABLES_AND_ADAPTERS       0.00      0.00      0.00         1\n",
      "                          DECORATIVE_BASKETS       0.00      0.00      0.00         2\n",
      "                            DECORATIVE_BOXES       0.00      0.00      0.00         2\n",
      "                        DECORATIVE_PAINTINGS       0.00      0.00      0.00         3\n",
      "                DECORATIVE_TILES_AND_MOSAICS       0.00      0.00      0.00         1\n",
      "                            DECORATIVE_VASES       0.00      0.00      0.00         1\n",
      "                           DECORATIVE_VINYLS       0.00      0.00      0.00         4\n",
      "                                 DEEP_FRYERS       0.00      0.00      0.00         2\n",
      "                                  DEODORANTS       0.00      0.00      0.00         1\n",
      "              DESIGN_AND_MULTIMEDIA_SOFTWARE       0.00      0.00      0.00         3\n",
      "                           DESKTOP_COMPUTERS       0.00      0.00      0.00         4\n",
      "                      DESKTOP_COMPUTER_CASES       0.00      0.00      0.00         1\n",
      "           DESKTOP_COMPUTER_COOLERS_AND_FANS       0.00      0.00      0.00         1\n",
      "                            DIECAST_VEHICLES       0.00      0.00      0.00         1\n",
      "                               DINING_CHAIRS       0.00      0.00      0.00         1\n",
      "                               DINING_TABLES       0.00      0.00      0.00         2\n",
      "                               DISHES_PLATES       0.00      0.00      0.00         1\n",
      "                                DISHES_RACKS       0.00      0.00      0.00         2\n",
      "                                 DISHWASHERS       0.00      0.00      0.00         1\n",
      "                             DISPOSABLE_CUPS       0.00      0.00      0.00         2\n",
      "                           DISTRIBUTION_KITS       0.00      0.00      0.00         1\n",
      "                                     DJEMBES       0.00      0.00      0.00         1\n",
      "                                 DOG_LEASHES       0.00      0.00      0.00         2\n",
      "                                  DOLLHOUSES       0.00      0.00      0.00         1\n",
      "                                       DOLLS       0.00      0.00      0.00         2\n",
      "                                       DOORS       0.00      0.00      0.00         1\n",
      "               DOOR_AND_GATE_REMOTE_CONTROLS       0.00      0.00      0.00         1\n",
      "                                     DRESSES       0.00      0.00      0.00         1\n",
      "                         DRILLS_SCREWDRIVERS       0.00      0.00      0.00         1\n",
      "                            DRINKING_GLASSES       0.00      0.00      0.00         2\n",
      "                              DRINK_PITCHERS       0.00      0.00      0.00         3\n",
      "                                      DRONES       0.00      0.00      0.00         2\n",
      "                                       DRUMS       0.00      0.00      0.00         1\n",
      "              DRUMSTICKS_MALLETS_AND_BRUSHES       0.00      0.00      0.00         1\n",
      "                                 DRUM_PEDALS       0.00      0.00      0.00         1\n",
      "                                 DRUM_STANDS       0.00      0.00      0.00         2\n",
      "                               DVR_RECORDERS       0.00      0.00      0.00         1\n",
      "                                 EASTER_EGGS       0.00      0.00      0.00         2\n",
      "                                  EGR_VALVES       0.00      0.00      0.00         1\n",
      "                           ELECTRICAL_CABLES       0.00      0.00      0.00         2\n",
      "                          ELECTRICAL_OUTLETS       0.00      0.00      0.00         1\n",
      "                           ELECTRICAL_TIMERS       0.00      0.00      0.00         1\n",
      "                 ELECTRIC_DEMOLITION_HAMMERS       0.00      0.00      0.00         1\n",
      "                      ELECTRIC_FOOD_STEAMERS       0.00      0.00      0.00         1\n",
      "                             ELECTRIC_KNIVES       0.00      0.00      0.00         2\n",
      "                        ELECTRIC_LAWN_MOWERS       0.00      0.00      0.00         1\n",
      "                   ELECTRIC_PRESSURE_WASHERS       0.00      0.00      0.00         4\n",
      "                       ELECTRIC_SCREWDRIVERS       0.00      0.00      0.00         2\n",
      "                     ELECTROLYTIC_CAPACITORS       0.00      0.00      0.00         1\n",
      "                        EMPLOYEE_TIME_CLOCKS       0.00      0.00      0.00         2\n",
      "                            ENERGETIC_STONES       0.00      0.00      0.00         2\n",
      "                             ENGINE_BEARINGS       0.00      0.00      0.00         3\n",
      "                      ENGINE_CONTROL_MODULES       0.00      0.00      0.00         1\n",
      "                   ENGINE_COOLING_FAN_MOTORS       0.00      0.00      0.00         1\n",
      "                 ENGINE_COOLING_FAN_SWITCHES       0.00      0.00      0.00         1\n",
      "          ENGINE_CRANKSHAFT_POSITION_SENSORS       0.00      0.00      0.00         3\n",
      "                   ENGINE_CRANKSHAFT_PULLEYS       0.00      0.00      0.00         3\n",
      "                          ENGINE_GASKET_SETS       0.00      0.00      0.00         1\n",
      "                         ENGINE_INTAKE_HOSES       0.00      0.00      0.00         2\n",
      "                                 ENGINE_OILS       0.00      0.00      0.00         1\n",
      "                 ENGINE_OIL_PRESSURE_SENSORS       0.00      0.00      0.00         2\n",
      "                              ENGINE_PISTONS       0.00      0.00      0.00         1\n",
      "                               ENGINE_VALVES       0.00      0.00      0.00         1\n",
      "                                   EPILATORS       0.00      0.00      0.00         2\n",
      "                                  EQUALIZERS       0.00      0.00      0.00         1\n",
      "                            EROTIC_MAGAZINES       0.00      0.00      0.00         1\n",
      "                              ESSENTIAL_OILS       0.00      0.00      0.00         1\n",
      "                                  EYESHADOWS       0.00      0.00      0.00         1\n",
      "                                     FABRICS       0.00      0.00      0.00         1\n",
      "                                  FACE_MASKS       0.00      0.00      0.00         1\n",
      "                             FALSE_EYELASHES       0.00      0.00      0.00         1\n",
      "                                 FANNY_PACKS       0.00      0.00      0.00         1\n",
      "                                        FANS       0.00      0.00      0.00         3\n",
      "                             FIDGET_SPINNERS       0.00      0.00      0.00         1\n",
      "                         FINGERPRINT_READERS       0.00      0.00      0.00         1\n",
      "                               FISHING_REELS       0.00      0.00      0.00         3\n",
      "                                FISHING_RODS       0.00      0.00      0.00         4\n",
      "                        FISHING_TACKLE_BOXES       0.00      0.00      0.00         2\n",
      "                                  FISH_TANKS       0.00      0.00      0.00         2\n",
      "                                       FLATS       0.00      0.00      0.00         1\n",
      "                               FLATWARE_SETS       0.00      0.00      0.00         1\n",
      "                                FLOOD_LIGHTS       0.00      0.00      0.00         2\n",
      "                                 FLOOR_LAMPS       0.00      0.00      0.00         1\n",
      "                                       FLOUR       0.00      0.00      0.00         1\n",
      "                 FOLDERS_AND_EXPANDING_FILES       0.00      0.00      0.00         1\n",
      "                     FOOD_STORAGE_CONTAINERS       0.00      0.00      0.00         2\n",
      "                             FOOSBALL_TABLES       0.00      0.00      0.00         2\n",
      "                              FOOTBALL_BALLS       0.00      0.00      0.00         2\n",
      "                               FOOTBALL_CAPS       0.00      0.00      0.00         1\n",
      "                               FOOTBALL_KITS       0.00      0.00      0.00         1\n",
      "                              FOOTBALL_SHOES       0.00      0.00      0.00         4\n",
      "                                    FREEZERS       0.00      0.00      0.00         2\n",
      "                              FUEL_INJECTORS       0.00      0.00      0.00         1\n",
      "                           FUEL_LEVEL_FLOATS       0.00      0.00      0.00         1\n",
      "                      GAMEPADS_AND_JOYSTICKS       0.00      0.00      0.00         1\n",
      "                               GAME_CONSOLES       0.00      0.00      0.00         3\n",
      "GAME_CONSOLE_AND_VIDEO_GAME_CONTROLLER_SKINS       0.00      0.00      0.00         1\n",
      "                                GARAGE_DOORS       0.00      0.00      0.00         2\n",
      "             GARDENING_AND_AGRICULTURE_SEEDS       0.00      0.00      0.00         2\n",
      "                                GARDEN_SHEDS       0.00      0.00      0.00         1\n",
      "                               GAS_DETECTORS       0.00      0.00      0.00         1\n",
      "                           GAS_LIFT_SUPPORTS       0.00      0.00      0.00         1\n",
      "                                     GAZEBOS       0.00      0.00      0.00         1\n",
      "                                  GIFT_CARDS       0.00      0.00      0.00         1\n",
      "                       GLOW_PLUG_CONTROLLERS       0.00      0.00      0.00         1\n",
      "                                         GPS       0.00      0.00      0.00         1\n",
      "                              GRAPHICS_CARDS       0.00      0.00      0.00         4\n",
      "                         GRIPS_AND_OVERGRIPS       0.00      0.00      0.00         1\n",
      "                              GUITAR_STRINGS       0.00      0.00      0.00         1\n",
      "                       HAIRDRESSING_SCISSORS       0.00      0.00      0.00         2\n",
      "                    HAIR_MOLDING_AND_STYLING       0.00      0.00      0.00         3\n",
      "                          HAIR_STRAIGHTENERS       0.00      0.00      0.00         1\n",
      "                             HAIR_TREATMENTS       0.00      0.00      0.00         2\n",
      "                                    HANDBAGS       0.00      0.00      0.00         3\n",
      "                            HANDICRAFT_BOXES       0.00      0.00      0.00         1\n",
      "                        HAND_AND_FOOT_CREAMS       0.00      0.00      0.00         1\n",
      "                               HAND_BLENDERS       0.00      0.00      0.00         2\n",
      "                              HAND_POLISHERS       0.00      0.00      0.00         1\n",
      "                                 HAND_TRUCKS       0.00      0.00      0.00         1\n",
      "                        HARD_DRIVES_AND_SSDS       0.00      0.00      0.00         2\n",
      "                               HATS_AND_CAPS       0.00      0.00      0.00         1\n",
      "                                  HEADBOARDS       0.00      0.00      0.00         2\n",
      "                                  HEADPHONES       0.00      0.00      0.00         1\n",
      "                                   HEAT_GUNS       0.00      0.00      0.00         1\n",
      "                              HEDGE_TRIMMERS       0.00      0.00      0.00         1\n",
      "                               HOCKEY_GLOVES       0.00      0.00      0.00         2\n",
      "                                HOLE_PUNCHES       0.00      0.00      0.00         1\n",
      "        HOME_APPLIANCE_CONTACTORS_AND_RELAYS       0.00      0.00      0.00         1\n",
      "                          HOME_BOTTLE_STANDS       0.00      0.00      0.00         1\n",
      "                                HOME_HEATERS       0.00      0.00      0.00         4\n",
      "                           HOME_OFFICE_DESKS       0.00      0.00      0.00         1\n",
      "                                HOUSE_FENCES       0.00      0.00      0.00         1\n",
      "                     HYDRAULIC_VEHICLE_JACKS       0.00      0.00      0.00         1\n",
      "                    IGNITION_CONTROL_MODULES       0.00      0.00      0.00         1\n",
      "                             IMPACT_WRENCHES       0.00      0.00      0.00         1\n",
      "                  INDOOR_CURTAINS_AND_BLINDS       0.00      0.00      0.00         1\n",
      "                   INDUSTRIAL_DOUGH_KNEADERS       0.00      0.00      0.00         1\n",
      "                    INFLATABLE_BOUNCE_HOUSES       0.00      0.00      0.00         1\n",
      "                              INK_CARTRIDGES       0.00      0.00      0.00         2\n",
      "                                INSECTICIDES       0.00      0.00      0.00         1\n",
      "                       INSTRUMENT_AMPLIFIERS       0.00      0.00      0.00         2\n",
      "                  INTERACTIVE_GAMING_FIGURES       0.00      0.00      0.00         2\n",
      "                               IP_TELEPHONES       0.00      0.00      0.00         1\n",
      "                           IRRIGATION_VALVES       0.00      0.00      0.00         1\n",
      "                           JACKETS_AND_COATS       0.00      0.00      0.00         1\n",
      "                               JEWELRY_BOXES       0.00      0.00      0.00         1\n",
      "                      JUMPSUITS_AND_OVERALLS       0.00      0.00      0.00         2\n",
      "                                  JUMP_ROPES       0.00      0.00      0.00         1\n",
      "                     KEYBOARD_AND_MOUSE_KITS       0.00      0.00      0.00         1\n",
      "                        KEYBOARD_CONTROLLERS       0.00      0.00      0.00         1\n",
      "                                   KEYCHAINS       0.00      0.00      0.00         2\n",
      "                                   KEY_RACKS       0.00      0.00      0.00         1\n",
      "                             KIDS_PLAYHOUSES       0.00      0.00      0.00         1\n",
      "                                  KIDS_TENTS       0.00      0.00      0.00         1\n",
      "                               KITCHEN_BOWLS       0.00      0.00      0.00         1\n",
      "                             KITCHEN_FAUCETS       0.00      0.00      0.00         2\n",
      "                             KITCHEN_GRATERS       0.00      0.00      0.00         1\n",
      "                               KITCHEN_MOLDS       0.00      0.00      0.00         1\n",
      "                             KITCHEN_MORTARS       0.00      0.00      0.00         1\n",
      "                                KITCHEN_POTS       0.00      0.00      0.00         1\n",
      "                         KITCHEN_RANGE_HOODS       0.00      0.00      0.00         4\n",
      "                              KITCHEN_TOWELS       0.00      0.00      0.00         1\n",
      "                                       KITES       0.00      0.00      0.00         1\n",
      "                        KNEE_BRACES_SUPPORTS       0.00      0.00      0.00         1\n",
      "                            KNITTING_NEEDLES       0.00      0.00      0.00         1\n",
      "                                LABEL_MAKERS       0.00      0.00      0.00         1\n",
      "                            LAPTOP_BATTERIES       0.00      0.00      0.00         1\n",
      "                           LAPTOP_BRIEFCASES       0.00      0.00      0.00         1\n",
      "                             LAPTOP_CHARGERS       0.00      0.00      0.00         3\n",
      "                          LAPTOP_LCD_SCREENS       0.00      0.00      0.00         2\n",
      "             LATEX_ENAMEL_AND_ACRYLIC_PAINTS       0.00      0.00      0.00         1\n",
      "                            LED_STAGE_LIGHTS       0.00      0.00      0.00         2\n",
      "                                  LED_STRIPS       0.00      0.00      0.00         2\n",
      "                                    LEGGINGS       0.00      0.00      0.00         1\n",
      "                                LENS_FILTERS       0.00      0.00      0.00         1\n",
      "                               LINGERIE_SETS       0.00      0.00      0.00         1\n",
      "                                   LIPSTICKS       0.00      0.00      0.00         2\n",
      "                  LIQUID_HAND_AND_BODY_SOAPS       0.00      0.00      0.00         1\n",
      "                                     LIQUORS       0.00      0.00      0.00         1\n",
      "                            LIVING_ROOM_SETS       0.00      0.00      0.00         2\n",
      "                         LOAFERS_AND_OXFORDS       0.00      0.00      0.00         1\n",
      "                          LUGGAGE_ORGANIZERS       0.00      0.00      0.00         1\n",
      "                                  LUNCHBOXES       0.00      0.00      0.00         1\n",
      "                                   MAGAZINES       0.00      0.00      0.00         2\n",
      "                              MAKEUP_BRUSHES       0.00      0.00      0.00         1\n",
      "                          MAKEUP_TRAIN_CASES       0.00      0.00      0.00         1\n",
      "                           MALE_MASTURBATORS       0.00      0.00      0.00         1\n",
      "                              MALE_UNDERWEAR       0.00      0.00      0.00         1\n",
      "                                       MANGA       0.00      0.00      0.00         1\n",
      "                              MANUAL_HAMMERS       0.00      0.00      0.00         1\n",
      "                                 MAP_SENSORS       0.00      0.00      0.00         1\n",
      "                    MARKERS_AND_HIGHLIGHTERS       0.00      0.00      0.00         1\n",
      "              MARTIAL_ARTS_AND_BOXING_GLOVES       0.00      0.00      0.00         3\n",
      "                                    MASCARAS       0.00      0.00      0.00         1\n",
      "                                 MATE_GOURDS       0.00      0.00      0.00         1\n",
      "                                   MATE_SETS       0.00      0.00      0.00         1\n",
      "                                  MATTRESSES       0.00      0.00      0.00         1\n",
      "                                  MEGAPHONES       0.00      0.00      0.00         1\n",
      "                                MEMORY_CARDS       0.00      0.00      0.00         2\n",
      "                         MEMORY_CARD_READERS       0.00      0.00      0.00         1\n",
      "                                MEN_SWIMWEAR       0.00      0.00      0.00         4\n",
      "                            MICROCONTROLLERS       0.00      0.00      0.00         1\n",
      "                                 MICROPHONES       0.00      0.00      0.00         3\n",
      "                                  MICROWAVES       0.00      0.00      0.00         1\n",
      "                                    MINI_PCS       0.00      0.00      0.00         1\n",
      "                                     MIRRORS       0.00      0.00      0.00         1\n",
      "                                      MIXERS       0.00      0.00      0.00         4\n",
      "                      MOBILE_DEVICE_CHARGERS       0.00      0.00      0.00         1\n",
      "                        MOTORCYCLE_BATTERIES       0.00      0.00      0.00         1\n",
      "                      MOTORCYCLE_CARBURETORS       0.00      0.00      0.00         1\n",
      "                            MOTORCYCLE_CASES       0.00      0.00      0.00         1\n",
      "                      MOTORCYCLE_CDI_MODULES       0.00      0.00      0.00         4\n",
      "                       MOTORCYCLE_CRASH_BARS       0.00      0.00      0.00         1\n",
      "              MOTORCYCLE_DISTRIBUTION_CHAINS       0.00      0.00      0.00         1\n",
      "                         MOTORCYCLE_FAIRINGS       0.23      1.00      0.37         5\n",
      "                          MOTORCYCLE_FENDERS       0.00      0.00      0.00         1\n",
      "                   MOTORCYCLE_GASOLINE_TANKS       0.00      0.00      0.00         1\n",
      "                        MOTORCYCLE_GEARBOXES       0.00      0.00      0.00         1\n",
      "                           MOTORCYCLE_GLOVES       0.00      0.00      0.00         3\n",
      "                       MOTORCYCLE_HANDLEBARS       0.00      0.00      0.00         1\n",
      "                          MOTORCYCLE_HELMETS       0.00      0.00      0.00         1\n",
      "                   MOTORCYCLE_IGNITION_COILS       0.00      0.00      0.00         4\n",
      "                MOTORCYCLE_IGNITION_SWITCHES       0.00      0.00      0.00         1\n",
      "                          MOTORCYCLE_JACKETS       0.00      0.00      0.00         1\n",
      "                          MOTORCYCLE_JERSEYS       0.00      0.00      0.00         1\n",
      "                            MOTORCYCLE_PANTS       0.00      0.00      0.00         1\n",
      "                            MOTORCYCLE_SEATS       0.00      0.00      0.00         1\n",
      "                     MOTORCYCLE_SPEEDOMETERS       0.00      0.00      0.00         1\n",
      "                            MOTORCYCLE_TIRES       0.00      0.00      0.00         2\n",
      "              MOTORCYCLE_TRANSMISSION_CROWNS       0.00      0.00      0.00         1\n",
      "                      MOTORCYCLE_WHEEL_AXLES       0.00      0.00      0.00         1\n",
      "                                  MOUSE_PADS       0.00      0.00      0.00         1\n",
      "                                      MOVIES       0.00      0.00      0.00         2\n",
      "                                 MULTIMETERS       0.00      0.00      0.00         1\n",
      "                           MUSICAL_KEYBOARDS       0.00      0.00      0.00         1\n",
      "                                MUSIC_ALBUMS       0.00      0.00      0.00         2\n",
      "                                MUSIC_STANDS       0.00      0.00      0.00         1\n",
      "                            NAIL_ART_BRUSHES       0.00      0.00      0.00         2\n",
      "                               NAIL_STICKERS       0.00      0.00      0.00         1\n",
      "                              NAPKIN_HOLDERS       0.00      0.00      0.00         1\n",
      "                                   NECKLACES       0.00      0.00      0.00         2\n",
      "                                    NETBOOKS       0.00      0.00      0.00         4\n",
      "                              NETWORK_CABLES       0.00      0.00      0.00         4\n",
      "                               NETWORK_CARDS       0.00      0.00      0.00         1\n",
      "                                 NIGHTSTANDS       0.00      0.00      0.00         1\n",
      "         NON_SLIP_BATHTUB_APPLIQUES_AND_MATS       0.00      0.00      0.00         1\n",
      "                                   NOTEBOOKS       0.00      0.00      0.00         3\n",
      "                  NOTEBOOKS_AND_WRITING_PADS       0.00      0.00      0.00         2\n",
      "                               OFFICE_CHAIRS       0.00      0.00      0.00         2\n",
      "                               OIL_DIFFUSERS       0.00      0.00      0.00         1\n",
      "                     ORTHOPEDIC_ANKLE_BRACES       0.00      0.00      0.00         1\n",
      "                          OUTER_TIE_ROD_ENDS       0.00      0.00      0.00         1\n",
      "                                   OXIMETERS       0.00      0.00      0.00         1\n",
      "                        PACKAGING_CONTAINERS       0.00      0.00      0.00         2\n",
      "                       PADDLE_TENNIS_RACKETS       0.00      0.00      0.00         2\n",
      "                                    PADLOCKS       0.00      0.00      0.00         2\n",
      "                               PAINT_BRUSHES       0.00      0.00      0.00         2\n",
      "                               PAINT_ROLLERS       0.00      0.00      0.00         1\n",
      "                                     PAJAMAS       0.00      0.00      0.00         2\n",
      "                                       PANTS       0.00      0.00      0.00         1\n",
      "                       PARKING_BRAKE_HANDLES       0.00      0.00      0.00         1\n",
      "                                 PARTY_MASKS       0.00      0.00      0.00         1\n",
      "                        PARTY_PRINTABLE_KITS       0.00      0.00      0.00         2\n",
      "                        PATIO_FURNITURE_SETS       0.00      0.00      0.00         1\n",
      "                                PC_KEYBOARDS       0.00      0.00      0.00         1\n",
      "                               PEDAL_EFFECTS       0.00      0.00      0.00         1\n",
      "                                     PENCILS       0.00      0.00      0.00         3\n",
      "                                PENCIL_CASES       0.00      0.00      0.00         1\n",
      "                                 PENIS_RINGS       0.00      0.00      0.00         2\n",
      "                                    PENNANTS       0.00      0.00      0.00         1\n",
      "                                        PENS       0.00      0.00      0.00         1\n",
      "                                    PERFUMES       0.00      0.00      0.00         3\n",
      "                                 PET_COLLARS       0.00      0.00      0.00         2\n",
      "                                PHOTOCOPIERS       0.00      0.00      0.00         1\n",
      "                                      PIANOS       0.00      0.00      0.00         1\n",
      "                              PICTURE_FRAMES       0.00      0.00      0.00         2\n",
      "                                     PILLOWS       0.00      0.00      0.00         1\n",
      "                             PIPES_AND_TUBES       0.00      0.00      0.00         2\n",
      "                                   PLACEMATS       0.00      0.00      0.00         2\n",
      "               PLANNERS_AND_PERSONAL_DIARIES       0.00      0.00      0.00         1\n",
      "                                      PLANTS       0.00      0.00      0.00         2\n",
      "                     PLANT_POTS_AND_PLANTERS       0.00      0.00      0.00         3\n",
      "                                 POOL_COVERS       0.00      0.00      0.00         2\n",
      "                            POOL_INFLATABLES       0.01      1.00      0.01         5\n",
      "                                 POOL_LIGHTS       0.00      0.00      0.00         1\n",
      "                             PORCELAIN_TILES       0.00      0.00      0.00         2\n",
      "                 PORTABLE_CELLPHONE_CHARGERS       0.00      0.00      0.00         3\n",
      "                        PORTABLE_DVD_PLAYERS       0.00      0.00      0.00         1\n",
      "                                     POSTERS       0.00      0.00      0.00         4\n",
      "                              POTENTIOMETERS       0.00      0.00      0.00         1\n",
      "                                       POUFS       0.00      0.00      0.00         1\n",
      "                        POWERED_RIDE_ON_TOYS       0.00      0.00      0.00         1\n",
      "                              POWER_GRINDERS       0.00      0.00      0.00         1\n",
      "                                POWER_STRIPS       0.00      0.00      0.00         2\n",
      "                               PREAMPLIFIERS       0.00      0.00      0.00         1\n",
      "                                    PRINTERS       0.00      0.00      0.00         1\n",
      "                             PRINTER_RIBBONS       0.00      0.00      0.00         1\n",
      "                             PROJECTOR_LAMPS       0.00      0.00      0.00         1\n",
      "                               PUREBRED_DOGS       0.00      0.00      0.00         3\n",
      "                                PUZZLE_CUBES       0.00      0.00      0.00         2\n",
      "                              RACKET_STRINGS       0.00      0.00      0.00         1\n",
      "                           RACKS_AND_PINIONS       0.00      0.00      0.00         1\n",
      "                    READY_TO_DRINK_COCKTAILS       0.00      0.00      0.00         1\n",
      "                           REFRIGERANT_GASES       0.00      0.00      0.00         1\n",
      "                               REFRIGERATORS       0.00      0.00      0.00         3\n",
      "                 REMOTE_CONTROL_TOY_VEHICLES       0.00      0.00      0.00         1\n",
      "                                 RESPIRATORS       0.00      0.00      0.00         3\n",
      "                                        RICE       0.00      0.00      0.00         1\n",
      "                               ROLLER_SKATES       0.00      0.00      0.00         2\n",
      "                                  ROOF_RACKS       0.00      0.00      0.00         3\n",
      "                                  ROOF_TILES       0.00      0.00      0.00         1\n",
      "                           ROOSTERS_AND_HENS       0.00      0.00      0.00         1\n",
      "                                     ROUTERS       0.00      0.00      0.00         1\n",
      "                               RUBBER_STAMPS       0.00      0.00      0.00         1\n",
      "                             SAFETY_FOOTWEAR       0.00      0.00      0.00         2\n",
      "                      SANDALS_AND_FLIP_FLOPS       0.00      0.00      0.00         2\n",
      "                             SANDER_MACHINES       0.00      0.00      0.00         1\n",
      "                                  SANDPAPERS       0.00      0.00      0.00         1\n",
      "                                  SAXOPHONES       0.00      0.00      0.00         1\n",
      "                 SCHOOL_AND_OFFICE_ENVELOPES       0.00      0.00      0.00         2\n",
      "                     SCHOOL_AND_OFFICE_GLUES       0.00      0.00      0.00         1\n",
      "                    SCHOOL_AND_OFFICE_PAPERS       0.00      0.00      0.00         3\n",
      "                                    SCOOTERS       0.00      0.00      0.00         1\n",
      "                             SCREEN_PRINTERS       0.00      0.00      0.00         2\n",
      "                                  SCULPTURES       0.00      0.00      0.00         2\n",
      "                      SERVING_AND_HOME_TRAYS       0.00      0.00      0.00         1\n",
      "                             SEWING_MACHINES       0.00      0.00      0.00         2\n",
      "                              SEWING_THREADS       0.00      0.00      0.00         1\n",
      "                            SHAVING_MACHINES       0.00      0.00      0.00         2\n",
      "                      SHOCK_MOUNT_INSOLATORS       0.00      0.00      0.00         2\n",
      "                                      SHORTS       0.00      0.00      0.00         4\n",
      "                                SHOWER_HEADS       0.00      0.00      0.00         2\n",
      "                                 SIDE_TABLES       0.00      0.00      0.00         1\n",
      "                                      SKIRTS       0.00      0.00      0.00         1\n",
      "                               SLEEPING_BAGS       0.00      0.00      0.00         3\n",
      "                                 SNARE_DRUMS       0.00      0.00      0.00         2\n",
      "                                    SNEAKERS       0.00      0.00      0.00         1\n",
      "                          SNOWBOARD_BINDINGS       0.00      0.00      0.00         1\n",
      "                                SOAP_HOLDERS       0.00      0.00      0.00         2\n",
      "                                       SOCKS       0.00      0.00      0.00         1\n",
      "                                       SOFAS       0.00      0.00      0.00         1\n",
      "                             SOLDERING_IRONS       0.00      0.00      0.00         1\n",
      "                          SOLDERING_MACHINES       0.00      0.00      0.00         4\n",
      "                   SORTING_AND_STACKING_TOYS       0.00      0.00      0.00         1\n",
      "                                 SOUND_CARDS       0.00      0.00      0.00         1\n",
      "                                   SOUVENIRS       0.00      0.00      0.00         2\n",
      "                                 SPARK_PLUGS       0.00      0.00      0.00         3\n",
      "                         SPARK_PLUG_WIRESETS       0.00      0.00      0.00         1\n",
      "                                    SPEAKERS       0.00      0.00      0.00         2\n",
      "                           SPHYGMOMANOMETERS       0.00      0.00      0.00         1\n",
      "                               SPORT_WATCHES       0.00      0.00      0.00         1\n",
      "                         STABILIZERS_AND_UPS       0.00      0.00      0.00         4\n",
      "                                    STARTERS       0.00      0.00      0.00         2\n",
      "                                      STOOLS       0.00      0.00      0.00         2\n",
      "                       STORAGE_WATER_HEATERS       0.00      0.00      0.00         2\n",
      "                                STUFFED_TOYS       0.00      0.00      0.00         2\n",
      "                                   SUITCASES       0.00      0.00      0.00         1\n",
      "                                       SUITS       0.00      0.00      0.00         3\n",
      "                                 SUPPLEMENTS       0.00      0.00      0.00         3\n",
      "                SURVEILLANCE_MONITORING_KITS       0.00      0.00      0.00         2\n",
      "                      SUSPENSION_BALL_JOINTS       0.00      0.00      0.00         2\n",
      "             SUSPENSION_CONTROL_ARM_BUSHINGS       0.00      0.00      0.00         2\n",
      "                              SWAY_BAR_LINKS       0.00      0.00      0.00         3\n",
      "                      SWEATERS_AND_CARDIGANS       0.00      0.00      0.00         2\n",
      "                            SWIMMING_GOGGLES       0.00      0.00      0.00         1\n",
      "                                    SYRINGES       0.00      0.00      0.00         1\n",
      "                                 TABLECLOTHS       0.00      0.00      0.00         2\n",
      "                                     TABLETS       0.00      0.00      0.00         1\n",
      "                                TABLET_CASES       0.00      0.00      0.00         1\n",
      "                              TABLEWARE_SETS       0.00      0.00      0.00         1\n",
      "                        TABLE_AND_DESK_LAMPS       0.00      0.00      0.00         1\n",
      "                                TABLE_CLOCKS       0.00      0.00      0.00         1\n",
      "                                TABLE_DRILLS       0.00      0.00      0.00         1\n",
      "                         TABLE_TENNIS_TABLES       0.00      0.00      0.00         1\n",
      "                                         TEA       0.00      0.00      0.00         1\n",
      "                                  TELESCOPES       0.00      0.00      0.00         1\n",
      "                                 TELEVISIONS       0.00      0.00      0.00         1\n",
      "          TELEVISION_MAIN_PLATE_REPLACEMENTS       0.00      0.00      0.00         1\n",
      "                                       TENTS       0.00      0.00      0.00         1\n",
      "                   THERMAL_CUPS_AND_TUMBLERS       0.00      0.00      0.00         1\n",
      "              THERMAL_REFRIGERATORS_AND_BAGS       0.00      0.00      0.00         4\n",
      "                                   THERMOSES       0.00      0.00      0.00         1\n",
      "                                TILE_CUTTERS       0.00      0.00      0.00         1\n",
      "                                     TILLERS       0.00      0.00      0.00         2\n",
      "                               TOILETRY_BAGS       0.00      0.00      0.00         1\n",
      "                              TOILET_BRUSHES       0.00      0.00      0.00         1\n",
      "                        TOILET_PAPER_HOLDERS       0.00      0.00      0.00         1\n",
      "                                TOILET_SEATS       0.00      0.00      0.00         1\n",
      "                                  TOOL_MILLS       0.00      0.00      0.00         2\n",
      "                           TOY_BUILDING_SETS       0.00      0.00      0.00         1\n",
      "                                 TOY_GUITARS       0.00      0.00      0.00         1\n",
      "                                  TOY_ROBOTS       0.00      0.00      0.00         1\n",
      "                                TOY_SOLDIERS       0.00      0.00      0.00         1\n",
      "                          TRADING_CARD_GAMES       0.00      0.00      0.00         2\n",
      "                                 TRANSISTORS       0.00      0.00      0.00         3\n",
      "                                  TREADMILLS       0.00      0.00      0.00         1\n",
      "               TROLLEY_AND_FURNITURE_CASTERS       0.00      0.00      0.00         2\n",
      "                                  TURNTABLES       0.00      0.00      0.00         1\n",
      "                       TV_AND_MONITOR_MOUNTS       0.00      0.00      0.00         1\n",
      "                                 TV_ANTENNAS       0.00      0.00      0.00         1\n",
      "                          TV_REMOTE_CONTROLS       0.00      0.00      0.00         2\n",
      "         TV_REPLACEMENT_BACKLIGHT_LED_STRIPS       0.00      0.00      0.00         3\n",
      "                                   TV_SERIES       0.00      0.00      0.00         1\n",
      "                                     TV_SMPS       0.00      0.00      0.00         2\n",
      "                            TV_STORAGE_UNITS       0.00      0.00      0.00         1\n",
      "                                    T_SHIRTS       0.00      0.00      0.00         3\n",
      "                                    UKULELES       0.00      0.00      0.00         4\n",
      "                                  ULTRABOOKS       0.00      0.00      0.00         1\n",
      "                               UPS_BATTERIES       0.00      0.00      0.00         1\n",
      "                                    USB_HUBS       0.00      0.00      0.00         1\n",
      "                                   VARNISHES       0.00      0.00      0.00         1\n",
      "                         VEHICLE_BRAKE_DISCS       0.00      0.00      0.00         1\n",
      "                          VEHICLE_BRAKE_PADS       0.00      0.00      0.00         1\n",
      "                            VEHICLE_SPEAKERS       0.00      0.00      0.00         1\n",
      "                            VEHICLE_STICKERS       0.00      0.00      0.00         2\n",
      "                            VEHICLE_TRACKERS       0.00      0.00      0.00         1\n",
      "                                       VESTS       0.00      0.00      0.00         2\n",
      "                                   VIBRATORS       0.00      0.00      0.00         1\n",
      "                               VIDEO_CAMERAS       0.00      0.00      0.00         2\n",
      "                                 VIDEO_GAMES       0.00      0.00      0.00         2\n",
      "                    VIDEO_GAME_PREPAID_CARDS       1.00      1.00      1.00         5\n",
      "                                 VINYL_ROLLS       0.00      0.00      0.00         1\n",
      "                                       VISES       0.00      0.00      0.00         1\n",
      "                          VOLTAGE_REGULATORS       0.00      0.00      0.00         1\n",
      "                               WAFFLE_MAKERS       0.00      0.00      0.00         1\n",
      "                              WALKIE_TALKIES       0.00      0.00      0.00         1\n",
      "                                     WALLETS       0.00      0.00      0.00         3\n",
      "                                 WALL_CLOCKS       0.00      0.00      0.00         3\n",
      "                         WALL_LIGHT_SWITCHES       0.00      0.00      0.00         1\n",
      "                            WASHING_MACHINES       0.00      0.00      0.00         1\n",
      "                                 WATER_TANKS       0.00      0.00      0.00         1\n",
      "                         WELDING_BLOWTORCHES       0.00      0.00      0.00         1\n",
      "                                    WETSUITS       0.00      0.00      0.00         1\n",
      "                             WHEELS_BEARINGS       0.00      0.00      0.00         1\n",
      "                                    WHISKEYS       0.00      0.00      0.00         1\n",
      "                                     WINDOWS       0.00      0.00      0.00         1\n",
      "          WINDSHIELD_WASHER_FLUID_RESERVOIRS       0.00      0.00      0.00         1\n",
      "                           WINDSHIELD_WIPERS       0.00      0.00      0.00         4\n",
      "                                       WINES       0.00      0.00      0.00         1\n",
      "                                WINE_CELLARS       0.00      0.00      0.00         1\n",
      "                              WOMEN_SWIMWEAR       0.00      0.00      0.00         2\n",
      "                              WOOD_FLOORINGS       0.00      0.00      0.00         1\n",
      "                                    WRENCHES       0.00      0.00      0.00         2\n",
      "                                 WRENCH_SETS       0.00      0.00      0.00         2\n",
      "                                WRISTWATCHES       0.00      0.00      0.00         3\n",
      "                                  XENON_KITS       0.00      0.00      0.00         1\n",
      "\n",
      "                                    accuracy                           0.02      1000\n",
      "                                   macro avg       0.00      0.01      0.00      1000\n",
      "                                weighted avg       0.01      0.02      0.01      1000\n",
      "\n"
     ]
    },
    {
     "name": "stderr",
     "output_type": "stream",
     "text": [
      "/Users/ignacio/anaconda3/lib/python3.7/site-packages/sklearn/metrics/classification.py:1437: UndefinedMetricWarning: Precision and F-score are ill-defined and being set to 0.0 in labels with no predicted samples.\n",
      "  'precision', 'predicted', average, warn_for)\n"
     ]
    }
   ],
   "source": [
    "from sklearn.metrics import classification_report\n",
    "print(classification_report(Y, grid_svc.predict(df_tfidf_es)))"
   ]
  },
  {
   "cell_type": "code",
   "execution_count": null,
   "metadata": {},
   "outputs": [],
   "source": []
  },
  {
   "cell_type": "code",
   "execution_count": null,
   "metadata": {},
   "outputs": [],
   "source": []
  },
  {
   "cell_type": "code",
   "execution_count": null,
   "metadata": {},
   "outputs": [],
   "source": []
  },
  {
   "cell_type": "code",
   "execution_count": null,
   "metadata": {},
   "outputs": [],
   "source": []
  },
  {
   "cell_type": "code",
   "execution_count": null,
   "metadata": {},
   "outputs": [],
   "source": []
  },
  {
   "cell_type": "markdown",
   "metadata": {},
   "source": [
    "-----"
   ]
  },
  {
   "cell_type": "code",
   "execution_count": 10,
   "metadata": {},
   "outputs": [],
   "source": [
    "import dask.dataframe as dd\n",
    "import dask.distributed\n",
    "import os\n"
   ]
  },
  {
   "cell_type": "code",
   "execution_count": 7,
   "metadata": {},
   "outputs": [],
   "source": [
    "c = dask.distributed.Client()\n"
   ]
  },
  {
   "cell_type": "code",
   "execution_count": 8,
   "metadata": {},
   "outputs": [
    {
     "data": {
      "text/html": [
       "<div>\n",
       "<style scoped>\n",
       "    .dataframe tbody tr th:only-of-type {\n",
       "        vertical-align: middle;\n",
       "    }\n",
       "\n",
       "    .dataframe tbody tr th {\n",
       "        vertical-align: top;\n",
       "    }\n",
       "\n",
       "    .dataframe thead th {\n",
       "        text-align: right;\n",
       "    }\n",
       "</style>\n",
       "<table border=\"1\" class=\"dataframe\">\n",
       "  <thead>\n",
       "    <tr style=\"text-align: right;\">\n",
       "      <th></th>\n",
       "      <th>title</th>\n",
       "      <th>label_quality</th>\n",
       "      <th>language</th>\n",
       "      <th>category</th>\n",
       "    </tr>\n",
       "  </thead>\n",
       "  <tbody>\n",
       "    <tr>\n",
       "      <th>0</th>\n",
       "      <td>Hidrolavadora Lavor One 120 Bar 1700w  Bomba A...</td>\n",
       "      <td>unreliable</td>\n",
       "      <td>spanish</td>\n",
       "      <td>ELECTRIC_PRESSURE_WASHERS</td>\n",
       "    </tr>\n",
       "    <tr>\n",
       "      <th>1</th>\n",
       "      <td>Placa De Sonido - Behringer Umc22</td>\n",
       "      <td>unreliable</td>\n",
       "      <td>spanish</td>\n",
       "      <td>SOUND_CARDS</td>\n",
       "    </tr>\n",
       "    <tr>\n",
       "      <th>2</th>\n",
       "      <td>Maquina De Lavar Electrolux 12 Kilos</td>\n",
       "      <td>unreliable</td>\n",
       "      <td>portuguese</td>\n",
       "      <td>WASHING_MACHINES</td>\n",
       "    </tr>\n",
       "    <tr>\n",
       "      <th>3</th>\n",
       "      <td>Par Disco De Freio Diant Vent Gol 8v 08/ Frema...</td>\n",
       "      <td>unreliable</td>\n",
       "      <td>portuguese</td>\n",
       "      <td>VEHICLE_BRAKE_DISCS</td>\n",
       "    </tr>\n",
       "    <tr>\n",
       "      <th>4</th>\n",
       "      <td>Flashes Led Pestañas Luminoso Falso Pestañas P...</td>\n",
       "      <td>unreliable</td>\n",
       "      <td>spanish</td>\n",
       "      <td>FALSE_EYELASHES</td>\n",
       "    </tr>\n",
       "  </tbody>\n",
       "</table>\n",
       "</div>"
      ],
      "text/plain": [
       "                                               title label_quality  \\\n",
       "0  Hidrolavadora Lavor One 120 Bar 1700w  Bomba A...    unreliable   \n",
       "1                  Placa De Sonido - Behringer Umc22    unreliable   \n",
       "2               Maquina De Lavar Electrolux 12 Kilos    unreliable   \n",
       "3  Par Disco De Freio Diant Vent Gol 8v 08/ Frema...    unreliable   \n",
       "4  Flashes Led Pestañas Luminoso Falso Pestañas P...    unreliable   \n",
       "\n",
       "     language                   category  \n",
       "0     spanish  ELECTRIC_PRESSURE_WASHERS  \n",
       "1     spanish                SOUND_CARDS  \n",
       "2  portuguese           WASHING_MACHINES  \n",
       "3  portuguese        VEHICLE_BRAKE_DISCS  \n",
       "4     spanish            FALSE_EYELASHES  "
      ]
     },
     "execution_count": 8,
     "metadata": {},
     "output_type": "execute_result"
    }
   ],
   "source": [
    "dask_df = dd.read_csv('train.csv')\n",
    "dask_df.head()"
   ]
  },
  {
   "cell_type": "code",
   "execution_count": 11,
   "metadata": {},
   "outputs": [],
   "source": [
    "# Executed only once\n",
    "#target = os.path.join('data', 'train.parquet')\n",
    "#\n",
    "#dask_df.categorize(columns=['label_quality', 'language', 'category']).to_parquet(target, has_nulls=False)"
   ]
  },
  {
   "cell_type": "code",
   "execution_count": 12,
   "metadata": {},
   "outputs": [
    {
     "data": {
      "text/html": [
       "<div>\n",
       "<style scoped>\n",
       "    .dataframe tbody tr th:only-of-type {\n",
       "        vertical-align: middle;\n",
       "    }\n",
       "\n",
       "    .dataframe tbody tr th {\n",
       "        vertical-align: top;\n",
       "    }\n",
       "\n",
       "    .dataframe thead th {\n",
       "        text-align: right;\n",
       "    }\n",
       "</style>\n",
       "<table border=\"1\" class=\"dataframe\">\n",
       "  <thead>\n",
       "    <tr style=\"text-align: right;\">\n",
       "      <th></th>\n",
       "      <th>title</th>\n",
       "      <th>label_quality</th>\n",
       "      <th>language</th>\n",
       "      <th>category</th>\n",
       "    </tr>\n",
       "  </thead>\n",
       "  <tbody>\n",
       "    <tr>\n",
       "      <th>0</th>\n",
       "      <td>Hidrolavadora Lavor One 120 Bar 1700w  Bomba A...</td>\n",
       "      <td>unreliable</td>\n",
       "      <td>spanish</td>\n",
       "      <td>ELECTRIC_PRESSURE_WASHERS</td>\n",
       "    </tr>\n",
       "    <tr>\n",
       "      <th>1</th>\n",
       "      <td>Placa De Sonido - Behringer Umc22</td>\n",
       "      <td>unreliable</td>\n",
       "      <td>spanish</td>\n",
       "      <td>SOUND_CARDS</td>\n",
       "    </tr>\n",
       "    <tr>\n",
       "      <th>2</th>\n",
       "      <td>Maquina De Lavar Electrolux 12 Kilos</td>\n",
       "      <td>unreliable</td>\n",
       "      <td>portuguese</td>\n",
       "      <td>WASHING_MACHINES</td>\n",
       "    </tr>\n",
       "    <tr>\n",
       "      <th>3</th>\n",
       "      <td>Par Disco De Freio Diant Vent Gol 8v 08/ Frema...</td>\n",
       "      <td>unreliable</td>\n",
       "      <td>portuguese</td>\n",
       "      <td>VEHICLE_BRAKE_DISCS</td>\n",
       "    </tr>\n",
       "    <tr>\n",
       "      <th>4</th>\n",
       "      <td>Flashes Led Pestañas Luminoso Falso Pestañas P...</td>\n",
       "      <td>unreliable</td>\n",
       "      <td>spanish</td>\n",
       "      <td>FALSE_EYELASHES</td>\n",
       "    </tr>\n",
       "  </tbody>\n",
       "</table>\n",
       "</div>"
      ],
      "text/plain": [
       "                                               title label_quality  \\\n",
       "0  Hidrolavadora Lavor One 120 Bar 1700w  Bomba A...    unreliable   \n",
       "1                  Placa De Sonido - Behringer Umc22    unreliable   \n",
       "2               Maquina De Lavar Electrolux 12 Kilos    unreliable   \n",
       "3  Par Disco De Freio Diant Vent Gol 8v 08/ Frema...    unreliable   \n",
       "4  Flashes Led Pestañas Luminoso Falso Pestañas P...    unreliable   \n",
       "\n",
       "     language                   category  \n",
       "0     spanish  ELECTRIC_PRESSURE_WASHERS  \n",
       "1     spanish                SOUND_CARDS  \n",
       "2  portuguese           WASHING_MACHINES  \n",
       "3  portuguese        VEHICLE_BRAKE_DISCS  \n",
       "4     spanish            FALSE_EYELASHES  "
      ]
     },
     "execution_count": 12,
     "metadata": {},
     "output_type": "execute_result"
    }
   ],
   "source": [
    "df_p = dd.read_parquet(target)\n",
    "df_p.head()"
   ]
  },
  {
   "cell_type": "code",
   "execution_count": 25,
   "metadata": {},
   "outputs": [
    {
     "name": "stdout",
     "output_type": "stream",
     "text": [
      "CPU times: user 2.36 s, sys: 312 ms, total: 2.67 s\n",
      "Wall time: 26 s\n"
     ]
    },
    {
     "data": {
      "text/plain": [
       "((20000000, 4),)"
      ]
     },
     "execution_count": 25,
     "metadata": {},
     "output_type": "execute_result"
    }
   ],
   "source": [
    "%time dask.compute(df_p.shape)"
   ]
  },
  {
   "cell_type": "code",
   "execution_count": 13,
   "metadata": {},
   "outputs": [
    {
     "data": {
      "text/plain": [
       "title              object\n",
       "label_quality    category\n",
       "language         category\n",
       "category         category\n",
       "dtype: object"
      ]
     },
     "execution_count": 13,
     "metadata": {},
     "output_type": "execute_result"
    }
   ],
   "source": [
    "df_p.dtypes"
   ]
  },
  {
   "cell_type": "code",
   "execution_count": 30,
   "metadata": {},
   "outputs": [
    {
     "name": "stdout",
     "output_type": "stream",
     "text": [
      "CPU times: user 2.93 s, sys: 356 ms, total: 3.29 s\n",
      "Wall time: 36 s\n"
     ]
    },
    {
     "data": {
      "text/plain": [
       "PANTS                                   35973\n",
       "COFFEE_MAKERS                           35104\n",
       "BABY_CAR_SEATS                          34163\n",
       "MUSICAL_KEYBOARDS                       33222\n",
       "MATTRESSES                              32967\n",
       "PUREBRED_DOGS                           32928\n",
       "RANGES                                  32645\n",
       "REFRIGERATORS                           32635\n",
       "MOTORCYCLE_JACKETS                      32615\n",
       "HAIR_CLIPPERS                           32372\n",
       "SHORTS                                  31685\n",
       "SUITCASES                               31580\n",
       "MEMORY_CARDS                            31564\n",
       "WINES                                   31399\n",
       "ROLLER_SKATES                           31371\n",
       "BABY_STROLLERS                          31353\n",
       "SEWING_MACHINES                         31129\n",
       "ELECTRIC_DRILLS                         30820\n",
       "KITCHEN_SINKS                           30635\n",
       "WALL_CLOCKS                             30600\n",
       "FLASHLIGHTS                             29960\n",
       "CV_JOINTS                               29676\n",
       "SWEATERS_AND_CARDIGANS                  29608\n",
       "BOOKS                                   29464\n",
       "PORTABLE_GENERATORS                     29384\n",
       "BOOKCASES                               29372\n",
       "AIR_COMPRESSORS                         29259\n",
       "TV_AND_MONITOR_MOUNTS                   29214\n",
       "CHOCOLATES                              29038\n",
       "RACQUETS                                28980\n",
       "                                        ...  \n",
       "STORE_SHOPPING_CARTS                      593\n",
       "ANGLE_CLAMPS                              577\n",
       "INFLATABLE_SLIDES                         569\n",
       "INDUSTRIAL_BLENDERS                       569\n",
       "FOOD_AND_DRINK_COLORINGS                  562\n",
       "WAITER_CALLING_SYSTEMS                    544\n",
       "FOOT_BATH_MASSAGERS                       519\n",
       "HARD_DRIVE_AND_SSD_ADAPTER_CABLES         507\n",
       "3D_PENS                                   507\n",
       "CANOES                                    486\n",
       "TILE_AND_CLADDING_ADHESIVE_MIXTURES       484\n",
       "CHECKOUT_COUNTERS                         431\n",
       "SAPO_GAMES                                426\n",
       "CPR_TRAINING_MANIKINS                     416\n",
       "WAKEBOARD_BOOTS                           387\n",
       "MARTIAL_ARTS_CHEST_GUARDS                 327\n",
       "LENTILS                                   313\n",
       "PLATE_COMPACTORS                          305\n",
       "BOXING_SPEED_BAGS                         288\n",
       "MANUAL_TROLLEYS                           277\n",
       "SCALE_RULERS                              266\n",
       "QUEUE_STANCHIONS                          253\n",
       "STADIOMETERS                              229\n",
       "HONEY_EXTRACTORS                          216\n",
       "FORCE_GAUGES                              213\n",
       "CONSTRUCTION_LIME_BAGS                    206\n",
       "COLD_FOOD_AND_DRINK_VENDING_MACHINES      162\n",
       "PAINTBALL_SMOKE_GRENADES                  154\n",
       "COMMERCIAL_POPCORN_MACHINES               141\n",
       "HAMBURGER_FORMERS                         109\n",
       "Name: category, Length: 1588, dtype: int64"
      ]
     },
     "execution_count": 30,
     "metadata": {},
     "output_type": "execute_result"
    }
   ],
   "source": [
    "%time dask_df.category.value_counts().compute()"
   ]
  },
  {
   "cell_type": "code",
   "execution_count": null,
   "metadata": {},
   "outputs": [],
   "source": []
  },
  {
   "cell_type": "code",
   "execution_count": null,
   "metadata": {},
   "outputs": [],
   "source": []
  },
  {
   "cell_type": "code",
   "execution_count": null,
   "metadata": {},
   "outputs": [],
   "source": []
  },
  {
   "cell_type": "code",
   "execution_count": null,
   "metadata": {},
   "outputs": [],
   "source": []
  },
  {
   "cell_type": "code",
   "execution_count": null,
   "metadata": {},
   "outputs": [],
   "source": []
  },
  {
   "cell_type": "code",
   "execution_count": null,
   "metadata": {},
   "outputs": [],
   "source": []
  }
 ],
 "metadata": {
  "kernelspec": {
   "display_name": "Python 3",
   "language": "python",
   "name": "python3"
  },
  "language_info": {
   "codemirror_mode": {
    "name": "ipython",
    "version": 3
   },
   "file_extension": ".py",
   "mimetype": "text/x-python",
   "name": "python",
   "nbconvert_exporter": "python",
   "pygments_lexer": "ipython3",
   "version": "3.7.3"
  }
 },
 "nbformat": 4,
 "nbformat_minor": 4
}
